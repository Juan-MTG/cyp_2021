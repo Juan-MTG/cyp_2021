{
  "nbformat": 4,
  "nbformat_minor": 0,
  "metadata": {
    "colab": {
      "name": "Tarea3_cyp.ipynb",
      "provenance": [],
      "authorship_tag": "ABX9TyPKHJjy6RGaKnwxUh2e3ADq",
      "include_colab_link": true
    },
    "kernelspec": {
      "name": "python3",
      "display_name": "Python 3"
    }
  },
  "cells": [
    {
      "cell_type": "markdown",
      "metadata": {
        "id": "view-in-github",
        "colab_type": "text"
      },
      "source": [
        "<a href=\"https://colab.research.google.com/github/Juan-MTG/cyp_2021/blob/main/Tarea3_cyp.ipynb\" target=\"_parent\"><img src=\"https://colab.research.google.com/assets/colab-badge.svg\" alt=\"Open In Colab\"/></a>"
      ]
    },
    {
      "cell_type": "code",
      "metadata": {
        "colab": {
          "base_uri": "https://localhost:8080/"
        },
        "id": "3LAlPQFN6Kfr",
        "outputId": "fde15658-1fde-4273-c3cc-b1c6613e72a2"
      },
      "source": [
        "#TAREA 3 DE CyP\n",
        "#PROGRAMA 1.6 (PROBLEMA 1.1) VUELTO_DE_UN_PAGO\n",
        "\n",
        "#Declaración de variables\n",
        "PREPRO=0 #Costo del producto\n",
        "PAGO=0 #Pago\n",
        "DEVO= 0 #Cambio\n",
        "\n",
        "#Introducción de información\n",
        "PREPRO= float(input(\"COSTO DEL PRODUCTO: \"))\n",
        "PAGO= float(input(\"PAGO: \"))\n",
        "\n",
        "#Operación para dar el cambio\n",
        "#NOTA: suponemos que el pago del cliente es mayor que el costo del producto\n",
        "DEVO= PAGO - PREPRO \n",
        "\n",
        "#Impresión del cambio\n",
        "print(\"CAMBIO: \",DEVO)\n"
      ],
      "execution_count": 2,
      "outputs": [
        {
          "output_type": "stream",
          "text": [
            "COSTO DEL PRODUCTO: 86.25\n",
            "PAGO: 100\n",
            "CAMBIO:  13.75\n"
          ],
          "name": "stdout"
        }
      ]
    },
    {
      "cell_type": "code",
      "metadata": {
        "colab": {
          "base_uri": "https://localhost:8080/"
        },
        "id": "EUde7g6PBRX9",
        "outputId": "a3756af8-fbc6-4e31-b747-e1c801acc4f8"
      },
      "source": [
        "#PROGRAMA 1.7  (PROBLEMA 1.2) SUPERFICIE_TRIÁNGULO\n",
        "\n",
        "#Declaración de variables\n",
        "BASE= 0\n",
        "ALTU= 0\n",
        "SUP= 0\n",
        "\n",
        "#Introducción de valores\n",
        "BASE= float(input(\"BASE DEL TRIÁNGULO: \"))\n",
        "ALTU= float(input(\"ALTURA DEL TRIÁNGULO: \"))\n",
        "\n",
        "#Cálculo de la superficie del triángulo \n",
        "SUP= (BASE*ALTU)/2\n",
        "\n",
        "#Impresión de la superficie\n",
        "print (\"SUPERFICIE DEL TRIÁNGULO: \",SUP)"
      ],
      "execution_count": 4,
      "outputs": [
        {
          "output_type": "stream",
          "text": [
            "BASE DEL TRIÁNGULO: 120.60\n",
            "ALTURA DEL TRIÁNGULO: 85.90\n",
            "SUPERFICIE DEL TRIÁNGULO:  5179.77\n"
          ],
          "name": "stdout"
        }
      ]
    },
    {
      "cell_type": "code",
      "metadata": {
        "colab": {
          "base_uri": "https://localhost:8080/"
        },
        "id": "ywnQ8jMeC3ZB",
        "outputId": "a095634e-c33b-449d-f06a-26964323bcc6"
      },
      "source": [
        "#PROGRAMA 1.8 (PROBLEMA 1.3) DINOSAURIO\n",
        "\n",
        "#Declaración de variables\n",
        "NOM=0 #Nombre del dinosaurio\n",
        "PESO=0 #Peso expresado en toneladas\n",
        "LON=0 # Longitud expresada en pies\n",
        "PESK= 0 #Peso expresado en Kilogramos\n",
        "LONM=0 # Longitud expresada en metros\n",
        "\n",
        "#Introducción de información\n",
        "NOM= input(\"NOMBRE DEL DINOSAURIO: \")\n",
        "PESO=int (input(\"PESO DEL DINOSAURIO EN TONELADAS: \")) \n",
        "LON=int (input(\"LONGITUD DEL DINOSAURIO EN PIES: \") )\n",
        "\n",
        "#Conversión de unidades\n",
        "#NOTA: La tonelada equivale 1000 kg y El pie equivale a 0.3047 metros\n",
        "\n",
        "PESK= PESO*1000 #Conversión de toneladas a kilogramos\n",
        "LONM= LON*0.3047 #Conversión de pies a metros\n",
        "\n",
        "#Impresión de resultados\n",
        "print('') #Espacio para que en la impresión no se vea tan amontonado :v\n",
        "print(\"NOMBRE: \", NOM)\n",
        "print(\"PESO EN KILOGRAMOS: \", PESK)\n",
        "print(\"LONGITUD EN METROS\", LONM)\n"
      ],
      "execution_count": 9,
      "outputs": [
        {
          "output_type": "stream",
          "text": [
            "NOMBRE DEL DINOSAURIO: BRONTOSAURUS\n",
            "PESO DEL DINOSAURIO EN TONELADAS: 25\n",
            "LONGITUD DEL DINOSAURIO EN PIES: 70\n",
            "\n",
            "NOMBRE:  BRONTOSAURUS\n",
            "PESO EN KILOGRAMOS:  25000\n",
            "LONGITUD EN METROS 21.329\n"
          ],
          "name": "stdout"
        }
      ]
    },
    {
      "cell_type": "code",
      "metadata": {
        "colab": {
          "base_uri": "https://localhost:8080/"
        },
        "id": "0lK9UJNYIJSH",
        "outputId": "77b1eaf9-d99b-4d3b-d283-1bcce18abbf9"
      },
      "source": [
        "#PROGRAMA 1.9 (PROBLEMA 1.4) GASOLINERIA\n",
        "\n",
        "#Declaración de variables\n",
        "GAL=0\n",
        "TOTAL=0\n",
        "\n",
        "#Lectura del núero de galones\n",
        "GAL= float (input(\"Número de galones de gasolina: \"))\n",
        "\n",
        "#Conversión al precio al cliente\n",
        "#Nota: Cada galón tiene 3.785 L\n",
        "#Nota: El precio del litro es 8.20 pesos (bueno fuera :,v)\n",
        "\n",
        "TOTAL= (GAL*3.785)*8.20\n",
        "\n",
        "#Impresión del precio al cliente\n",
        "print(\"TOTAL A PAGAR: \", TOTAL)"
      ],
      "execution_count": 11,
      "outputs": [
        {
          "output_type": "stream",
          "text": [
            "Número de galones de gasolina: 19.90\n",
            "TOTAL A PAGAR:  617.6363\n"
          ],
          "name": "stdout"
        }
      ]
    },
    {
      "cell_type": "code",
      "metadata": {
        "colab": {
          "base_uri": "https://localhost:8080/"
        },
        "id": "Mblz79aUKOBb",
        "outputId": "9fe7490c-1b36-4c37-9e81-a64a5c63bc25"
      },
      "source": [
        "#PROGRAMA 1.10 (PROBLEMA 1.5) CÍRCULO_SUP_VOL\n",
        "\n",
        "#Declaración de variables\n",
        "RADIO=0 #Radio del cilindro\n",
        "ALTU=0 # Altura del cilindro\n",
        "VOL=0 #Volumen del cilindro\n",
        "AREA=0 #Área del cilindro\n",
        "\n",
        "#Introducción de valores\n",
        "RADIO= float(input(\"RADIO DEL CILINDRO: \"))\n",
        "ALTU= float(input(\"ALTURA DEL CILINDRO: \"))\n",
        "\n",
        "#Cálculo del volumen y el área \n",
        "\"\"\"NOTA: El volumen se encuentra multiplicando \"pi\" por \n",
        "el radio al cuadrado por la altura\"\"\"\n",
        "\"\"\"NOTA: El área se encuentra multiplicando \"2\"por \"pi\" por \n",
        "el radio por la altura\"\"\"\n",
        "VOL= 3.141592*(RADIO**2)*ALTU\n",
        "AREA= 2*3.141592*RADIO*ALTU\n",
        "\n",
        "#Impresión de resultados\n",
        "print(\"VOLUMEN: \",VOL)\n",
        "print(\"ÁREA: \",AREA)\n"
      ],
      "execution_count": 12,
      "outputs": [
        {
          "output_type": "stream",
          "text": [
            "RADIO DEL CILINDRO: 125.30\n",
            "ALTURA DEL CILINDRO: 117.40\n",
            "VOLUMEN:  5790552.7366210725\n",
            "ÁREA:  92427.01894048002\n"
          ],
          "name": "stdout"
        }
      ]
    },
    {
      "cell_type": "code",
      "metadata": {
        "colab": {
          "base_uri": "https://localhost:8080/"
        },
        "id": "KRy8Ff9Ed6Uz",
        "outputId": "33b9f5a1-1ec9-43b6-ad59-23fe2dac9fd2"
      },
      "source": [
        "#PROGRAMA 1.11 (PROBLEMA 1.6) SEGUNDOS_EN_DIAS\n",
        "\n",
        "#Declaración de variables\n",
        "DIAS= 0 # Número de días\n",
        "SEG=0 #Número de segundos\n",
        "\n",
        "#Introducción de valores\n",
        "DIAS=int(input(\"DIAS: \"))\n",
        "\n",
        "#Cálculo de los segundos\n",
        "#NOTA: el número de segundos en un día es de 86400 segundos\n",
        "SEG= DIAS*86400\n",
        "\n",
        "#Impresión de resultados\n",
        "print(\"Número de segundos: \",SEG)"
      ],
      "execution_count": 14,
      "outputs": [
        {
          "output_type": "stream",
          "text": [
            "DIAS: 116\n",
            "Número de segundos:  10022400\n"
          ],
          "name": "stdout"
        }
      ]
    }
  ]
}