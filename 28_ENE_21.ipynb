{
  "nbformat": 4,
  "nbformat_minor": 0,
  "metadata": {
    "colab": {
      "name": "28_ENE_21.ipynb",
      "provenance": [],
      "authorship_tag": "ABX9TyPtee7QFco+dWbIjeqvCQV1",
      "include_colab_link": true
    },
    "kernelspec": {
      "name": "python3",
      "display_name": "Python 3"
    }
  },
  "cells": [
    {
      "cell_type": "markdown",
      "metadata": {
        "id": "view-in-github",
        "colab_type": "text"
      },
      "source": [
        "<a href=\"https://colab.research.google.com/github/Juan-MTG/cyp_2021/blob/main/28_ENE_21.ipynb\" target=\"_parent\"><img src=\"https://colab.research.google.com/assets/colab-badge.svg\" alt=\"Open In Colab\"/></a>"
      ]
    },
    {
      "cell_type": "markdown",
      "metadata": {
        "id": "MTSOPSgZBiLC"
      },
      "source": [
        "#TUPLAS\r\n",
        "\r\n",
        "- Tipo de dato lineal, estructura de datos.\r\n",
        "- No mutable\r\n",
        "- Puede contener de 0 a n elementos\r\n",
        "- Se declara con \" ( 'y' )\"\r\n",
        "- No puedes agregar, ni eliminar elementos.\r\n",
        "- Pueden ser anidadas.\r\n",
        "- Los argumentos a una función son enviados como tuplas."
      ]
    },
    {
      "cell_type": "code",
      "metadata": {
        "colab": {
          "base_uri": "https://localhost:8080/"
        },
        "id": "cKIjTGzuBcus",
        "outputId": "70a9155f-40ea-46e3-bd6d-221a0ed39ec6"
      },
      "source": [
        "frutas = ('Sandía','Melón','Limón','Mango','Melón')#TUPLA\r\n",
        "print(frutas)\r\n",
        "print(frutas[1:3:1])\r\n",
        "print(frutas.count('Melón'))\r\n",
        "#Son inmutables\r\n",
        "# frutas[1]='manzana'\r\n",
        "\r\n",
        "# ¿Para qué se usan?\r\n",
        "conexion = ('132.248.12.12', 3306, 'cyp_bd', 'usr_test','1234dios')\r\n",
        "print(f\"usuario: {conexion[3]} y passwd:{conexion [4]}\")"
      ],
      "execution_count": 9,
      "outputs": [
        {
          "output_type": "stream",
          "text": [
            "('Sandía', 'Melón', 'Limón', 'Mango', 'Melón')\n",
            "('Melón', 'Limón')\n",
            "2\n",
            "usuario: usr_test y passwd:1234dios\n"
          ],
          "name": "stdout"
        }
      ]
    },
    {
      "cell_type": "code",
      "metadata": {
        "colab": {
          "base_uri": "https://localhost:8080/"
        },
        "id": "oXsbnRuqBh3v",
        "outputId": "977d70c7-c8dd-4c5c-b030-af1bfb9ee4c1"
      },
      "source": [
        "print(dir(frutas))"
      ],
      "execution_count": 3,
      "outputs": [
        {
          "output_type": "stream",
          "text": [
            "['__add__', '__class__', '__contains__', '__delattr__', '__dir__', '__doc__', '__eq__', '__format__', '__ge__', '__getattribute__', '__getitem__', '__getnewargs__', '__gt__', '__hash__', '__init__', '__init_subclass__', '__iter__', '__le__', '__len__', '__lt__', '__mul__', '__ne__', '__new__', '__reduce__', '__reduce_ex__', '__repr__', '__rmul__', '__setattr__', '__sizeof__', '__str__', '__subclasshook__', 'count', 'index']\n"
          ],
          "name": "stdout"
        }
      ]
    },
    {
      "cell_type": "markdown",
      "metadata": {
        "id": "kAMygFm1GISt"
      },
      "source": [
        "# Diccionarios\r\n",
        "- Estructura de datos semi lineal.\r\n",
        "- Formada por pares, llave-valor.\r\n",
        "- Equivalentes al tipo de dato JSON, de el lenguaje JavaScript.\r\n",
        "- Utiliza organización por función de dispersión.\r\n",
        "- Se declara con los elementos \"{'y'}\"\r\n",
        "- El selector usa valores tipo string (llave)\r\n",
        "- No se puede seleccionar por offset[1]\r\n",
        "- Son mutables\r\n",
        "\r\n",
        "Un diccionario inicia con '{' y termina en '}'\r\n",
        "después puede haber 'espacio en blanco'-- luego va una llave #La llave siempre en string--- luego puede haber 'espacio en blanco'---posterior van \" : \" --luego puede haber más espacios en blanco----luego el valor----finalmente se puede repetir el proceso y guardar más datos en el diccionario--- se cierra con una \"}\""
      ]
    },
    {
      "cell_type": "code",
      "metadata": {
        "colab": {
          "base_uri": "https://localhost:8080/"
        },
        "id": "c1Rfykt4JRz0",
        "outputId": "3b7b2c02-c7b1-4740-efec-1b64b71ebd47"
      },
      "source": [
        "#JUAN MIGUEL\r\n",
        "alumno = {'nombre':'Juan Pérez','edad':18,\r\n",
        "          'altura':1.71,'estatus':'Aprobado',\r\n",
        "          'numeros':[555645902, 55326372]}\r\n",
        "print(alumno)\r\n",
        "print( alumno ['numeros'])\r\n",
        "print( f\"Número del alumno{alumno ['numeros'][1]}\\n\")\r\n",
        "\r\n",
        "#YAEL ARAM\r\n",
        "materia = [\"Algebra\", \"Computadoras y Programacion\",\r\n",
        "           \"Calculo Diferencial e Integral\", \"Introduccion a la Ingenieria\", \r\n",
        "           \"Geometria Analitica\"]\r\n",
        "alumno = {\"ID\" : (123456789), \"Nombre\" : \"Yael\", \"Apellido\" :\r\n",
        "          \"Castillo\", \"Edad\" : 20, \"Escuela\" : \"FES Aragon\", \r\n",
        "          \"Materia\" : materia}\r\n",
        "for i in alumno:\r\n",
        "    print(f\"Clave: {i} - Valor: {alumno[i]}\")\r\n",
        "print('')\r\n"
      ],
      "execution_count": 23,
      "outputs": [
        {
          "output_type": "stream",
          "text": [
            "{'nombre': 'Juan Pérez', 'edad': 18, 'altura': 1.71, 'estatus': 'Aprobado', 'numeros': [555645902, 55326372]}\n",
            "[555645902, 55326372]\n",
            "Número del alumno555645902\n",
            "\n",
            "Clave: ID - Valor: 123456789\n",
            "Clave: Nombre - Valor: Yael\n",
            "Clave: Apellido - Valor: Castillo\n",
            "Clave: Edad - Valor: 20\n",
            "Clave: Escuela - Valor: FES Aragon\n",
            "Clave: Materia - Valor: ['Algebra', 'Computadoras y Programacion', 'Calculo Diferencial e Integral', 'Introduccion a la Ingenieria', 'Geometria Analitica']\n",
            "\n",
            "{'nombre': 'Juan Pérez', 'edad': 18, 'Matricula': 312193, 'calificaciones': {'Mate': 8, 'ciencias': 9, 'ingles': 8}, 'aprobado': True}\n",
            "Juan Pérez\n",
            "{'Mate': 8, 'ciencias': 9, 'ingles': 8}\n",
            "8\n",
            "JUAN PÉREZ\n"
          ],
          "name": "stdout"
        }
      ]
    },
    {
      "cell_type": "code",
      "metadata": {
        "colab": {
          "base_uri": "https://localhost:8080/"
        },
        "id": "eD3pIcp1TtlN",
        "outputId": "e84f8381-269d-481e-ab74-1b9170e05b75"
      },
      "source": [
        "#KARELI\r\n",
        "alumno = { 'nombre' : 'Juan Pérez', 'edad' : 18, \r\n",
        "          'Matricula': 312193, \r\n",
        "          'calificaciones' : {'Mate': 8, 'ciencias': 9, 'ingles': 8},\r\n",
        "          'aprobado' : True,\r\n",
        "          'direccion': {'calle':'francisco villa'}}\r\n",
        "print(alumno)\r\n",
        "print(alumno['nombre'])\r\n",
        "print(alumno['calificaciones'])\r\n",
        "print(alumno['calificaciones']['ingles'])\r\n",
        "print(alumno['nombre'].upper())\r\n",
        "print(\"------------------------\")\r\n",
        "print(alumno)\r\n",
        "alumno['seguro']= True\r\n",
        "print(alumno)\r\n",
        "print(\"------------------------\")\r\n",
        "alumno['direccion']['c/p']= 56400\r\n",
        "print(alumno)"
      ],
      "execution_count": 29,
      "outputs": [
        {
          "output_type": "stream",
          "text": [
            "{'nombre': 'Juan Pérez', 'edad': 18, 'Matricula': 312193, 'calificaciones': {'Mate': 8, 'ciencias': 9, 'ingles': 8}, 'aprobado': True, 'direccion': {'calle': 'francisco villa'}}\n",
            "Juan Pérez\n",
            "{'Mate': 8, 'ciencias': 9, 'ingles': 8}\n",
            "8\n",
            "JUAN PÉREZ\n",
            "------------------------\n",
            "{'nombre': 'Juan Pérez', 'edad': 18, 'Matricula': 312193, 'calificaciones': {'Mate': 8, 'ciencias': 9, 'ingles': 8}, 'aprobado': True, 'direccion': {'calle': 'francisco villa'}}\n",
            "{'nombre': 'Juan Pérez', 'edad': 18, 'Matricula': 312193, 'calificaciones': {'Mate': 8, 'ciencias': 9, 'ingles': 8}, 'aprobado': True, 'direccion': {'calle': 'francisco villa'}, 'seguro': True}\n",
            "------------------------\n",
            "{'nombre': 'Juan Pérez', 'edad': 18, 'Matricula': 312193, 'calificaciones': {'Mate': 8, 'ciencias': 9, 'ingles': 8}, 'aprobado': True, 'direccion': {'calle': 'francisco villa', 'c/p': 56400}, 'seguro': True}\n"
          ],
          "name": "stdout"
        }
      ]
    },
    {
      "cell_type": "markdown",
      "metadata": {
        "id": "vlxHWYrNVvg_"
      },
      "source": [
        "# Manipulación de los pares llave valor.\r\n",
        "Para ello se emplean los métodos:\r\n",
        "- keys() te regresa una tupla con los strings llave del diccionario.\r\n",
        "- values() te regresa sólo los valores\r\n",
        "- items() te regresa los pares\r\n",
        "\r\n",
        "Sirven para automatizar la iteración sombre un diccionario."
      ]
    },
    {
      "cell_type": "code",
      "metadata": {
        "colab": {
          "base_uri": "https://localhost:8080/"
        },
        "id": "qXY2EPRJVnJO",
        "outputId": "4cf26375-0633-464e-ac82-4c3ad63c72cd"
      },
      "source": [
        "#Manipular llaves\r\n",
        "print(alumno)\r\n",
        "llaves = alumno.keys()\r\n",
        "print(llaves) #solo se puede acceder a cada uno con un for o iterador\r\n",
        "for elem in llaves:\r\n",
        "  print(elem)\r\n",
        "  print(alumno[elem]) #Aquí el iterador \"elem\" equivale a la llave\r\n",
        "\r\n",
        "#Manipular los valores\r\n",
        "valores = alumno.values()\r\n",
        "print(valores)\r\n",
        "print (\"-------------------------------\")\r\n",
        "for val in valores:\r\n",
        "  print(val)\r\n",
        "\r\n",
        "#Manipular pares\r\n",
        "pares = alumno.items()\r\n",
        "print(pares)\r\n",
        "print(\"------------------------------\")\r\n",
        "for par in pares:\r\n",
        "  print(par)"
      ],
      "execution_count": 41,
      "outputs": [
        {
          "output_type": "stream",
          "text": [
            "{'nombre': 'Juan Pérez', 'edad': 18, 'Matricula': 312193, 'calificaciones': {'Mate': 8, 'ciencias': 9, 'ingles': 8}, 'aprobado': True, 'direccion': {'calle': 'francisco villa', 'c/p': 56400}, 'seguro': True}\n",
            "dict_keys(['nombre', 'edad', 'Matricula', 'calificaciones', 'aprobado', 'direccion', 'seguro'])\n",
            "nombre\n",
            "Juan Pérez\n",
            "edad\n",
            "18\n",
            "Matricula\n",
            "312193\n",
            "calificaciones\n",
            "{'Mate': 8, 'ciencias': 9, 'ingles': 8}\n",
            "aprobado\n",
            "True\n",
            "direccion\n",
            "{'calle': 'francisco villa', 'c/p': 56400}\n",
            "seguro\n",
            "True\n",
            "dict_values(['Juan Pérez', 18, 312193, {'Mate': 8, 'ciencias': 9, 'ingles': 8}, True, {'calle': 'francisco villa', 'c/p': 56400}, True])\n",
            "-------------------------------\n",
            "Juan Pérez\n",
            "18\n",
            "312193\n",
            "{'Mate': 8, 'ciencias': 9, 'ingles': 8}\n",
            "True\n",
            "{'calle': 'francisco villa', 'c/p': 56400}\n",
            "True\n",
            "dict_items([('nombre', 'Juan Pérez'), ('edad', 18), ('Matricula', 312193), ('calificaciones', {'Mate': 8, 'ciencias': 9, 'ingles': 8}), ('aprobado', True), ('direccion', {'calle': 'francisco villa', 'c/p': 56400}), ('seguro', True)])\n",
            "------------------------------\n",
            "('nombre', 'Juan Pérez')\n",
            "('edad', 18)\n",
            "('Matricula', 312193)\n",
            "('calificaciones', {'Mate': 8, 'ciencias': 9, 'ingles': 8})\n",
            "('aprobado', True)\n",
            "('direccion', {'calle': 'francisco villa', 'c/p': 56400})\n",
            "('seguro', True)\n"
          ],
          "name": "stdout"
        }
      ]
    }
  ]
}