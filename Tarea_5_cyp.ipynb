{
  "nbformat": 4,
  "nbformat_minor": 0,
  "metadata": {
    "colab": {
      "name": "Tarea_5_cyp.ipynb",
      "provenance": [],
      "authorship_tag": "ABX9TyPlIkOePtDRzvr+6p7URx4d",
      "include_colab_link": true
    },
    "kernelspec": {
      "name": "python3",
      "display_name": "Python 3"
    }
  },
  "cells": [
    {
      "cell_type": "markdown",
      "metadata": {
        "id": "view-in-github",
        "colab_type": "text"
      },
      "source": [
        "<a href=\"https://colab.research.google.com/github/Juan-MTG/cyp_2021/blob/main/Tarea_5_cyp.ipynb\" target=\"_parent\"><img src=\"https://colab.research.google.com/assets/colab-badge.svg\" alt=\"Open In Colab\"/></a>"
      ]
    },
    {
      "cell_type": "code",
      "metadata": {
        "colab": {
          "base_uri": "https://localhost:8080/"
        },
        "id": "Wv6LvnNKYNwO",
        "outputId": "85252582-efa6-4030-c94c-747b84801079"
      },
      "source": [
        "#Ejercicio 3.1 ; Página 109 SIN ESTRUCTURA REPETITIVA\n",
        "NOMINA= 0\n",
        "US1=0\n",
        "US2=0\n",
        "US3=0\n",
        "US4=0\n",
        "US5=0\n",
        "US6=0\n",
        "US7=0\n",
        "US8=0\n",
        "US9=0\n",
        "US10=0\n",
        "#introducción de información\n",
        "US1= float(input(\"Sueldo  1: \"))\n",
        "US2= float(input(\"Sueldo  2: \"))\n",
        "US3= float(input(\"Sueldo  3: \"))\n",
        "US4= float(input(\"Sueldo  4: \"))\n",
        "US5= float(input(\"Sueldo  5: \"))\n",
        "US6= float(input(\"Sueldo  6: \"))\n",
        "US7= float(input(\"Sueldo  7: \"))\n",
        "US8= float(input(\"Sueldo  8: \"))\n",
        "US9= float(input(\"Sueldo  9: \"))\n",
        "US10= float(input(\"Sueldo 10: \"))\n",
        "#PROCESO\n",
        "NOMINA=(US1+US2+US3+US4+US5+US6+US7+US8+US9+US10)\n",
        "#IMPRESIÓN\n",
        "print(\"LA NÓMINA ES: \", NOMINA)"
      ],
      "execution_count": 3,
      "outputs": [
        {
          "output_type": "stream",
          "text": [
            "Sueldo  1: 3847\n",
            "Sueldo  2: 58475\n",
            "Sueldo  3: 485748\n",
            "Sueldo  4: 5854\n",
            "Sueldo  5: 945848\n",
            "Sueldo  6: 8695\n",
            "Sueldo  7: 8574\n",
            "Sueldo  8: 8457\n",
            "Sueldo  9: 9869\n",
            "Sueldo 10: 8574\n",
            "LA NÓMINA ES:  1543941.0\n"
          ],
          "name": "stdout"
        }
      ]
    },
    {
      "cell_type": "code",
      "metadata": {
        "colab": {
          "base_uri": "https://localhost:8080/"
        },
        "id": "rJEwMe_jamEb",
        "outputId": "db1836ad-6537-47b1-d540-5e823dc13616"
      },
      "source": [
        "#Ejercicio 3.1 ; Página 109 CON ESTRUCTURA REPETITIVA FOR\n",
        "Nomina=0\n",
        "num= int(input(\"Número de trabajadores: \")) #No. Trabajadores\n",
        "salarios=[] #Lista vacia, lista para ser llenada\n",
        "for i in range(num): #el ciclo se repite dependiendo el rango establecido por el usuario\n",
        "  salarios.append(float(input(\"Salario: $\"))) #append es para agregar elementos a nuestra lista vacia\n",
        "\n",
        "'''ya que se acabo el llenado de nuestra lista \"salarios\" o en otras palabras \n",
        "se acabo el primer ciclo, empezamos a sumar todos los elementos de esa lista\n",
        "con otro ciclo for donde en una variable llamada \"Nomina\" guardamos y sumamos\n",
        "cada elemento a medida de que pasa el iterador \"i\" por la lista'''\n",
        "\n",
        "for i in salarios: \n",
        "  Nomina +=i # \"Nomina += i\" es lo mismo que Nomina = Nomina + i\n",
        "print(f\"Nomina: ${Nomina}\")\n"
      ],
      "execution_count": 19,
      "outputs": [
        {
          "output_type": "stream",
          "text": [
            "Número de trabajadores: 10\n",
            "Salario: $23248\n",
            "Salario: $9347\n",
            "Salario: $924834.98\n",
            "Salario: $83847\n",
            "Salario: $39483\n",
            "Salario: $9349\n",
            "Salario: $10838\n",
            "Salario: $34843\n",
            "Salario: $34222\n",
            "Salario: $47548\n",
            "Nomina: $1217559.98\n"
          ],
          "name": "stdout"
        }
      ]
    },
    {
      "cell_type": "code",
      "metadata": {
        "colab": {
          "base_uri": "https://localhost:8080/"
        },
        "id": "r-3UBYVp78P6",
        "outputId": "ddc9a184-ab25-4596-9112-3a0d13ac5dd2"
      },
      "source": [
        "#Ejercicio 3.4; Página 117 WHILE (Mientras)\n",
        "#SUMA_GASTO\n",
        "\n",
        "SUMGAS=0 #ACUMULADOR DE GASTOS\n",
        "GASTO=0 #GASTOS\n",
        "GASTO= float(input(\"GASTO: $\")) #LECTURA DEL PRIMER GASTO\n",
        "while GASTO != -1: #EL CICLO SE DETIENE CUANDO EL GASTO SEA = -1\n",
        "  SUMGAS= SUMGAS + GASTO #ACUMULADOR DONDE LA PRIMERA CORRIDA ES 0 + GASTO\n",
        "  GASTO= float(input(\"GASTO: $\")) #LOS DEMÁS GASTOS\n",
        "print(f\"TOTAL DE GASTOS: ${SUMGAS}\") #CONTEO FINAL DE GASTOS\n"
      ],
      "execution_count": 18,
      "outputs": [
        {
          "output_type": "stream",
          "text": [
            "GASTO: $2528\n",
            "GASTO: $3500\n",
            "GASTO: $1600\n",
            "GASTO: $1850\n",
            "GASTO: $150\n",
            "GASTO: $-1\n",
            "TOTAL DE GASTOS: $9628.0\n"
          ],
          "name": "stdout"
        }
      ]
    }
  ]
}