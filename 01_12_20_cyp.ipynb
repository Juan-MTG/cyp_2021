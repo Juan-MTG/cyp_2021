{
  "nbformat": 4,
  "nbformat_minor": 0,
  "metadata": {
    "colab": {
      "name": "01_12_20_cyp.ipynb",
      "provenance": [],
      "authorship_tag": "ABX9TyNzs6q/OLSi9Udf3ns7R+qp",
      "include_colab_link": true
    },
    "kernelspec": {
      "name": "python3",
      "display_name": "Python 3"
    }
  },
  "cells": [
    {
      "cell_type": "markdown",
      "metadata": {
        "id": "view-in-github",
        "colab_type": "text"
      },
      "source": [
        "<a href=\"https://colab.research.google.com/github/Juan-MTG/cyp_2021/blob/main/01_12_20_cyp.ipynb\" target=\"_parent\"><img src=\"https://colab.research.google.com/assets/colab-badge.svg\" alt=\"Open In Colab\"/></a>"
      ]
    },
    {
      "cell_type": "code",
      "metadata": {
        "colab": {
          "base_uri": "https://localhost:8080/"
        },
        "id": "-Z7kiaW0RANs",
        "outputId": "c9c578b9-f8d6-4bd2-a657-00551db1a704"
      },
      "source": [
        "#Ejemplo 1\n",
        "#Pedir 3 números enteros y mostrar el mayor de los tres\n",
        "num1=0\n",
        "num2=0\n",
        "num3=0\n",
        "\n",
        "num1= int (input(\"introduce el primer número: \"))\n",
        "num2= int (input(\"introduce el segundo númeo: \"))\n",
        "num3= int (input(\"introduce el tercer número: \"))\n",
        "\n",
        "if num1>= num2 and num1 >= num3:\n",
        "  print(num1, \"es mayor\")\n",
        "\n",
        "elif num2 >= num1 and num2 >=num3:\n",
        "  print(num2, \"es mayor\")\n",
        "else:\n",
        "  print(num3, \"es mayor\")"
      ],
      "execution_count": 5,
      "outputs": [
        {
          "output_type": "stream",
          "text": [
            "introduce el primer número: 5\n",
            "introduce el segundo númeo: 9\n",
            "introduce el tercer número: 10\n",
            "10 es mayor\n"
          ],
          "name": "stdout"
        }
      ]
    },
    {
      "cell_type": "code",
      "metadata": {
        "colab": {
          "base_uri": "https://localhost:8080/"
        },
        "id": "tFoFaET3WOyQ",
        "outputId": "27667409-75ea-4aba-d96d-a02ece2655ee"
      },
      "source": [
        "#Ejemplo 2\n",
        "print(\"Ingrese el nombre del trabajador: \")\n",
        "nombre = input()\n",
        "print(\"Cuántas horas trabajo esta semana \",nombre , \":\")\n",
        "horas=input()\n",
        "horas= int (horas)\n",
        "print(\"Cuánto se paga por hora: \")\n",
        "sueldoH=input()\n",
        "sueldoH =float (sueldoH)\n",
        "\n",
        "#Evaluar el sueldo\n",
        "\n",
        "if (horas<=40):\n",
        "  pago= horas *sueldoH\n",
        "  print(\"El sueldo final de \",nombre, \"es $\", pago)\n",
        "else:\n",
        "  extras=horas-40\n",
        "  pago= 40*sueldoH\n",
        "  pagoFinal= pago +((extras * sueldoH)*2)\n",
        "  print(\"El sueldo final de \", nombre, \"es $\", pagoFinal)\n"
      ],
      "execution_count": 11,
      "outputs": [
        {
          "output_type": "stream",
          "text": [
            "Ingrese el nombre del trabajador: \n",
            "SAMUEL\n",
            "Cuántas horas trabajo esta semana  SAMUEL :\n",
            "45\n",
            "Cuánto se paga por hora: \n",
            "10\n",
            "El sueldo final de  SAMUEL es $ 500.0\n"
          ],
          "name": "stdout"
        }
      ]
    },
    {
      "cell_type": "code",
      "metadata": {
        "colab": {
          "base_uri": "https://localhost:8080/"
        },
        "id": "OCCPUHO7ZV6i",
        "outputId": "6c7f89a8-b4be-45ed-9b3c-68f5ed33536c"
      },
      "source": [
        "#Ejemplo 3\n",
        "#Calcular el salario semanal de x trabajador\n",
        "#El salario semanal se calcula en base a las horas semanales trabajadas\n",
        "#El pago por hora es variable (se pide por teclado)\n",
        "#Si las horas trabajadas superan las 40 horas, el pago por hora extra es:\n",
        "#Doble en el rango de 41horas a 50horas\n",
        "#Triple en el rango de 51horas a 60 horas\n",
        "#Incentivo de $2000 si rebasa las 60 horas.\n",
        "\n",
        "print(\"Ingrese el nombre del trabajador: \")\n",
        "nombre = input()\n",
        "print(\"Cuántas horas trabajo esta semana \",nombre , \":\")\n",
        "horas=input()\n",
        "horas= int (horas)\n",
        "print(\"Cuánto se paga por hora: \")\n",
        "sueldoH=input()\n",
        "sueldoH =float (sueldoH)\n",
        "\n",
        "#Evaluar el sueldo\n",
        "\n",
        "if (horas<=40):\n",
        "  pago= horas * sueldoH\n",
        "  print (\"El sueldo final de: \", nombre, \"es $\", pago)\n",
        "\n",
        "elif (horas >40 and horas <=50):\n",
        "  extrasDobles = horas -40\n",
        "  print(\"Horas extra dobles: \", extrasDobles)\n",
        "  pago= 40*sueldoH\n",
        "  print(\"sueldo base: $\", pago)\n",
        "  pagoDoble= extrasDobles*sueldoH *2\n",
        "  print(\" pago de horas dobles: $\", pagoDoble)\n",
        "  pagofinal=pago + pagoDoble\n",
        "  print(\"El pago final es:\",pagofinal)\n",
        "\n",
        "elif (horas>50 and horas<=60 ):\n",
        "  extrasTriples = horas -50\n",
        "  print(\"Horas extra dobles: 10 \")\n",
        "  print(\"Horas extras triples: \", extrasTriples)\n",
        "  pago= 40*sueldoH\n",
        "  print(\"sueldo base: $\", pago)\n",
        "  pagoDoble= 10*sueldoH *2\n",
        "  print(\" pago de horas dobles: $\", pagoDoble)\n",
        "  pagoTriple= extrasTriples*sueldoH *3\n",
        "  print(\" pago de horas triples: $\", pagoTriple)\n",
        "  pagofinal=pago + pagoDoble + pagoTriple \n",
        "  print(\"El pago final es:\",pagofinal)\n",
        "else:  \n",
        "  print(\"Horas extra dobles: 10 \")\n",
        "  print(\"Horas extras triples: 10\")\n",
        "  pago= 40*sueldoH\n",
        "  print(\"sueldo base: $\", pago)\n",
        "  pagoDoble= 10*sueldoH *2\n",
        "  print(\" pago de horas dobles: $\", pagoDoble)\n",
        "  pagoTriple= 10*sueldoH *3\n",
        "  print(\" pago de horas triples: $\", pagoTriple)\n",
        "  print(\"Incentivo por trabajar más de 60 horas: $2000.00\")\n",
        "  pagofinal=pago + pagoDoble + pagoTriple +2000\n",
        "  print(\"El pago final es:\",pagofinal)"
      ],
      "execution_count": 33,
      "outputs": [
        {
          "output_type": "stream",
          "text": [
            "Ingrese el nombre del trabajador: \n",
            "JOEL\n",
            "Cuántas horas trabajo esta semana  JOEL :\n",
            "67\n",
            "Cuánto se paga por hora: \n",
            "20\n",
            "Horas extra dobles: 10 \n",
            "Horas extras triples: 10\n",
            "sueldo base: $ 800.0\n",
            " pago de horas dobles: $ 400.0\n",
            " pago de horas triples: $ 600.0\n",
            "Incentivo por trabajar más de 60 horas: $2000.00\n",
            "El pago final es: 3800.0\n"
          ],
          "name": "stdout"
        }
      ]
    },
    {
      "cell_type": "code",
      "metadata": {
        "colab": {
          "base_uri": "https://localhost:8080/"
        },
        "id": "bOCJC4JDiwe0",
        "outputId": "9bd06b13-8bad-445f-e90c-fe4c12f81725"
      },
      "source": [
        "#ESTRUCTURA FOR\n",
        "#EJEMPLO 1\n",
        "\n",
        "for estaciones_año in [\"primavera\", \"verano\", \"otoño\", \"invierno\", \"venus\"]:\n",
        "  print(estaciones_año)\n",
        "\n",
        "#Variables que suelen formar parte de for son \"i\""
      ],
      "execution_count": 32,
      "outputs": [
        {
          "output_type": "stream",
          "text": [
            "primavera\n",
            "verano\n",
            "otoño\n",
            "invierno\n",
            "venus\n"
          ],
          "name": "stdout"
        }
      ]
    }
  ]
}