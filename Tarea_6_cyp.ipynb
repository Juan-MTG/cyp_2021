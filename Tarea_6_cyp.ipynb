{
  "nbformat": 4,
  "nbformat_minor": 0,
  "metadata": {
    "colab": {
      "name": "Tarea_6_cyp.ipynb",
      "provenance": [],
      "collapsed_sections": [],
      "authorship_tag": "ABX9TyNpLTNh/8o8Qo2q1Df2S8v0",
      "include_colab_link": true
    },
    "kernelspec": {
      "name": "python3",
      "display_name": "Python 3"
    }
  },
  "cells": [
    {
      "cell_type": "markdown",
      "metadata": {
        "id": "view-in-github",
        "colab_type": "text"
      },
      "source": [
        "<a href=\"https://colab.research.google.com/github/Juan-MTG/cyp_2021/blob/main/Tarea_6_cyp.ipynb\" target=\"_parent\"><img src=\"https://colab.research.google.com/assets/colab-badge.svg\" alt=\"Open In Colab\"/></a>"
      ]
    },
    {
      "cell_type": "code",
      "metadata": {
        "id": "spCerUzHiYqk",
        "colab": {
          "base_uri": "https://localhost:8080/"
        },
        "outputId": "70d0e101-0bf3-4e2f-d2c4-ac2d452d85ab"
      },
      "source": [
        "#PROBLEMA 3.2\r\n",
        "band = True\r\n",
        "sumser = 0\r\n",
        "I = 2\r\n",
        "while (I<= 1800):\r\n",
        "  sumser += I\r\n",
        "  print(f\"{ I },\",  end= \" \")\r\n",
        "  if band == True :\r\n",
        "    band = False\r\n",
        "    I +=3\r\n",
        "  else:\r\n",
        "    band = True\r\n",
        "    I += 2\r\n",
        "print(\"\\n La suma de la serie es:\" , sumser)"
      ],
      "execution_count": 3,
      "outputs": [
        {
          "output_type": "stream",
          "text": [
            "2, 5, 7, 10, 12, 15, 17, 20, 22, 25, 27, 30, 32, 35, 37, 40, 42, 45, 47, 50, 52, 55, 57, 60, 62, 65, 67, 70, 72, 75, 77, 80, 82, 85, 87, 90, 92, 95, 97, 100, 102, 105, 107, 110, 112, 115, 117, 120, 122, 125, 127, 130, 132, 135, 137, 140, 142, 145, 147, 150, 152, 155, 157, 160, 162, 165, 167, 170, 172, 175, 177, 180, 182, 185, 187, 190, 192, 195, 197, 200, 202, 205, 207, 210, 212, 215, 217, 220, 222, 225, 227, 230, 232, 235, 237, 240, 242, 245, 247, 250, 252, 255, 257, 260, 262, 265, 267, 270, 272, 275, 277, 280, 282, 285, 287, 290, 292, 295, 297, 300, 302, 305, 307, 310, 312, 315, 317, 320, 322, 325, 327, 330, 332, 335, 337, 340, 342, 345, 347, 350, 352, 355, 357, 360, 362, 365, 367, 370, 372, 375, 377, 380, 382, 385, 387, 390, 392, 395, 397, 400, 402, 405, 407, 410, 412, 415, 417, 420, 422, 425, 427, 430, 432, 435, 437, 440, 442, 445, 447, 450, 452, 455, 457, 460, 462, 465, 467, 470, 472, 475, 477, 480, 482, 485, 487, 490, 492, 495, 497, 500, 502, 505, 507, 510, 512, 515, 517, 520, 522, 525, 527, 530, 532, 535, 537, 540, 542, 545, 547, 550, 552, 555, 557, 560, 562, 565, 567, 570, 572, 575, 577, 580, 582, 585, 587, 590, 592, 595, 597, 600, 602, 605, 607, 610, 612, 615, 617, 620, 622, 625, 627, 630, 632, 635, 637, 640, 642, 645, 647, 650, 652, 655, 657, 660, 662, 665, 667, 670, 672, 675, 677, 680, 682, 685, 687, 690, 692, 695, 697, 700, 702, 705, 707, 710, 712, 715, 717, 720, 722, 725, 727, 730, 732, 735, 737, 740, 742, 745, 747, 750, 752, 755, 757, 760, 762, 765, 767, 770, 772, 775, 777, 780, 782, 785, 787, 790, 792, 795, 797, 800, 802, 805, 807, 810, 812, 815, 817, 820, 822, 825, 827, 830, 832, 835, 837, 840, 842, 845, 847, 850, 852, 855, 857, 860, 862, 865, 867, 870, 872, 875, 877, 880, 882, 885, 887, 890, 892, 895, 897, 900, 902, 905, 907, 910, 912, 915, 917, 920, 922, 925, 927, 930, 932, 935, 937, 940, 942, 945, 947, 950, 952, 955, 957, 960, 962, 965, 967, 970, 972, 975, 977, 980, 982, 985, 987, 990, 992, 995, 997, 1000, 1002, 1005, 1007, 1010, 1012, 1015, 1017, 1020, 1022, 1025, 1027, 1030, 1032, 1035, 1037, 1040, 1042, 1045, 1047, 1050, 1052, 1055, 1057, 1060, 1062, 1065, 1067, 1070, 1072, 1075, 1077, 1080, 1082, 1085, 1087, 1090, 1092, 1095, 1097, 1100, 1102, 1105, 1107, 1110, 1112, 1115, 1117, 1120, 1122, 1125, 1127, 1130, 1132, 1135, 1137, 1140, 1142, 1145, 1147, 1150, 1152, 1155, 1157, 1160, 1162, 1165, 1167, 1170, 1172, 1175, 1177, 1180, 1182, 1185, 1187, 1190, 1192, 1195, 1197, 1200, 1202, 1205, 1207, 1210, 1212, 1215, 1217, 1220, 1222, 1225, 1227, 1230, 1232, 1235, 1237, 1240, 1242, 1245, 1247, 1250, 1252, 1255, 1257, 1260, 1262, 1265, 1267, 1270, 1272, 1275, 1277, 1280, 1282, 1285, 1287, 1290, 1292, 1295, 1297, 1300, 1302, 1305, 1307, 1310, 1312, 1315, 1317, 1320, 1322, 1325, 1327, 1330, 1332, 1335, 1337, 1340, 1342, 1345, 1347, 1350, 1352, 1355, 1357, 1360, 1362, 1365, 1367, 1370, 1372, 1375, 1377, 1380, 1382, 1385, 1387, 1390, 1392, 1395, 1397, 1400, 1402, 1405, 1407, 1410, 1412, 1415, 1417, 1420, 1422, 1425, 1427, 1430, 1432, 1435, 1437, 1440, 1442, 1445, 1447, 1450, 1452, 1455, 1457, 1460, 1462, 1465, 1467, 1470, 1472, 1475, 1477, 1480, 1482, 1485, 1487, 1490, 1492, 1495, 1497, 1500, 1502, 1505, 1507, 1510, 1512, 1515, 1517, 1520, 1522, 1525, 1527, 1530, 1532, 1535, 1537, 1540, 1542, 1545, 1547, 1550, 1552, 1555, 1557, 1560, 1562, 1565, 1567, 1570, 1572, 1575, 1577, 1580, 1582, 1585, 1587, 1590, 1592, 1595, 1597, 1600, 1602, 1605, 1607, 1610, 1612, 1615, 1617, 1620, 1622, 1625, 1627, 1630, 1632, 1635, 1637, 1640, 1642, 1645, 1647, 1650, 1652, 1655, 1657, 1660, 1662, 1665, 1667, 1670, 1672, 1675, 1677, 1680, 1682, 1685, 1687, 1690, 1692, 1695, 1697, 1700, 1702, 1705, 1707, 1710, 1712, 1715, 1717, 1720, 1722, 1725, 1727, 1730, 1732, 1735, 1737, 1740, 1742, 1745, 1747, 1750, 1752, 1755, 1757, 1760, 1762, 1765, 1767, 1770, 1772, 1775, 1777, 1780, 1782, 1785, 1787, 1790, 1792, 1795, 1797, 1800, \n",
            " La suma de la serie es: 648720\n"
          ],
          "name": "stdout"
        }
      ]
    },
    {
      "cell_type": "code",
      "metadata": {
        "colab": {
          "base_uri": "https://localhost:8080/"
        },
        "id": "wOCG16wQu7Ln",
        "outputId": "1ddb860d-987f-4946-f0bf-c57fa693cd59"
      },
      "source": [
        "#PROBLEMA 3.3\r\n",
        "band = True\r\n",
        "serie = 0\r\n",
        "I = 1\r\n",
        "N= float(input(\"valor de N: \"))\r\n",
        "while (I<= N):\r\n",
        "  #print(f\"{ 1/I },\",  end= \" \")\r\n",
        "  if band == True :\r\n",
        "    serie += 1/I\r\n",
        "    band = False\r\n",
        "    print(\"+ 1/\",I)\r\n",
        "  else:\r\n",
        "    serie -= 1/I\r\n",
        "    band = True\r\n",
        "    print(\"- 1/\",I)\r\n",
        "  I+=1\r\n",
        " \r\n",
        "print(\"\\n La suma de la serie es:\" , serie)"
      ],
      "execution_count": 16,
      "outputs": [
        {
          "output_type": "stream",
          "text": [
            "valor de N: 9\n",
            "+ 1/ 1\n",
            "- 1/ 2\n",
            "+ 1/ 3\n",
            "- 1/ 4\n",
            "+ 1/ 5\n",
            "- 1/ 6\n",
            "+ 1/ 7\n",
            "- 1/ 8\n",
            "+ 1/ 9\n",
            "\n",
            " La suma de la serie es: 0.7456349206349207\n"
          ],
          "name": "stdout"
        }
      ]
    },
    {
      "cell_type": "code",
      "metadata": {
        "colab": {
          "base_uri": "https://localhost:8080/"
        },
        "id": "DcGKPUUy5vOg",
        "outputId": "878ac327-b70a-4d7f-dee3-7cf92efe67f6"
      },
      "source": [
        "#PROBLEMA 3.4 \r\n",
        "NOM=0\r\n",
        "SUE=0\r\n",
        "NSUE=0\r\n",
        "n=1\r\n",
        "SUE= float(input( f\"SUELDO 1:\"))\r\n",
        "while (SUE != -1 ):\r\n",
        "  if SUE <1000:\r\n",
        "   NSUE= SUE*1.15\r\n",
        "  else:\r\n",
        "   NSUE= SUE*1.12\r\n",
        "  NOM += NSUE\r\n",
        "  print(f\"{NSUE}\")\r\n",
        "  n +=1\r\n",
        "  SUE= float(input( f\"SUELDO {n}:\"))\r\n",
        "\r\n",
        "print(\"Nomina: \", NOM)\r\n",
        "\r\n"
      ],
      "execution_count": 12,
      "outputs": [
        {
          "output_type": "stream",
          "text": [
            "SUELDO 1:855\n",
            "983.2499999999999\n",
            "SUELDO 2:760.32\n",
            "874.3679999999999\n",
            "SUELDO 3:1100.20\n",
            "1232.2240000000002\n",
            "SUELDO 4:614\n",
            "706.0999999999999\n",
            "SUELDO 5:2600\n",
            "2912.0000000000005\n",
            "SUELDO 6:817.50\n",
            "940.1249999999999\n",
            "SUELDO 7:1280.30\n",
            "1433.9360000000001\n",
            "SUELDO 8:687\n",
            "790.05\n",
            "SUELDO 9:-1\n",
            "Nomina:  9872.053\n"
          ],
          "name": "stdout"
        }
      ]
    },
    {
      "cell_type": "code",
      "metadata": {
        "colab": {
          "base_uri": "https://localhost:8080/"
        },
        "id": "Rtli_kP4uT9q",
        "outputId": "34641dbe-f91e-40cc-b117-6520bf839391"
      },
      "source": [
        "#PROBLEMA 3.5\r\n",
        "SUMPOS = 0 #Acumula números positivos\r\n",
        "SUMOTR = 0 #Acumula números no positivos\r\n",
        "CUEPOS = 0 #Cuenta los números positos\r\n",
        "PROPOS = 0 #Promedio de números positivos\r\n",
        "PROGEN = 0 #Promedio de números no positivos\r\n",
        "N= int(input(\"Cantidad de números: \"))\r\n",
        "I= 1\r\n",
        "while (I <= N):\r\n",
        "  NUM= int(input(\"Número: \"))\r\n",
        "  if NUM > 0:\r\n",
        "    SUMPOS += NUM\r\n",
        "    CUEPOS +=1\r\n",
        "  else:\r\n",
        "    SUMOTR += NUM\r\n",
        "  I += 1\r\n",
        "\r\n",
        "PROGEN = (SUMPOS + SUMOTR)/N\r\n",
        "PROPOS = (SUMPOS / CUEPOS)\r\n",
        "\r\n",
        "print(f\"Números positivos ingresados: {CUEPOS}\")\r\n",
        "print(f\"Promedio de números positivos: {PROPOS}\")\r\n",
        "print(f\"Promedio de todos los números: {PROGEN}\")\r\n"
      ],
      "execution_count": 21,
      "outputs": [
        {
          "output_type": "stream",
          "text": [
            "Cantidad de números: 20\n",
            "Número: 7\n",
            "Número: 12\n",
            "Número: 0\n",
            "Número: 6\n",
            "Número: 11\n",
            "Número: -3\n",
            "Número: 17\n",
            "Número: 12\n",
            "Número: 19\n",
            "Número: 0\n",
            "Número: 11\n",
            "Número: 4\n",
            "Número: -5\n",
            "Número: -1\n",
            "Número: 0\n",
            "Número: 3\n",
            "Número: 24\n",
            "Número: 0\n",
            "Número: 3\n",
            "Número: -16\n",
            "Números positivos ingresados: 12\n",
            "Promedio de números positivos: 10.75\n",
            "Promedio de todos los números: 5.2\n"
          ],
          "name": "stdout"
        }
      ]
    },
    {
      "cell_type": "code",
      "metadata": {
        "colab": {
          "base_uri": "https://localhost:8080/"
        },
        "id": "ihI65KeiDK3l",
        "outputId": "59e84391-60c6-43b7-bd54-d577542208da"
      },
      "source": [
        "#PROBLEMA 3.6\r\n",
        "MAY= -10000\r\n",
        "MEN= 10000\r\n",
        "N= int(input(\"Cantidad de números: \"))\r\n",
        "i = 1\r\n",
        "while (i <= N):\r\n",
        "  NUM= int(input(\"Número: \"))\r\n",
        "  if (NUM>MAY):\r\n",
        "    MAY=NUM\r\n",
        "  elif (NUM<MEN):\r\n",
        "    MEN=NUM\r\n",
        "  i +=1\r\n",
        "print(f\" \\n Número mayor: {MAY} \\n Número menor: {MEN}\")\r\n"
      ],
      "execution_count": 18,
      "outputs": [
        {
          "output_type": "stream",
          "text": [
            "Cantidad de números: 12\n",
            "Número: 170\n",
            "Número: 44\n",
            "Número: 815\n",
            "Número: 1700\n",
            "Número: 38\n",
            "Número: 140\n",
            "Número: 380\n",
            "Número: 1020\n",
            "Número: 116\n",
            "Número: 14\n",
            "Número: 730\n",
            "Número: 960\n",
            " \n",
            " Número mayor: 1700 \n",
            " Número menor: 14\n"
          ],
          "name": "stdout"
        }
      ]
    },
    {
      "cell_type": "code",
      "metadata": {
        "colab": {
          "base_uri": "https://localhost:8080/"
        },
        "id": "Smcf2qWXHvm8",
        "outputId": "8363359f-f9fa-4ad7-837d-a43f26dfef3d"
      },
      "source": [
        "#PROBLEMA 3.7\r\n",
        "CHI = 0\r\n",
        "MED = 0\r\n",
        "GRA = 0\r\n",
        "N= int(input(\"Número total de ventas: \"))\r\n",
        "i=1\r\n",
        "ve=1\r\n",
        "while (i<=N):\r\n",
        "  V= float(input(f\"Venta {ve}: \"))\r\n",
        "  if (V<=200):\r\n",
        "    CHI += 1\r\n",
        "  else:\r\n",
        "    if (V<400):\r\n",
        "      MED += 1\r\n",
        "    else:\r\n",
        "      GRA += 1\r\n",
        "  i += 1\r\n",
        "  ve +=1\r\n",
        "\r\n",
        "print(f\"Ventas: \\n De $200 o menos: {CHI}\\n Menores de $400: {MED}\\n De $400 o mayores: {GRA}\")"
      ],
      "execution_count": 20,
      "outputs": [
        {
          "output_type": "stream",
          "text": [
            "Número total de ventas: 12\n",
            "Venta 1: 180.25\n",
            "Venta 2: 470.30\n",
            "Venta 3: 150.25\n",
            "Venta 4: 88.60\n",
            "Venta 5: 230.15\n",
            "Venta 6: 170.20\n",
            "Venta 7: 40.30\n",
            "Venta 8: 201.90\n",
            "Venta 9: 60.32\n",
            "Venta 10: 280.30\n",
            "Venta 11: 15.70\n",
            "Venta 12: 140.20\n",
            "Ventas: \n",
            " De $200 o menos: 8\n",
            " Menores de $400: 3\n",
            " De $400 o mayores: 1\n"
          ],
          "name": "stdout"
        }
      ]
    },
    {
      "cell_type": "code",
      "metadata": {
        "colab": {
          "base_uri": "https://localhost:8080/"
        },
        "id": "8tQadQO-REss",
        "outputId": "36b98408-73bf-46a5-e06d-3be186fefbf4"
      },
      "source": [
        "#PROBLEMA 3.8\r\n",
        "NUM= int(input(\"Número a ingresar: \"))\r\n",
        "if (NUM > 0):\r\n",
        "  while (NUM != 1):\r\n",
        "    print(f\"{NUM}\")\r\n",
        "    if ((-1)**NUM > 0):\r\n",
        "      NUM = (NUM /2)\r\n",
        "    else:\r\n",
        "      NUM = (NUM*3)+1\r\n",
        "  print(NUM)\r\n",
        "\r\n",
        "else:\r\n",
        "  print(f\"{NUM} TIENE QUE SER UN ENTERO POSITIVO\")"
      ],
      "execution_count": 26,
      "outputs": [
        {
          "output_type": "stream",
          "text": [
            "Número a ingresar: 25\n",
            "25\n",
            "76\n",
            "38.0\n",
            "19.0\n",
            "58.0\n",
            "29.0\n",
            "88.0\n",
            "44.0\n",
            "22.0\n",
            "11.0\n",
            "34.0\n",
            "17.0\n",
            "52.0\n",
            "26.0\n",
            "13.0\n",
            "40.0\n",
            "20.0\n",
            "10.0\n",
            "5.0\n",
            "16.0\n",
            "8.0\n",
            "4.0\n",
            "2.0\n",
            "1.0\n"
          ],
          "name": "stdout"
        }
      ]
    },
    {
      "cell_type": "code",
      "metadata": {
        "colab": {
          "base_uri": "https://localhost:8080/"
        },
        "id": "BJl87wTVgm3x",
        "outputId": "c1fbcbd1-4ee2-4dcc-cde7-35373385df07"
      },
      "source": [
        "#PROBLEMA 3.9\r\n",
        "SERIE= 0\r\n",
        "N= int(input(\"Número para la serie: \"))\r\n",
        "i=1\r\n",
        "while (i<=N):\r\n",
        "  SERIE = SERIE + (i**i)\r\n",
        "  i = i + 1\r\n",
        "print(f\"La suma de la serie es : {SERIE}\")"
      ],
      "execution_count": 61,
      "outputs": [
        {
          "output_type": "stream",
          "text": [
            "Número para la serie: 8\n",
            "La suma de la serie es : 17650828\n"
          ],
          "name": "stdout"
        }
      ]
    },
    {
      "cell_type": "code",
      "metadata": {
        "colab": {
          "base_uri": "https://localhost:8080/"
        },
        "id": "Hr3IN3d4xzMC",
        "outputId": "d8ff18b0-af12-40cd-deff-38b51fa105af"
      },
      "source": [
        "#PROBLEMA 3.9\r\n",
        "SERIE= 0\r\n",
        "N= int(input(\"Número para la serie: \"))\r\n",
        "i=1\r\n",
        "for x in range(N): \r\n",
        "  SERIE = SERIE + (i**i)\r\n",
        "  i = i + 1\r\n",
        "print(f\"La suma de la serie es : {SERIE}\")"
      ],
      "execution_count": 88,
      "outputs": [
        {
          "output_type": "stream",
          "text": [
            "Número para la serie: 8\n",
            "La suma de la serie es : 17650828\n"
          ],
          "name": "stdout"
        }
      ]
    },
    {
      "cell_type": "code",
      "metadata": {
        "colab": {
          "base_uri": "https://localhost:8080/"
        },
        "id": "KINKKZna5Q-f",
        "outputId": "15abd7a5-2039-4263-e45a-9b004a480384"
      },
      "source": [
        "#PROBLEMA 3.10\r\n",
        "PRI = 0\r\n",
        "SEG = 1\r\n",
        "SIG = 0\r\n",
        "\r\n",
        "i = 3\r\n",
        "while (i <= 180):\r\n",
        "  SIG = (PRI + SEG)\r\n",
        "  PRI = SEG \r\n",
        "  SEG = SIG\r\n",
        "  i += 1\r\n",
        "print(f\"Término 180 : {SIG}\")\r\n"
      ],
      "execution_count": 122,
      "outputs": [
        {
          "output_type": "stream",
          "text": [
            "Término 180 : 11463113765491467695340528626429782121\n"
          ],
          "name": "stdout"
        }
      ]
    },
    {
      "cell_type": "code",
      "metadata": {
        "colab": {
          "base_uri": "https://localhost:8080/"
        },
        "id": "IWXt6q4h_TVw",
        "outputId": "4641dfea-cf29-4954-c6d0-a4c3be588ccd"
      },
      "source": [
        "#PROBLEMA 3.10\r\n",
        "#CON LA CAPACIDAD DE DEVOLVER CUALQUIER TÉRMINO-NÚMERO DE LA SERIE DE FIBONACCI\r\n",
        "PRI = 0\r\n",
        "SEG = 1\r\n",
        "i = 3\r\n",
        "TER= int(input(\"Término deseado: \"))\r\n",
        "if (TER==1):\r\n",
        "  print(\"0\")\r\n",
        "elif (TER==2):\r\n",
        "  print(\"1\")\r\n",
        "else:\r\n",
        "  while (i <= TER):\r\n",
        "    SIG = (PRI + SEG)\r\n",
        "    PRI = SEG \r\n",
        "    SEG = SIG\r\n",
        "    i += 1\r\n",
        "  print(f\"Término {TER}: {SIG}\")"
      ],
      "execution_count": 8,
      "outputs": [
        {
          "output_type": "stream",
          "text": [
            "Término deseado: 180\n",
            "Término 180: 11463113765491467695340528626429782121\n"
          ],
          "name": "stdout"
        }
      ]
    },
    {
      "cell_type": "code",
      "metadata": {
        "colab": {
          "base_uri": "https://localhost:8080/"
        },
        "id": "f-oKRiEbCalo",
        "outputId": "1383c0df-3779-446c-ae7c-430a324bd002"
      },
      "source": [
        "#PROBLEMA 3.10\r\n",
        "PRI = 0\r\n",
        "SEG = 1\r\n",
        "SIG = 0\r\n",
        "\r\n",
        "#i = 3\r\n",
        "for x in range (2,180) :\r\n",
        "  SIG = (PRI + SEG)\r\n",
        "  PRI = SEG \r\n",
        "  SEG = SIG\r\n",
        "  #i += 1\r\n",
        "print(f\"Término 180 : {SIG}\")"
      ],
      "execution_count": 9,
      "outputs": [
        {
          "output_type": "stream",
          "text": [
            "Término 180 : 11463113765491467695340528626429782121\n"
          ],
          "name": "stdout"
        }
      ]
    },
    {
      "cell_type": "code",
      "metadata": {
        "colab": {
          "base_uri": "https://localhost:8080/"
        },
        "id": "IEqpZdFvLSV-",
        "outputId": "8f409595-d473-4cc8-aa57-c185e90b08d7"
      },
      "source": [
        "#PROBLEMA 3.11\r\n",
        "SUMV= 0\r\n",
        "POR1= 0\r\n",
        "POR2= 0\r\n",
        "POR3= 0\r\n",
        "POR4= 0\r\n",
        "CAN1= 0\r\n",
        "CAN2= 0\r\n",
        "CAN3= 0\r\n",
        "CAN4= 0\r\n",
        "VOTO= int(input(\"VOTO: \"))\r\n",
        "while (VOTO != 0):\r\n",
        "  if (VOTO == 1):\r\n",
        "    CAN1 +=1\r\n",
        "  elif (VOTO ==2):\r\n",
        "    CAN2 +=1\r\n",
        "  elif (VOTO ==3):\r\n",
        "    CAN3 +=1\r\n",
        "  elif (VOTO ==4):\r\n",
        "    CAN4 +=1\r\n",
        "  VOTO= int(input(\"VOTO: \"))\r\n",
        "\r\n",
        "SUMV= CAN1 + CAN2 + CAN3 + CAN4\r\n",
        "POR1= (CAN1/SUMV)*100\r\n",
        "POR2= (CAN2/SUMV)*100\r\n",
        "POR3= (CAN3/SUMV)*100\r\n",
        "POR4= (CAN4/SUMV)*100\r\n",
        "\r\n",
        "print(f\"VOTO CANDIDATO 1: {CAN1}  PORCENTAJE: %{POR1}\")\r\n",
        "print(f\"VOTO CANDIDATO 2: {CAN2}  PORCENTAJE: %{POR2}\")\r\n",
        "print(f\"VOTO CANDIDATO 3: {CAN3}  PORCENTAJE: %{POR3}\")\r\n",
        "print(f\"VOTO CANDIDATO 4: {CAN4}  PORCENTAJE: %{POR4}\")\r\n",
        "print(f\"\\n CANTIDAD DE VOTANTES:  {SUMV}\")"
      ],
      "execution_count": 11,
      "outputs": [
        {
          "output_type": "stream",
          "text": [
            "VOTO: 1\n",
            "VOTO: 1\n",
            "VOTO: 2\n",
            "VOTO: 1\n",
            "VOTO: 3\n",
            "VOTO: 1\n",
            "VOTO: 1\n",
            "VOTO: 2\n",
            "VOTO: 4\n",
            "VOTO: 4\n",
            "VOTO: 3\n",
            "VOTO: 1\n",
            "VOTO: 1\n",
            "VOTO: 2\n",
            "VOTO: 3\n",
            "VOTO: 1\n",
            "VOTO: 4\n",
            "VOTO: 1\n",
            "VOTO: 2\n",
            "VOTO: 1\n",
            "VOTO: 2\n",
            "VOTO: 4\n",
            "VOTO: 4\n",
            "VOTO: 2\n",
            "VOTO: 1\n",
            "VOTO: 0\n",
            "VOTO CANDIDATO 1: 11  PORCENTAJE: %44.0\n",
            "VOTO CANDIDATO 2: 6  PORCENTAJE: %24.0\n",
            "VOTO CANDIDATO 3: 3  PORCENTAJE: %12.0\n",
            "VOTO CANDIDATO 4: 5  PORCENTAJE: %20.0\n",
            "\n",
            " CANTIDAD DE VOTANTES:  25\n"
          ],
          "name": "stdout"
        }
      ]
    },
    {
      "cell_type": "code",
      "metadata": {
        "colab": {
          "base_uri": "https://localhost:8080/"
        },
        "id": "2o3y3JVFO-PD",
        "outputId": "5dda44f9-8f8b-4c00-bca9-f5b3626a3801"
      },
      "source": [
        "#PROBLEMA 3.12\r\n",
        "N= 0\r\n",
        "NUMEMP= 0 #Número del empleado\r\n",
        "SUE= 0 #Sueldo del empleado\r\n",
        "MASUE= 0 #Sueldo mayor de los empleados\r\n",
        "MANUM= 0 #Número del empleado con mayor sueldo\r\n",
        "\r\n",
        "N= int(input(\"Número de empleados: \"))\r\n",
        "i= 1 #contador\r\n",
        "for i in range(N):\r\n",
        "  NUMEMP= int(input(\"Número del empleado: \"))\r\n",
        "  SUE= float(input(\"Sueldo del empleado: \"))\r\n",
        "  if (SUE>MASUE):\r\n",
        "    MASUE = SUE\r\n",
        "    MANUM = NUMEMP\r\n",
        "  i +=1\r\n",
        "print(f\" \\n Número del empleado con mayor sueldo: {MANUM} \\n Sueldo mayor: {MASUE}\")\r\n",
        "\r\n",
        "    "
      ],
      "execution_count": 18,
      "outputs": [
        {
          "output_type": "stream",
          "text": [
            "Número de empleados: 6\n",
            "Número del empleado: 1235\n",
            "Sueldo del empleado: 2580\n",
            "Número del empleado: 1260\n",
            "Sueldo del empleado: 1400\n",
            "Número del empleado: 1325\n",
            "Sueldo del empleado: 3600\n",
            "Número del empleado: 1418\n",
            "Sueldo del empleado: 2720\n",
            "Número del empleado: 1650\n",
            "Sueldo del empleado: 4120\n",
            "Número del empleado: 1717\n",
            "Sueldo del empleado: 1950\n",
            " \n",
            " Número del empleado con mayor sueldo: 1650 \n",
            " Sueldo mayor: 4120.0\n"
          ],
          "name": "stdout"
        }
      ]
    },
    {
      "cell_type": "code",
      "metadata": {
        "colab": {
          "base_uri": "https://localhost:8080/"
        },
        "id": "bVnKlJvXTEwK",
        "outputId": "b3622446-83c2-493a-8820-7f12c8a427b8"
      },
      "source": [
        "#PROBLEMA 3.13\r\n",
        "ARNO= 0 #Acumulador-lluvias norte\r\n",
        "ARCE= 0 #Acumulador-lluvias centro\r\n",
        "ARSU= 0 #Acumulador-lluvias sur\r\n",
        "MERSU= 50000 #Menor regristo del sur\r\n",
        "MES= 0 #Mes menor-lluvia sur\r\n",
        "RNO= 0 #Promedio mensual R.Norte\r\n",
        "RCE= 0 #Promedio mensual R.Centro\r\n",
        "RSU= 0 #Promedio mensual R.Sur\r\n",
        "PRORCE= 0 #Promedio anual R.Centro\r\n",
        "i=1\r\n",
        "\r\n",
        "while (i<=12):\r\n",
        "  RNO= float(input(f\"R.NORTE---Promedio-mes {i}: \"))\r\n",
        "  RCE= float(input(f\"R.CENTRO--Promedio-mes {i}: \"))\r\n",
        "  RSU= float(input(f\"R.SUR-----Promedio-mes {i}: \"))\r\n",
        "  ARNO +=RNO \r\n",
        "  ARCE +=RCE \r\n",
        "  ARSU +=RSU \r\n",
        "  if (RSU<MERSU):\r\n",
        "    MERSU = RSU \r\n",
        "    MES = i\r\n",
        "  i +=1\r\n",
        "''' CON SICLO \"FOR\":\r\n",
        "J=1\r\n",
        "for i in range (12):\r\n",
        "  RNO= float(input(f\"R.NORTE---Promedio-mes {J}: \"))\r\n",
        "  RCE= float(input(f\"R.CENTRO--Promedio-mes {J}: \"))\r\n",
        "  RSU= float(input(f\"R.SUR-----Promedio-mes {J}: \"))\r\n",
        "  ARNO +=RNO \r\n",
        "  ARCE +=RCE \r\n",
        "  ARSU +=RSU \r\n",
        "  if (RSU<MERSU):\r\n",
        "    MERSU = RSU \r\n",
        "    MES = i\r\n",
        "  i +=1\r\n",
        "  J +=1'''\r\n",
        "PRORCE= (ARCE/12)\r\n",
        "print(f\"PROMEDIO REGIÓN CENTRO: {PRORCE}\")\r\n",
        "print(f\"MES CON MENOR LLUVIA REGIÓN SUR: {MES}\")\r\n",
        "print(f\"---REGISTRO DEL MES: {MERSU}\")\r\n",
        "\r\n",
        "if (ARNO > ARCE):\r\n",
        "  if (ARNO > ARSU):\r\n",
        "    print(\"LA REGIÓN CON MAYOR LLUVIA ES LA REGIÓN NORTE\")\r\n",
        "  else:\r\n",
        "    print(\"LA REGIÓN CON MAYOR LLUVIA ES LA REGIÓN SUR\")\r\n",
        "elif (ARCE > ARSU):\r\n",
        "  print(\"LA REGIÓN CON MAYOR LLUVIA ES LA REGIÓN CENTRO\")\r\n",
        "else:\r\n",
        "  print(\"LA REGIÓN CON MAYOR LLUVIA ES LA REGIÓN SUR\")\r\n"
      ],
      "execution_count": 21,
      "outputs": [
        {
          "output_type": "stream",
          "text": [
            "R.NORTE---Promedio-mes 1: 80\n",
            "R.CENTRO--Promedio-mes 1: 70\n",
            "R.SUR-----Promedio-mes 1: 170\n",
            "R.NORTE---Promedio-mes 2: 60\n",
            "R.CENTRO--Promedio-mes 2: 85\n",
            "R.SUR-----Promedio-mes 2: 100\n",
            "R.NORTE---Promedio-mes 3: 120\n",
            "R.CENTRO--Promedio-mes 3: 100\n",
            "R.SUR-----Promedio-mes 3: 185\n",
            "R.NORTE---Promedio-mes 4: 100\n",
            "R.CENTRO--Promedio-mes 4: 90\n",
            "R.SUR-----Promedio-mes 4: 88\n",
            "R.NORTE---Promedio-mes 5: 70\n",
            "R.CENTRO--Promedio-mes 5: 82\n",
            "R.SUR-----Promedio-mes 5: 80\n",
            "R.NORTE---Promedio-mes 6: 150\n",
            "R.CENTRO--Promedio-mes 6: 130\n",
            "R.SUR-----Promedio-mes 6: 122\n",
            "R.NORTE---Promedio-mes 7: 100\n",
            "R.CENTRO--Promedio-mes 7: 95\n",
            "R.SUR-----Promedio-mes 7: 67\n",
            "R.NORTE---Promedio-mes 8: 47\n",
            "R.CENTRO--Promedio-mes 8: 38\n",
            "R.SUR-----Promedio-mes 8: 55\n",
            "R.NORTE---Promedio-mes 9: 95\n",
            "R.CENTRO--Promedio-mes 9: 115\n",
            "R.SUR-----Promedio-mes 9: 110\n",
            "R.NORTE---Promedio-mes 10: 70\n",
            "R.CENTRO--Promedio-mes 10: 62\n",
            "R.SUR-----Promedio-mes 10: 83\n",
            "R.NORTE---Promedio-mes 11: 100\n",
            "R.CENTRO--Promedio-mes 11: 87\n",
            "R.SUR-----Promedio-mes 11: 107\n",
            "R.NORTE---Promedio-mes 12: 130\n",
            "R.CENTRO--Promedio-mes 12: 103\n",
            "R.SUR-----Promedio-mes 12: 148\n",
            "PROMEDIO REGIÓN CENTRO: 88.08333333333333\n",
            "MES CON MENOR LLUVIA REGIÓN SUR: 8\n",
            "---REGISTRO DEL MES: 55.0\n",
            "LA REGIÓN CON MAYOR LLUVIA ES LA REGIÓN SUR\n"
          ],
          "name": "stdout"
        }
      ]
    },
    {
      "cell_type": "code",
      "metadata": {
        "colab": {
          "base_uri": "https://localhost:8080/"
        },
        "id": "d_FzsmzAhpAp",
        "outputId": "5d9c8df9-c2ae-4f82-88b0-2511a93adb70"
      },
      "source": [
        "#PROBLEMA 3.14\r\n",
        "AP1= 0 #Acumuladores de boletos vendidos del tipo 1...5\r\n",
        "AP2= 0\r\n",
        "AP3= 0\r\n",
        "AP4= 0\r\n",
        "AP5= 0\r\n",
        "RECAU= 0 #Acumla la recaudación total del estadio\r\n",
        "PRE= 0 #Precio por total de voletos por venta\r\n",
        "\r\n",
        "P1= float(input(\"Precio de boleto---LOCALIDAD 1: \"))\r\n",
        "P2= float(input(\"Precio de boleto---LOCALIDAD 2: \"))\r\n",
        "P3= float(input(\"Precio de boleto---LOCALIDAD 3: \"))\r\n",
        "P4= float(input(\"Precio de boleto---LOCALIDAD 4: \"))\r\n",
        "P5= float(input(\"Precio de boleto---LOCALIDAD 5: \"))\r\n",
        "CLAVE= int(input(\"\\nCLAVE DE LOCALIDAD: \"))\r\n",
        "CANT= int(input(\"CANTIDAD DE BOLETOS: \"))\r\n",
        "j=1\r\n",
        "while (CLAVE != (-1) and CANT != (-1)):\r\n",
        "  print(f\"VENTA {j}\")\r\n",
        "  if (CLAVE == 1):\r\n",
        "    PRE= P1*CANT\r\n",
        "    AP1 +=CANT\r\n",
        "  elif (CLAVE == 2):\r\n",
        "    PRE= P2*CANT\r\n",
        "    AP2 +=CANT\r\n",
        "  elif (CLAVE == 3):\r\n",
        "    PRE= P3*CANT\r\n",
        "    AP3 +=CANT\r\n",
        "  elif (CLAVE == 4):\r\n",
        "    PRE= P4*CANT\r\n",
        "    AP4 +=CANT\r\n",
        "  elif (CLAVE == 5):\r\n",
        "    PRE= P5*CANT\r\n",
        "    AP5 +=CANT\r\n",
        "  print(f\"CLAVE: {CLAVE} /// CANTIDAD: {CANT} /// PRECIO: {PRE}\")\r\n",
        "  RECAU +=PRE\r\n",
        "  CLAVE= int(input(\"\\nCLAVE DE LOCALIDAD: \"))\r\n",
        "  CANT= int(input(\"CANTIDAD DE BOLETOS: \"))\r\n",
        "  j +=1\r\n",
        "\r\n",
        "print(f\"CANTIDAD DE BOLETOS TIPO 1: {AP1}\")\r\n",
        "print(f\"CANTIDAD DE BOLETOS TIPO 2: {AP2}\")\r\n",
        "print(f\"CANTIDAD DE BOLETOS TIPO 3: {AP3}\")\r\n",
        "print(f\"CANTIDAD DE BOLETOS TIPO 4: {AP4}\")\r\n",
        "print(f\"CANTIDAD DE BOLETOS TIPO 5: {AP5}\")\r\n",
        "print(f\"\\nRECAUDACIÓN DEL ESTADIO: {RECAU}\")\r\n"
      ],
      "execution_count": 34,
      "outputs": [
        {
          "output_type": "stream",
          "text": [
            "Precio de boleto---LOCALIDAD 1: 7.25\n",
            "Precio de boleto---LOCALIDAD 2: 15.80\n",
            "Precio de boleto---LOCALIDAD 3: 25\n",
            "Precio de boleto---LOCALIDAD 4: 50\n",
            "Precio de boleto---LOCALIDAD 5: 75\n",
            "\n",
            "CLAVE DE LOCALIDAD: 2\n",
            "CANTIDAD DE BOLETOS: 3\n",
            "VENTA 1\n",
            "CLAVE: 2 /// CANTIDAD: 3 /// PRECIO: 47.400000000000006\n",
            "\n",
            "CLAVE DE LOCALIDAD: 3\n",
            "CANTIDAD DE BOLETOS: 8\n",
            "VENTA 2\n",
            "CLAVE: 3 /// CANTIDAD: 8 /// PRECIO: 200.0\n",
            "\n",
            "CLAVE DE LOCALIDAD: 2\n",
            "CANTIDAD DE BOLETOS: 4\n",
            "VENTA 3\n",
            "CLAVE: 2 /// CANTIDAD: 4 /// PRECIO: 63.2\n",
            "\n",
            "CLAVE DE LOCALIDAD: 1\n",
            "CANTIDAD DE BOLETOS: 6\n",
            "VENTA 4\n",
            "CLAVE: 1 /// CANTIDAD: 6 /// PRECIO: 43.5\n",
            "\n",
            "CLAVE DE LOCALIDAD: 4\n",
            "CANTIDAD DE BOLETOS: 5\n",
            "VENTA 5\n",
            "CLAVE: 4 /// CANTIDAD: 5 /// PRECIO: 250.0\n",
            "\n",
            "CLAVE DE LOCALIDAD: 1\n",
            "CANTIDAD DE BOLETOS: 12\n",
            "VENTA 6\n",
            "CLAVE: 1 /// CANTIDAD: 12 /// PRECIO: 87.0\n",
            "\n",
            "CLAVE DE LOCALIDAD: 2\n",
            "CANTIDAD DE BOLETOS: 8\n",
            "VENTA 7\n",
            "CLAVE: 2 /// CANTIDAD: 8 /// PRECIO: 126.4\n",
            "\n",
            "CLAVE DE LOCALIDAD: 5\n",
            "CANTIDAD DE BOLETOS: 3\n",
            "VENTA 8\n",
            "CLAVE: 5 /// CANTIDAD: 3 /// PRECIO: 225.0\n",
            "\n",
            "CLAVE DE LOCALIDAD: 2\n",
            "CANTIDAD DE BOLETOS: 7\n",
            "VENTA 9\n",
            "CLAVE: 2 /// CANTIDAD: 7 /// PRECIO: 110.60000000000001\n",
            "\n",
            "CLAVE DE LOCALIDAD: 3\n",
            "CANTIDAD DE BOLETOS: 14\n",
            "VENTA 10\n",
            "CLAVE: 3 /// CANTIDAD: 14 /// PRECIO: 350.0\n",
            "\n",
            "CLAVE DE LOCALIDAD: 4\n",
            "CANTIDAD DE BOLETOS: 1\n",
            "VENTA 11\n",
            "CLAVE: 4 /// CANTIDAD: 1 /// PRECIO: 50.0\n",
            "\n",
            "CLAVE DE LOCALIDAD: 2\n",
            "CANTIDAD DE BOLETOS: 11\n",
            "VENTA 12\n",
            "CLAVE: 2 /// CANTIDAD: 11 /// PRECIO: 173.8\n",
            "\n",
            "CLAVE DE LOCALIDAD: 4\n",
            "CANTIDAD DE BOLETOS: 9\n",
            "VENTA 13\n",
            "CLAVE: 4 /// CANTIDAD: 9 /// PRECIO: 450.0\n",
            "\n",
            "CLAVE DE LOCALIDAD: 5\n",
            "CANTIDAD DE BOLETOS: 7\n",
            "VENTA 14\n",
            "CLAVE: 5 /// CANTIDAD: 7 /// PRECIO: 525.0\n",
            "\n",
            "CLAVE DE LOCALIDAD: 1\n",
            "CANTIDAD DE BOLETOS: 23\n",
            "VENTA 15\n",
            "CLAVE: 1 /// CANTIDAD: 23 /// PRECIO: 166.75\n",
            "\n",
            "CLAVE DE LOCALIDAD: 1\n",
            "CANTIDAD DE BOLETOS: 18\n",
            "VENTA 16\n",
            "CLAVE: 1 /// CANTIDAD: 18 /// PRECIO: 130.5\n",
            "\n",
            "CLAVE DE LOCALIDAD: 3\n",
            "CANTIDAD DE BOLETOS: 4\n",
            "VENTA 17\n",
            "CLAVE: 3 /// CANTIDAD: 4 /// PRECIO: 100.0\n",
            "\n",
            "CLAVE DE LOCALIDAD: -1\n",
            "CANTIDAD DE BOLETOS: -1\n",
            "CANTIDAD DE BOLETOS TIPO 1: 59\n",
            "CANTIDAD DE BOLETOS TIPO 2: 33\n",
            "CANTIDAD DE BOLETOS TIPO 3: 26\n",
            "CANTIDAD DE BOLETOS TIPO 4: 15\n",
            "CANTIDAD DE BOLETOS TIPO 5: 10\n",
            "\n",
            "RECAUDACIÓN DEL ESTADIO: 3099.1499999999996\n"
          ],
          "name": "stdout"
        }
      ]
    },
    {
      "cell_type": "code",
      "metadata": {
        "colab": {
          "base_uri": "https://localhost:8080/"
        },
        "id": "sMygFDZTHbYJ",
        "outputId": "94c435b8-e062-4f55-a69d-6b7e8f0a2100"
      },
      "source": [
        "#PROBLEMA 3.15\r\n",
        "CL= 0 #Acumula el número de llamadas locales\r\n",
        "CUENTA= 0 #Acumula el costo total de la llamadas\r\n",
        "COSTO= 0 #Almacena el costo de cada llamada\r\n",
        "TIPO= str(input(\"Tipo de llamada: \"))\r\n",
        "DUR= int(input(\"Duración de la llamada: \"))\r\n",
        "\r\n",
        "while (TIPO != 'X' and DUR != (-1)):\r\n",
        "  if (TIPO == 'I'):\r\n",
        "    if (DUR > 3):\r\n",
        "      COSTO = 7.59 + ((DUR - 3)*3.03)\r\n",
        "    else:\r\n",
        "      COSTO = 7.59\r\n",
        "  elif (TIPO == 'L'):\r\n",
        "    CL +=1\r\n",
        "    if (CL > 50):\r\n",
        "      COSTO = 0.60\r\n",
        "    else:\r\n",
        "      COSTO = 0\r\n",
        "  elif (TIPO == 'N'):\r\n",
        "    if (DUR > 3):\r\n",
        "      COSTO = 1.20 + ((DUR - 3)*0.48)\r\n",
        "    else:\r\n",
        "      COSTO = 1.20\r\n",
        "  CUENTA += COSTO\r\n",
        "  TIPO= str(input(\"Tipo de llamada: \"))\r\n",
        "  DUR= int(input(\"Duración de la llamada: \"))\r\n",
        "\r\n",
        "print(f\"CUENTA TOTAL : {CUENTA}\")\r\n",
        "\r\n"
      ],
      "execution_count": 38,
      "outputs": [
        {
          "output_type": "stream",
          "text": [
            "Tipo de llamada: I\n",
            "Duración de la llamada: 7\n",
            "Tipo de llamada: N\n",
            "Duración de la llamada: 6\n",
            "Tipo de llamada: N\n",
            "Duración de la llamada: 12\n",
            "Tipo de llamada: L\n",
            "Duración de la llamada: 5\n",
            "Tipo de llamada: L\n",
            "Duración de la llamada: 7\n",
            "Tipo de llamada: N\n",
            "Duración de la llamada: 16\n",
            "Tipo de llamada: L\n",
            "Duración de la llamada: 7\n",
            "Tipo de llamada: L\n",
            "Duración de la llamada: 6\n",
            "Tipo de llamada: L\n",
            "Duración de la llamada: 4\n",
            "Tipo de llamada: I\n",
            "Duración de la llamada: 11\n",
            "Tipo de llamada: X\n",
            "Duración de la llamada: -1\n",
            "CUENTA TOTAL : 67.14\n"
          ],
          "name": "stdout"
        }
      ]
    },
    {
      "cell_type": "code",
      "metadata": {
        "colab": {
          "base_uri": "https://localhost:8080/"
        },
        "id": "pMWRlfmKMqEb",
        "outputId": "6c0e1e9e-51e8-4a75-c7bc-6ae9e603b429"
      },
      "source": [
        "#PROBLEMA 3.16\r\n",
        "TIPO1= 0\r\n",
        "TIPO2= 0\r\n",
        "TIPO3= 0\r\n",
        "TIPO4= 0\r\n",
        "TIPO5= 0\r\n",
        "MCTIPO2 = 0  \r\n",
        "AÑO= 0 \r\n",
        "TOTVIN = 0 #Acumula el total de vinos producidos en el año\r\n",
        "N= int(input(\"Número de años: \"))\r\n",
        "i=1\r\n",
        "while (i<=N):\r\n",
        "  j=1\r\n",
        "  TOTVIN= 0\r\n",
        "  print(f\"\\nAÑO {i}\")\r\n",
        "  while (j<=5):\r\n",
        "    V= float(input(f\"LITROS DE VINO TIPO {j}: \"))\r\n",
        "    TOTVIN +=V\r\n",
        "\r\n",
        "    if (j == 1):\r\n",
        "      TIPO1 +=V\r\n",
        "      #-----------------\r\n",
        "    elif (j == 2):\r\n",
        "      TIPO2 +=V\r\n",
        "      if (V > MCTIPO2):\r\n",
        "        MCTIPO2 =V\r\n",
        "        AÑO = i\r\n",
        "     else:\r\n",
        "        j = 2\r\n",
        "      #-----------------\r\n",
        "    elif (j == 3):\r\n",
        "      TIPO3 +=V\r\n",
        "      if (V == 0):\r\n",
        "        print(f\"EL AÑO {i} NO SE PRODUJO VINO TIPO 3\")\r\n",
        "      else:\r\n",
        "        j = 3\r\n",
        "      #------------------\r\n",
        "    elif (j == 4):\r\n",
        "      TIPO4 +=V\r\n",
        "      #-------------------\r\n",
        "    elif (j == 5):\r\n",
        "      TIPO5 +=V\r\n",
        "    j +=1\r\n",
        "    \r\n",
        "\r\n",
        "  print(f\"TOTAL DE LITROS PRODUCIDOS EN EL AÑO {i}: {TOTVIN}\")\r\n",
        "  i +=1\r\n",
        "\r\n",
        "print(f\"\\nRESUMEN \\nTOTAL TIPO 1: {TIPO1}\")\r\n",
        "print(f\"TOTAL TIPO 2: {TIPO2}\")\r\n",
        "print(f\"TOTAL TIPO 3: {TIPO3}\")\r\n",
        "print(f\"TOTAL TIPO 4: {TIPO4}\")\r\n",
        "print(f\"TOTAL TIPO 5: {TIPO5}\")\r\n",
        "print(f\"\\nAño en que se produjo mayor cantidad de vino TIPO 2:  Año {AÑO}\")\r\n",
        "print(f\"------ LITROS: {MCTIPO2}\")"
      ],
      "execution_count": 83,
      "outputs": [
        {
          "output_type": "stream",
          "text": [
            "Número de años: 4\n",
            "\n",
            "AÑO 1\n",
            "LITROS DE VINO TIPO 1: 8878\n",
            "LITROS DE VINO TIPO 2: 32446\n",
            "LITROS DE VINO TIPO 3: 3546\n",
            "LITROS DE VINO TIPO 4: 35467\n",
            "LITROS DE VINO TIPO 5: 3432\n",
            "TOTAL DE LITROS PRODUCIDOS EN EL AÑO 1: 83769.0\n",
            "\n",
            "AÑO 2\n",
            "LITROS DE VINO TIPO 1: 3577\n",
            "LITROS DE VINO TIPO 2: 46352\n",
            "LITROS DE VINO TIPO 3: 0\n",
            "EL AÑO 2 NO SE PRODUJO VINO TIPO 3\n",
            "LITROS DE VINO TIPO 4: 354646\n",
            "LITROS DE VINO TIPO 5: 354657\n",
            "TOTAL DE LITROS PRODUCIDOS EN EL AÑO 2: 759232.0\n",
            "\n",
            "AÑO 3\n",
            "LITROS DE VINO TIPO 1: 3535\n",
            "LITROS DE VINO TIPO 2: 9433335\n",
            "LITROS DE VINO TIPO 3: 35465\n",
            "LITROS DE VINO TIPO 4: 5465\n",
            "LITROS DE VINO TIPO 5: 54665\n",
            "TOTAL DE LITROS PRODUCIDOS EN EL AÑO 3: 9532465.0\n",
            "\n",
            "AÑO 4\n",
            "LITROS DE VINO TIPO 1: 355\n",
            "LITROS DE VINO TIPO 2: 35464\n",
            "LITROS DE VINO TIPO 3: 0\n",
            "EL AÑO 4 NO SE PRODUJO VINO TIPO 3\n",
            "LITROS DE VINO TIPO 4: 3755\n",
            "LITROS DE VINO TIPO 5: 4657\n",
            "TOTAL DE LITROS PRODUCIDOS EN EL AÑO 4: 44231.0\n",
            "\n",
            "RESUMEN \n",
            "TOTAL TIPO 1: 16345.0\n",
            "TOTAL TIPO 2: 9547597.0\n",
            "TOTAL TIPO 3: 39011.0\n",
            "TOTAL TIPO 4: 399333.0\n",
            "TOTAL TIPO 5: 417411.0\n",
            "\n",
            "Año en que se produjo mayor cantidad de vino TIPO 2:  Año 3\n",
            "------ LITROS: 9433335.0\n"
          ],
          "name": "stdout"
        }
      ]
    },
    {
      "cell_type": "code",
      "metadata": {
        "colab": {
          "base_uri": "https://localhost:8080/"
        },
        "id": "k4I32843gTOr",
        "outputId": "0cfeb786-ea9c-45b7-876a-b2ca31e060e6"
      },
      "source": [
        "#PROBLEMA 3.16   CON CICLO \"FOR\"\r\n",
        "TIPO1= 0\r\n",
        "TIPO2= 0\r\n",
        "TIPO3= 0\r\n",
        "TIPO4= 0\r\n",
        "TIPO5= 0\r\n",
        "MCTIPO2 = 0  \r\n",
        "AÑO= 0 \r\n",
        "TOTVIN = 0 #Acumula el total de vinos producidos en el año\r\n",
        "N= int(input(\"Número de años: \"))\r\n",
        "i=1\r\n",
        "for x in range(N):#while (i<=N):\r\n",
        "  j=1\r\n",
        "  TOTVIN= 0\r\n",
        "  print(f\"\\nAÑO {i}\")\r\n",
        "  for x in range(5):#while (j<=5):\r\n",
        "    V= float(input(f\"LITROS DE VINO TIPO {j}: \"))\r\n",
        "    TOTVIN +=V\r\n",
        "    \r\n",
        "    if (j == 1):\r\n",
        "      TIPO1 +=V\r\n",
        "      \r\n",
        "    elif (j == 2):\r\n",
        "      TIPO2 +=V\r\n",
        "      if (V > MCTIPO2):\r\n",
        "        MCTIPO2 =V\r\n",
        "        AÑO = i\r\n",
        "      else:\r\n",
        "        j = 2      \r\n",
        "        \r\n",
        "    elif (j == 3):\r\n",
        "      TIPO3 +=V\r\n",
        "      if (V == 0):\r\n",
        "        print(f\"EL AÑO {i} NO SE PRODUJO VINO TIPO 3\")\r\n",
        "      else:\r\n",
        "        j = 3\r\n",
        "\r\n",
        "    elif (j == 4):\r\n",
        "      TIPO4 +=V\r\n",
        "      \r\n",
        "    elif (j == 5):\r\n",
        "      TIPO5 +=V\r\n",
        "      \r\n",
        "    j +=1\r\n",
        "    \r\n",
        "\r\n",
        "  print(f\"TOTAL DE LITROS PRODUCIDOS EN EL AÑO {i}: {TOTVIN}\")\r\n",
        "  i +=1\r\n",
        "\r\n",
        "print(f\"\\nRESUMEN \\nTOTAL TIPO 1: {TIPO1}\")\r\n",
        "print(f\"TOTAL TIPO 2: {TIPO2}\")\r\n",
        "print(f\"TOTAL TIPO 3: {TIPO3}\")\r\n",
        "print(f\"TOTAL TIPO 4: {TIPO4}\")\r\n",
        "print(f\"TOTAL TIPO 5: {TIPO5}\")\r\n",
        "print(f\"\\nAño en que se produjo mayor cantidad de vino TIPO 2:  Año {AÑO}\")\r\n",
        "print(f\"------ LITROS: {MCTIPO2}\")"
      ],
      "execution_count": 78,
      "outputs": [
        {
          "output_type": "stream",
          "text": [
            "Número de años: 4\n",
            "\n",
            "AÑO 1\n",
            "LITROS DE VINO TIPO 1: 34234\n",
            "LITROS DE VINO TIPO 2: 33234\n",
            "LITROS DE VINO TIPO 3: 24322\n",
            "LITROS DE VINO TIPO 4: 23231\n",
            "LITROS DE VINO TIPO 5: 23423\n",
            "TOTAL DE LITROS PRODUCIDOS EN EL AÑO 1: 138444.0\n",
            "\n",
            "AÑO 2\n",
            "LITROS DE VINO TIPO 1: 2234423\n",
            "LITROS DE VINO TIPO 2: 23244\n",
            "LITROS DE VINO TIPO 3: 576\n",
            "LITROS DE VINO TIPO 4: 354657\n",
            "LITROS DE VINO TIPO 5: 3435657\n",
            "TOTAL DE LITROS PRODUCIDOS EN EL AÑO 2: 6048557.0\n",
            "\n",
            "AÑO 3\n",
            "LITROS DE VINO TIPO 1: 3546\n",
            "LITROS DE VINO TIPO 2: 8787564\n",
            "LITROS DE VINO TIPO 3: 0\n",
            "EL AÑO 3 NO SE PRODUJO VINO TIPO 3\n",
            "LITROS DE VINO TIPO 4: 3534546\n",
            "LITROS DE VINO TIPO 5: 433544\n",
            "TOTAL DE LITROS PRODUCIDOS EN EL AÑO 3: 12759200.0\n",
            "\n",
            "AÑO 4\n",
            "LITROS DE VINO TIPO 1: 343546\n",
            "LITROS DE VINO TIPO 2: 3435454\n",
            "LITROS DE VINO TIPO 3: 3435\n",
            "LITROS DE VINO TIPO 4: 35463\n",
            "LITROS DE VINO TIPO 5: 3546587\n",
            "TOTAL DE LITROS PRODUCIDOS EN EL AÑO 4: 7364485.0\n",
            "\n",
            "RESUMEN \n",
            "TOTAL TIPO 1: 2615749.0\n",
            "TOTAL TIPO 2: 12279496.0\n",
            "TOTAL TIPO 3: 28333.0\n",
            "TOTAL TIPO 4: 3947897.0\n",
            "TOTAL TIPO 5: 7439211.0\n",
            "\n",
            "Año en que se produjo mayor cantidad de vino TIPO 2:  Año 3\n",
            "------ LITROS: 8787564.0\n"
          ],
          "name": "stdout"
        }
      ]
    },
    {
      "cell_type": "code",
      "metadata": {
        "colab": {
          "base_uri": "https://localhost:8080/"
        },
        "id": "J3R6wUI-Ps6m",
        "outputId": "48ab162b-faa0-48f2-df82-db65dc0dc222"
      },
      "source": [
        "#PROBLEMA 3.17\r\n",
        "I= 3 #Contador del ciclo exterior\r\n",
        "SP= 0 #Acumula el número de números primos entre 1 hasta M\r\n",
        "M= int(input(\"Límite deseado (número hasta donde se desea evaluar): \"))\r\n",
        "\r\n",
        "if (M >=1):\r\n",
        "  SP +=1\r\n",
        "  print(f\"NÚMERO PRIMO {1}\")\r\n",
        "  if (M >= 2):\r\n",
        "    SP +=1\r\n",
        "    print(f\"NÚMERO PRIMO {2}\")\r\n",
        "while (I <= M):\r\n",
        "  BAND = 'V'\r\n",
        "  j = 3\r\n",
        "  while (j < (I//2) and BAND == 'V'):\r\n",
        "    if ((I % j) == 0):\r\n",
        "      BAND = 'F'\r\n",
        "      j +=2\r\n",
        "    else:\r\n",
        "      j +=2\r\n",
        "  if (BAND == 'V'):\r\n",
        "    print(f\"NÚMERO PRIMO {I}\")\r\n",
        "    SP +=1\r\n",
        "    I +=2\r\n",
        "  else:\r\n",
        "    I +=2\r\n",
        "print(f\"ENTRE 1 Y {M} HAY --- {SP} --- NÚMEROS PRIMOS\")"
      ],
      "execution_count": 106,
      "outputs": [
        {
          "output_type": "stream",
          "text": [
            "Límite deseado (número hasta donde se desea evaluar): 11\n",
            "NÚMERO PRIMO 1\n",
            "NÚMERO PRIMO 2\n",
            "NÚMERO PRIMO 3\n",
            "NÚMERO PRIMO 5\n",
            "NÚMERO PRIMO 7\n",
            "NÚMERO PRIMO 11\n",
            "ENTRE 1 Y 11 HAY --- 6 --- NÚMEROS PRIMOS\n"
          ],
          "name": "stdout"
        }
      ]
    },
    {
      "cell_type": "code",
      "metadata": {
        "colab": {
          "base_uri": "https://localhost:8080/"
        },
        "id": "IrRLeKOGreyB",
        "outputId": "b5c3d629-0c95-4ce5-a121-d5a38e073252"
      },
      "source": [
        "#PROBLEMA 3.18\r\n",
        "N= 0 #Número de fábricas registradas (N<=1000)\r\n",
        "MAYPRO= 0 # Almacena el total de la fábrica que más produjo en el año\r\n",
        "\r\n",
        "N= int(input(\"Número de fábricas registradas: \"))\r\n",
        "if (N<=100):\r\n",
        "  I= 1\r\n",
        "  while (I <= N):\r\n",
        "    FABRICA= int(input(\"\\nCLAVE DE FÁBRICA: \"))\r\n",
        "    TOTANU= 0\r\n",
        "    j= 1\r\n",
        "    while (j <= 12):\r\n",
        "      MES= float(input(f\"PRODUCCIÓN EN EL MES {j}: \"))\r\n",
        "      TOTANU +=MES\r\n",
        "      if ((j == 7) and MES > 3000000):\r\n",
        "        print(f\"LA FÁBRICA {FABRICA}\\n-- PRODUJO MÁS DE 3,000,000 EN JULIO\")\r\n",
        "      j += 1 \r\n",
        "    if (TOTANU > MAYPRO):\r\n",
        "      MAYPRO = TOTANU #MAYPRO guarda la producción más grande del año\r\n",
        "      CLAVE = FABRICA #CLAVE guarda la clave de fábrica que más produjo del año\r\n",
        "    print(f\"\\n PRODUCCIÓN ANUAL DE LA FÁBRICA  {FABRICA}: ${TOTANU}\")\r\n",
        "    I +=1\r\n",
        "  print(f\"\\nFÁBRICA QUE MÁS PRODUJO EN EL AÑO: {FABRICA}\\n-PRODUCCIÓN: ${MAYPRO}\")\r\n",
        "\r\n",
        "\r\n",
        "else:\r\n",
        "  print(\"ERROR EN NÚMERO DE FÁBRICAS\")\r\n"
      ],
      "execution_count": 4,
      "outputs": [
        {
          "output_type": "stream",
          "text": [
            "Número de fábricas registradas: 3\n",
            "\n",
            "CLAVE DE FÁBRICA: 2020\n",
            "PRODUCCIÓN EN EL MES 1: 203234\n",
            "PRODUCCIÓN EN EL MES 2: 3094930\n",
            "PRODUCCIÓN EN EL MES 3: 8499302\n",
            "PRODUCCIÓN EN EL MES 4: 849384\n",
            "PRODUCCIÓN EN EL MES 5: 23232\n",
            "PRODUCCIÓN EN EL MES 6: 34231\n",
            "PRODUCCIÓN EN EL MES 7: 232313\n",
            "PRODUCCIÓN EN EL MES 8: 934839\n",
            "PRODUCCIÓN EN EL MES 9: 9483920\n",
            "PRODUCCIÓN EN EL MES 10: 848390\n",
            "PRODUCCIÓN EN EL MES 11: 923094\n",
            "PRODUCCIÓN EN EL MES 12: 8493920\n",
            "\n",
            " PRODUCCIÓN ANUAL DE LA FÁBRICA  2020: $33620789.0\n",
            "\n",
            "CLAVE DE FÁBRICA: 2021\n",
            "PRODUCCIÓN EN EL MES 1: 9328029\n",
            "PRODUCCIÓN EN EL MES 2: 9328923\n",
            "PRODUCCIÓN EN EL MES 3: 8484922\n",
            "PRODUCCIÓN EN EL MES 4: 3234243\n",
            "PRODUCCIÓN EN EL MES 5: 4384392\n",
            "PRODUCCIÓN EN EL MES 6: 232423\n",
            "PRODUCCIÓN EN EL MES 7: 8483922\n",
            "LA FÁBRICA 2021\n",
            "-- PRODUJO MÁS DE 3,000,000 EN JULIO\n",
            "PRODUCCIÓN EN EL MES 8: 94939423\n",
            "PRODUCCIÓN EN EL MES 9: 9483929\n",
            "PRODUCCIÓN EN EL MES 10: 3422234\n",
            "PRODUCCIÓN EN EL MES 11: 85849393\n",
            "PRODUCCIÓN EN EL MES 12: 939434033\n",
            "\n",
            " PRODUCCIÓN ANUAL DE LA FÁBRICA  2021: $1176605866.0\n",
            "\n",
            "CLAVE DE FÁBRICA: 2022\n",
            "PRODUCCIÓN EN EL MES 1: 49349393\n",
            "PRODUCCIÓN EN EL MES 2: 83948393\n",
            "PRODUCCIÓN EN EL MES 3: 92939494883\n",
            "PRODUCCIÓN EN EL MES 4: 9484843023\n",
            "PRODUCCIÓN EN EL MES 5: 884930203\n",
            "PRODUCCIÓN EN EL MES 6: 934900203\n",
            "PRODUCCIÓN EN EL MES 7: 8499302342\n",
            "LA FÁBRICA 2022\n",
            "-- PRODUJO MÁS DE 3,000,000 EN JULIO\n",
            "PRODUCCIÓN EN EL MES 8: 848934043\n",
            "PRODUCCIÓN EN EL MES 9: 849993030\n",
            "PRODUCCIÓN EN EL MES 10: 9340003494000\n",
            "PRODUCCIÓN EN EL MES 11: 934034993\n",
            "PRODUCCIÓN EN EL MES 12: 84832\n",
            "\n",
            " PRODUCCIÓN ANUAL DE LA FÁBRICA  2022: $9455513309338.0\n",
            "\n",
            "FÁBRICA QUE MÁS PRODUJO EN EL AÑO: 2022\n",
            "-PRODUCCIÓN: $9455513309338.0\n"
          ],
          "name": "stdout"
        }
      ]
    },
    {
      "cell_type": "code",
      "metadata": {
        "colab": {
          "base_uri": "https://localhost:8080/"
        },
        "id": "UxHBd0k0QWCJ",
        "outputId": "bcadb5fc-a486-49bd-94d3-86159a90944a"
      },
      "source": [
        "#PROBLEMA 3.18 CON CICLO \"FOR\"\r\n",
        "#PROBLEMA 3.18\r\n",
        "N= 0 #Número de fábricas registradas (N<=1000)\r\n",
        "MAYPRO= 0 # Almacena el total de la fábrica que más produjo en el año\r\n",
        "\r\n",
        "N= int(input(\"Número de fábricas registradas: \"))\r\n",
        "if (N<=100):\r\n",
        "  \r\n",
        "  for i in range(N):\r\n",
        "    FABRICA= int(input(\"\\nCLAVE DE FÁBRICA: \"))\r\n",
        "    TOTANU= 0\r\n",
        "    j= 1\r\n",
        "    for x in range(12):\r\n",
        "      MES= float(input(f\"PRODUCCIÓN EN EL MES {j}: \"))\r\n",
        "      TOTANU +=MES\r\n",
        "      if ((j == 7) and MES > 3000000):\r\n",
        "        print(f\"LA FÁBRICA {FABRICA}\\n-- PRODUJO MÁS DE 3,000,000 EN JULIO\")\r\n",
        "      j += 1 \r\n",
        "    if (TOTANU > MAYPRO):\r\n",
        "      MAYPRO = TOTANU #MAYPRO guarda la producción más grande del año\r\n",
        "      CLAVE = FABRICA #CLAVE guarda la clave de fábrica que más produjo del año\r\n",
        "    print(f\"\\n PRODUCCIÓN ANUAL DE LA FÁBRICA  {FABRICA}: ${TOTANU}\")\r\n",
        "    \r\n",
        "  print(f\"\\nFÁBRICA QUE MÁS PRODUJO EN EL AÑO: {FABRICA}\\n-PRODUCCIÓN: ${MAYPRO}\")\r\n",
        "\r\n",
        "\r\n",
        "else:\r\n",
        "  print(\"ERROR EN NÚMERO DE FÁBRICAS\")"
      ],
      "execution_count": 7,
      "outputs": [
        {
          "output_type": "stream",
          "text": [
            "Número de fábricas registradas: 2\n",
            "\n",
            "CLAVE DE FÁBRICA: 232\n",
            "PRODUCCIÓN EN EL MES 1: 948393\n",
            "PRODUCCIÓN EN EL MES 2: 847384\n",
            "PRODUCCIÓN EN EL MES 3: 3728393\n",
            "PRODUCCIÓN EN EL MES 4: 847832\n",
            "PRODUCCIÓN EN EL MES 5: 848329\n",
            "PRODUCCIÓN EN EL MES 6: 83949383\n",
            "PRODUCCIÓN EN EL MES 7: 838372\n",
            "PRODUCCIÓN EN EL MES 8: 9302343\n",
            "PRODUCCIÓN EN EL MES 9: 8372829\n",
            "PRODUCCIÓN EN EL MES 10: 9384839\n",
            "PRODUCCIÓN EN EL MES 11: 838392\n",
            "PRODUCCIÓN EN EL MES 12: 938483\n",
            "\n",
            " PRODUCCIÓN ANUAL DE LA FÁBRICA  232: $120844972.0\n",
            "\n",
            "CLAVE DE FÁBRICA: 332\n",
            "PRODUCCIÓN EN EL MES 1: 838392\n",
            "PRODUCCIÓN EN EL MES 2: 93884283\n",
            "PRODUCCIÓN EN EL MES 3: 93393000333\n",
            "PRODUCCIÓN EN EL MES 4: 848939493\n",
            "PRODUCCIÓN EN EL MES 5: 88549859\n",
            "PRODUCCIÓN EN EL MES 6: 939435\n",
            "PRODUCCIÓN EN EL MES 7: 3948358359\n",
            "LA FÁBRICA 332\n",
            "-- PRODUJO MÁS DE 3,000,000 EN JULIO\n",
            "PRODUCCIÓN EN EL MES 8: 943858395\n",
            "PRODUCCIÓN EN EL MES 9: 9848395\n",
            "PRODUCCIÓN EN EL MES 10: 939244\n",
            "PRODUCCIÓN EN EL MES 11: 8593495\n",
            "PRODUCCIÓN EN EL MES 12: 8394934\n",
            "\n",
            " PRODUCCIÓN ANUAL DE LA FÁBRICA  332: $99346144617.0\n",
            "\n",
            "FÁBRICA QUE MÁS PRODUJO EN EL AÑO: 332\n",
            "-PRODUCCIÓN: $99346144617.0\n"
          ],
          "name": "stdout"
        }
      ]
    },
    {
      "cell_type": "code",
      "metadata": {
        "colab": {
          "base_uri": "https://localhost:8080/"
        },
        "id": "rfs_EPjvZgVA",
        "outputId": "8a42525b-d98d-435e-d40f-f57b279dc5b0"
      },
      "source": [
        "#PROBLEMA 3.19  NÚMERO PERFECTO\r\n",
        "N= int(input(\"Número a evaluar: \"))\r\n",
        "I = 1\r\n",
        "while (I <= N):\r\n",
        "  SUM= 0 #SUM acumula los divisores para comprobar si el número es perfecto\r\n",
        "  j = 1\r\n",
        "  while (j <= (I // 2)):\r\n",
        "    if ((I % j)==0):\r\n",
        "      SUM +=j\r\n",
        "    j +=1\r\n",
        "  if (SUM== I):\r\n",
        "    print(f\"{I} ES UN NÚMERO PERFECTO\")\r\n",
        "  I +=1\r\n",
        "if (SUM == (I - 1)):\r\n",
        "  print(\"FIN DEL PROGRAMA\")\r\n",
        "else:\r\n",
        "  print(f\"{N} NO ES UN NÚMERO PERFECTO\")\r\n",
        "  print(\"FIN DEL PROGRAMA\")\r\n"
      ],
      "execution_count": 30,
      "outputs": [
        {
          "output_type": "stream",
          "text": [
            "Número a evaluar: 8129\n",
            "6 ES UN NÚMERO PERFECTO\n",
            "28 ES UN NÚMERO PERFECTO\n",
            "496 ES UN NÚMERO PERFECTO\n",
            "8128 ES UN NÚMERO PERFECTO\n",
            "8129 NO ES UN NÚMERO PERFECTO\n",
            "FIN DEL PROGRAMA\n"
          ],
          "name": "stdout"
        }
      ]
    }
  ]
}