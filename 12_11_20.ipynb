{
  "nbformat": 4,
  "nbformat_minor": 0,
  "metadata": {
    "colab": {
      "name": "12/11/20.ipynb",
      "provenance": [],
      "collapsed_sections": [],
      "authorship_tag": "ABX9TyPpUIQIV3JdiiNMB+hDoDMu",
      "include_colab_link": true
    },
    "kernelspec": {
      "name": "python3",
      "display_name": "Python 3"
    }
  },
  "cells": [
    {
      "cell_type": "markdown",
      "metadata": {
        "id": "view-in-github",
        "colab_type": "text"
      },
      "source": [
        "<a href=\"https://colab.research.google.com/github/Juan-MTG/cyp_2021/blob/main/12_11_20.ipynb\" target=\"_parent\"><img src=\"https://colab.research.google.com/assets/colab-badge.svg\" alt=\"Open In Colab\"/></a>"
      ]
    },
    {
      "cell_type": "code",
      "metadata": {
        "id": "ktw6cnS2Kidr",
        "outputId": "fb3c4868-fc1a-4ef0-9d95-7aa95903e3f6",
        "colab": {
          "base_uri": "https://localhost:8080/"
        }
      },
      "source": [
        "#Ejemplo 1\n",
        "\n",
        "def main():\n",
        "  print(\"Hola mundo\")\n",
        "\n",
        "main()\n",
        "\n"
      ],
      "execution_count": null,
      "outputs": [
        {
          "output_type": "stream",
          "text": [
            "Hola mundo\n"
          ],
          "name": "stdout"
        }
      ]
    },
    {
      "cell_type": "code",
      "metadata": {
        "id": "NvwyHO3eM-cD",
        "outputId": "c3a8512f-fcdb-4d1e-ab90-90419c742678",
        "colab": {
          "base_uri": "https://localhost:8080/"
        }
      },
      "source": [
        "#Ejemplo 2\n",
        "def main():\n",
        "  a= input (\"Dame un valor\")\n",
        "  print (a)\n",
        "\n",
        "main()"
      ],
      "execution_count": null,
      "outputs": [
        {
          "output_type": "stream",
          "text": [
            "Dame un valor   3\n",
            "   3\n"
          ],
          "name": "stdout"
        }
      ]
    },
    {
      "cell_type": "code",
      "metadata": {
        "id": "Hoi0_zu_P8m3",
        "outputId": "5e25b5c9-74ab-4d03-cbc8-e6e8f500674f",
        "colab": {
          "base_uri": "https://localhost:8080/"
        }
      },
      "source": [
        "def main ():\n",
        "  a= input (\"Dame un valor\")\n",
        "  b= int (a) #convertir el valor \"a\" en entero\n",
        "  c = b*2 # Guardar en \"C\" la multiplicación del valor entero por 2\n",
        "  print (c) #imprimir \"c\"\n",
        "main()\n",
        "\n"
      ],
      "execution_count": null,
      "outputs": [
        {
          "output_type": "stream",
          "text": [
            "Dame un valor34\n",
            "68\n"
          ],
          "name": "stdout"
        }
      ]
    },
    {
      "cell_type": "code",
      "metadata": {
        "id": "uRdsCe3xegVW",
        "outputId": "7ccbc9b7-79fc-4b3e-f34d-4860d6bdd4ad",
        "colab": {
          "base_uri": "https://localhost:8080/"
        }
      },
      "source": [
        "numero=int (input(\"Dame un número \"))\n",
        "if numero>0:\n",
        "  print(\"El número es positivo\")\n",
        "print (\"Fin del programa\")\n"
      ],
      "execution_count": null,
      "outputs": [
        {
          "output_type": "stream",
          "text": [
            "Dame un número 3\n",
            "El número es positivo\n",
            "Fin del programa\n"
          ],
          "name": "stdout"
        }
      ]
    },
    {
      "cell_type": "code",
      "metadata": {
        "id": "AUKDZTeQfeTL",
        "outputId": "ecd5fe20-5fdc-4c71-ff1d-6adfdaf31a78",
        "colab": {
          "base_uri": "https://localhost:8080/"
        }
      },
      "source": [
        "numero= int (input(\"Digite un número\"))\n",
        "if numero >0:\n",
        "  print(\"El número es positivo\")\n",
        "else :\n",
        "  print (\"El número es negativo\")\n",
        "  \n"
      ],
      "execution_count": null,
      "outputs": [
        {
          "output_type": "stream",
          "text": [
            "Digite un número43\n",
            "El número es positivo\n"
          ],
          "name": "stdout"
        }
      ]
    },
    {
      "cell_type": "code",
      "metadata": {
        "id": "B-sdU_54gyql",
        "outputId": "6225fe2b-cba2-461c-8c77-026f13548f1b",
        "colab": {
          "base_uri": "https://localhost:8080/"
        }
      },
      "source": [
        "numero = int(input(\"Ingresa un número: \"))\n",
        "if numero>0:\n",
        "  print(\"Número es positivo\")\n",
        "elif numero<0:\n",
        "  print(\"Número es negativo\")\n",
        "else:\n",
        "  print(\"Número es 0\")\n",
        "print(\"FIN DEL PROGRAMA\")"
      ],
      "execution_count": null,
      "outputs": [
        {
          "output_type": "stream",
          "text": [
            "Ingresa un número: 0\n",
            "Número es 0\n",
            "FIN DEL PROGRAMA\n"
          ],
          "name": "stdout"
        }
      ]
    }
  ]
}