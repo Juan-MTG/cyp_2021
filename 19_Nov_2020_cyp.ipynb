{
  "nbformat": 4,
  "nbformat_minor": 0,
  "metadata": {
    "colab": {
      "name": "19_Nov_2020_cyp.ipynb",
      "provenance": [],
      "authorship_tag": "ABX9TyMzwF1SKUPISLE4Uz7WwTMb",
      "include_colab_link": true
    },
    "kernelspec": {
      "name": "python3",
      "display_name": "Python 3"
    }
  },
  "cells": [
    {
      "cell_type": "markdown",
      "metadata": {
        "id": "view-in-github",
        "colab_type": "text"
      },
      "source": [
        "<a href=\"https://colab.research.google.com/github/Juan-MTG/cyp_2021/blob/main/19_Nov_2020_cyp.ipynb\" target=\"_parent\"><img src=\"https://colab.research.google.com/assets/colab-badge.svg\" alt=\"Open In Colab\"/></a>"
      ]
    },
    {
      "cell_type": "code",
      "metadata": {
        "colab": {
          "base_uri": "https://localhost:8080/"
        },
        "id": "nNksO7Pig6RI",
        "outputId": "18f4e4c8-3841-4458-bcdb-785299111018"
      },
      "source": [
        "#PROGRAMAS DEL 17 DE NOVIEMBRE DEL 2020\n",
        "I=0\n",
        "I = I+1\n",
        "I = I+1\n",
        "print (f\"I = { I }\")\n",
        "J=5**2//3\n",
        "print(f\" J= { J}\")\n"
      ],
      "execution_count": 6,
      "outputs": [
        {
          "output_type": "stream",
          "text": [
            "I = 2\n",
            " J= 8\n"
          ],
          "name": "stdout"
        }
      ]
    },
    {
      "cell_type": "code",
      "metadata": {
        "colab": {
          "base_uri": "https://localhost:8080/"
        },
        "id": "UDvtePqAmcA9",
        "outputId": "93e73cb3-fdc3-44c3-c1aa-ce61a90f0422"
      },
      "source": [
        "# INGRESO DE NÚMEROS ENTEROS E IMPRESIÓN\n",
        "#Declaración de variables (reservando memoria)\n",
        "A=0\n",
        "B=0\n",
        "C=0\n",
        "D=0\n",
        "A= int(input (\"Dame un valor entero : \"))\n",
        "B= int(input (\"Dame un valor entero : \"))\n",
        "C= int(input (\"Dame un valor entero : \"))\n",
        "D= int(input (\"Dame un valor entero : \"))\n",
        "print (A,B,C,D)\n",
        "\n"
      ],
      "execution_count": 11,
      "outputs": [
        {
          "output_type": "stream",
          "text": [
            "Dame un valor entero : 4\n",
            "Dame un valor entero : 5\n",
            "Dame un valor entero : 6\n",
            "Dame un valor entero : 7\n",
            "4 5 6 7\n"
          ],
          "name": "stdout"
        }
      ]
    },
    {
      "cell_type": "code",
      "metadata": {
        "colab": {
          "base_uri": "https://localhost:8080/"
        },
        "id": "2L79BLHyos-g",
        "outputId": "2fce5226-9e84-4c75-ff0a-daad6082215f"
      },
      "source": [
        "#OPERACIÓN ARITMÉTICA\n",
        "#Ejemplo 1.7 del libro\n",
        "A= 0\n",
        "B= 0\n",
        "A= int(input (\"Dame un  entero : \"))\n",
        "B= int(input (\"Dame un  entero : \"))\n",
        "RES= (A+B)**2 /3\n",
        "print (RES)\n"
      ],
      "execution_count": 18,
      "outputs": [
        {
          "output_type": "stream",
          "text": [
            "Dame un  entero : 14\n",
            "Dame un  entero : -5\n",
            "27.0\n"
          ],
          "name": "stdout"
        }
      ]
    },
    {
      "cell_type": "code",
      "metadata": {
        "colab": {
          "base_uri": "https://localhost:8080/"
        },
        "id": "sF9-F5q-uEP_",
        "outputId": "3d2b8b63-8844-4ae2-97e1-d50be7006554"
      },
      "source": [
        "#EJEMPLO. 1.8\n",
        "MAT = 0\n",
        "CAL1=0\n",
        "CAL2=0\n",
        "CAL3=0\n",
        "CAL4=0\n",
        "CAL5=0\n",
        "PRO=0\n",
        "#Entrada de información \n",
        "MAT= input (\"MATERIA : \")\n",
        "CAL1= float(input (\"Calificación 1 : \"))\n",
        "CAL2= float(input (\"Calificación 2 : \"))\n",
        "CAL3= float(input (\"Calificación 3 : \"))\n",
        "CAL4= float(input (\"Calificación 4 : \"))\n",
        "CAL5= float(input (\"Calificación 5 : \"))\n",
        "#calcula el promedio\n",
        "PRO= ((CAL1 + CAL2 + CAL3 + CAL4 + CAL5 )/5) \n",
        "#Impresión de matrícula y promedio \n",
        "print (\"Matrícula : \",MAT,  \"Promedio : \",PRO)\n"
      ],
      "execution_count": 27,
      "outputs": [
        {
          "output_type": "stream",
          "text": [
            "MATERIA : 43534\n",
            "Calificación 1 : 7\n",
            "Calificación 2 : 7\n",
            "Calificación 3 : 7\n",
            "Calificación 4 : 7\n",
            "Calificación 5 : 7\n",
            "Matrícula :  43534 Promedio :  7.0\n"
          ],
          "name": "stdout"
        }
      ]
    },
    {
      "cell_type": "code",
      "metadata": {
        "colab": {
          "base_uri": "https://localhost:8080/"
        },
        "id": "z8eATPdOxv9i",
        "outputId": "22bc2734-6f80-4b51-c34c-79ec748c3232"
      },
      "source": [
        "#CUADRADO Y CUBO DE UN NÚMERO (EJEMPLO 1.9)\n",
        "NUM= 0\n",
        "CUA=0\n",
        "CUB=0\n",
        "NUM= int(input(\"Dame un número entero: \") )\n",
        "CUA= NUM**2\n",
        "CUB= NUM**3\n",
        "print (\"CUADRADO:\",CUA,\"CUBO:\", CUB)"
      ],
      "execution_count": 30,
      "outputs": [
        {
          "output_type": "stream",
          "text": [
            "Dame un número entero: 4\n",
            "CUADRADO: 16 CUBO: 64\n"
          ],
          "name": "stdout"
        }
      ]
    },
    {
      "cell_type": "code",
      "metadata": {
        "colab": {
          "base_uri": "https://localhost:8080/"
        },
        "id": "Z9EpdG7wzTOl",
        "outputId": "2eb3be69-d387-4e6a-dcdd-b316e2e69301"
      },
      "source": [
        "#(EJEMPLO 1.10) RECTÁNGULO\n",
        "#Se declaran las variables\n",
        "BASE=0\n",
        "ALTU=0\n",
        "SUP=0\n",
        "PER=0\n",
        "\n",
        "#Introducción de valores\n",
        "BAS= int(input(\"Base del rectángulo: \"))\n",
        "ALTU= int(input(\"Altura del rectángulo: \"))\n",
        "\n",
        "#Cálculo de superficie y perímetro\n",
        "SUP= BAS*ALTU \n",
        "PER= 2*(BAS+ALTU)\n",
        "\n",
        "#Impresión de resultados (superficie y perímetro)\n",
        "print (\"Superficie del rectángulo: \",SUP)\n",
        "print (\"Perímetro del rectángulo: \",PER)"
      ],
      "execution_count": 37,
      "outputs": [
        {
          "output_type": "stream",
          "text": [
            "Base del rectángulo: 4\n",
            "Altura del rectángulo: 7\n",
            "Superficie del rectángulo:  28\n",
            "Perímetro del rectángulo:  22\n"
          ],
          "name": "stdout"
        }
      ]
    },
    {
      "cell_type": "markdown",
      "metadata": {
        "id": "2W359DoBvdZk"
      },
      "source": [
        ""
      ]
    }
  ]
}