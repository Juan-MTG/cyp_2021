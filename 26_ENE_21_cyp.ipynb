{
  "nbformat": 4,
  "nbformat_minor": 0,
  "metadata": {
    "colab": {
      "name": "26_ENE_21_cyp.ipynb",
      "provenance": [],
      "authorship_tag": "ABX9TyPunxIjblNQdGtqNfdBm6rt",
      "include_colab_link": true
    },
    "kernelspec": {
      "name": "python3",
      "display_name": "Python 3"
    }
  },
  "cells": [
    {
      "cell_type": "markdown",
      "metadata": {
        "id": "view-in-github",
        "colab_type": "text"
      },
      "source": [
        "<a href=\"https://colab.research.google.com/github/Juan-MTG/cyp_2021/blob/main/26_ENE_21_cyp.ipynb\" target=\"_parent\"><img src=\"https://colab.research.google.com/assets/colab-badge.svg\" alt=\"Open In Colab\"/></a>"
      ]
    },
    {
      "cell_type": "markdown",
      "metadata": {
        "id": "_mdUuILFtVbc"
      },
      "source": [
        "# Listas de Python 3\r\n",
        "1. Es una estructura de datos lineal de 0 o n elementos.\r\n",
        "2. \"Equivalente\" a los arreglos.\r\n",
        "3. Pueden ser de diferente tipo de dato (solo en python).[1,2,3,34,23] , [1,True,2.34, \"HOLA\"]\r\n",
        "4. Pueden ser anidados, es decir, listas de listas. [\"Melón\" , [\"manzana roja\", \"manzana amarilla\", \"manzana verde\"]]\r\n",
        "5. Su selector es de la forma:  [ int ]\r\n",
        "6. Son mutables.\r\n"
      ]
    },
    {
      "cell_type": "code",
      "metadata": {
        "colab": {
          "base_uri": "https://localhost:8080/"
        },
        "id": "D5aF9-5kscuV",
        "outputId": "78a630d9-3c49-4109-8dd4-9f830ff85663"
      },
      "source": [
        "#Ejemplos\r\n",
        "numeros = [4,5,6,7,43]\r\n",
        "print(numeros) #Imprimir todos los valores de la lista\r\n",
        "print(numeros[2])\r\n",
        "\r\n",
        "#Lista de cero (0) elementos\r\n",
        "colores = [] # averiguar de que tipo de dato es una variable con la función type\r\n",
        "type(colores)\r\n",
        "dias = list()\r\n",
        "print(colores)\r\n",
        "print(dias)"
      ],
      "execution_count": 4,
      "outputs": [
        {
          "output_type": "stream",
          "text": [
            "[4, 5, 6, 7, 43]\n",
            "6\n",
            "[]\n",
            "[]\n"
          ],
          "name": "stdout"
        }
      ]
    },
    {
      "cell_type": "code",
      "metadata": {
        "colab": {
          "base_uri": "https://localhost:8080/"
        },
        "id": "FEQQuyLGwMiu",
        "outputId": "27a6fc9c-d8a2-4fa2-9426-2e6ee2a2b978"
      },
      "source": [
        "# Pueden ser de diferente tipo de datos\r\n",
        "\r\n",
        "mi_lista = [1,2,3,\"José\",False,1.76, [55234566, 556443456, 354672373], ]\r\n",
        "print(mi_lista)\r\n",
        "print(mi_lista[3][3])\r\n",
        "print(mi_lista[3][3::])#con slicing\r\n",
        "print(mi_lista[3][-1::1]) #con incremento negativo\r\n",
        "print(str(mi_lista[6][1])[2])"
      ],
      "execution_count": 17,
      "outputs": [
        {
          "output_type": "stream",
          "text": [
            "[1, 2, 3, 'José', False, 1.76, [55234566, 556443456, 354672373]]\n",
            "é\n",
            "é\n",
            "é\n",
            "6\n"
          ],
          "name": "stdout"
        }
      ]
    },
    {
      "cell_type": "code",
      "metadata": {
        "colab": {
          "base_uri": "https://localhost:8080/"
        },
        "id": "EXyJriT00X1m",
        "outputId": "7c9ce3db-6442-46fc-a913-6c577506b04b"
      },
      "source": [
        "# SON MUTABLES, que se puede cambiar un elemento por otro\r\n",
        "frutas =[\"melón\",\"sandía\",\"kiwi\",\"aguacate\", \"mango\", \"plátano\"]\r\n",
        "print(frutas)\r\n",
        "frutas[0]=\"Melón\" #Cambio\r\n",
        "print(frutas)\r\n",
        "#frutas[1][0]=\"S\" Los string no son mutables\r\n",
        "\r\n",
        "frutas[1] = frutas[1].capitalize() #la primer letra de cada \r\n",
        "#palabra se pone en mayúscula\r\n",
        "print(frutas)\r\n",
        "\r\n",
        "#O con upper\r\n",
        "frutas[2] = frutas[2][0].upper() + frutas[2][1:]\r\n",
        "print(frutas)"
      ],
      "execution_count": 22,
      "outputs": [
        {
          "output_type": "stream",
          "text": [
            "['melón', 'sandía', 'kiwi', 'aguacate', 'mango', 'plátano']\n",
            "['Melón', 'sandía', 'kiwi', 'aguacate', 'mango', 'plátano']\n",
            "['Melón', 'Sandía', 'kiwi', 'aguacate', 'mango', 'plátano']\n",
            "['Melón', 'Sandía', 'Kiwi', 'aguacate', 'mango', 'plátano']\n"
          ],
          "name": "stdout"
        }
      ]
    },
    {
      "cell_type": "code",
      "metadata": {
        "colab": {
          "base_uri": "https://localhost:8080/"
        },
        "id": "vU6wtoJu2dCG",
        "outputId": "8c97961d-7964-47a7-d551-363021ac6104"
      },
      "source": [
        "#Las listas son clases por lo tanto, tienen métodos:\r\n",
        "frutas =[\"melón\",\"sandía\",\"kiwi\",\"aguacate\", \"mango\", \"plátano\"]\r\n",
        "#Ejemplo: .append, agrega un elemento al final\r\n",
        "frutas.append(\"Fresa\")\r\n",
        "print(frutas)\r\n",
        "\r\n",
        "\r\n",
        "#Copias\r\n",
        "print(\"\\nEjemplo de copias\")\r\n",
        "otras_frutas = frutas\r\n",
        "print(frutas)\r\n",
        "print(otras_frutas)\r\n",
        "print(\"\")\r\n",
        "otras_frutas[0] = \"CHICO ZAPOTE\"\r\n",
        "print(otras_frutas)\r\n",
        "print(frutas)\r\n",
        "print(\"\")\r\n",
        "#LO QUE SUCEDE ES QUE UNA ASIGNACIÓN COMO LA ANTERIOR SOLO HACER QUE \r\n",
        "#SE REFERENCÍE AL MISMO ESPACIO DE MEMORIA\r\n",
        "\r\n",
        "#copy hace otro espacio de memoria con la misma información\r\n",
        "otras_frutas = frutas.copy()\r\n",
        "otras_frutas[0] = \"COMPROBACIÓN\"\r\n",
        "print(otras_frutas)\r\n",
        "print(frutas)\r\n",
        "print(\"----------------------\")\r\n",
        "\r\n",
        "print(\"EJEMPLO DE extend\")\r\n",
        "colores = [\"rojo\", \"verde\", \"azul\"]\r\n",
        "'''frutas.append(colores)\r\n",
        "print(frutas)'''\r\n",
        "frutas.extend(colores)\r\n",
        "print(frutas)\r\n",
        "\r\n",
        "print(\"\\n EJEMPLO insert\") #lista.insert(posición, valor a insertar)\r\n",
        "frutas.insert(3,\"Limón\")#SE PUEDE INSERTAR CUALQUIER TIPO DE DATO\r\n",
        "print(frutas)\r\n",
        "\r\n",
        "print(\"\\n EJEMPLO remove, eliminar kiwi\") #lista.remove(dato a eliminar)\r\n",
        "frutas.remove(\"kiwi\")\r\n",
        "print(frutas)\r\n",
        "\r\n",
        "print(\"\\n EJEMPLO de operador del\") #NO ES FUNCIÓN, ES UN OPERADOR DE LISTA, \r\n",
        "del frutas[2]\r\n",
        "print(frutas)\r\n",
        "#Clear limpia los elementos de una lista\r\n",
        "frutas.clear()\r\n",
        "print(frutas)\r\n"
      ],
      "execution_count": 39,
      "outputs": [
        {
          "output_type": "stream",
          "text": [
            "['melón', 'sandía', 'kiwi', 'aguacate', 'mango', 'plátano', 'Fresa']\n",
            "\n",
            "Ejemplo de copias\n",
            "['melón', 'sandía', 'kiwi', 'aguacate', 'mango', 'plátano', 'Fresa']\n",
            "['melón', 'sandía', 'kiwi', 'aguacate', 'mango', 'plátano', 'Fresa']\n",
            "\n",
            "['CHICO ZAPOTE', 'sandía', 'kiwi', 'aguacate', 'mango', 'plátano', 'Fresa']\n",
            "['CHICO ZAPOTE', 'sandía', 'kiwi', 'aguacate', 'mango', 'plátano', 'Fresa']\n",
            "\n",
            "['COMPROBACIÓN', 'sandía', 'kiwi', 'aguacate', 'mango', 'plátano', 'Fresa']\n",
            "['CHICO ZAPOTE', 'sandía', 'kiwi', 'aguacate', 'mango', 'plátano', 'Fresa']\n",
            "----------------------\n",
            "EJEMPLO DE extend\n",
            "['CHICO ZAPOTE', 'sandía', 'kiwi', 'aguacate', 'mango', 'plátano', 'Fresa', 'rojo', 'verde', 'azul']\n",
            "\n",
            " EJEMPLO insert\n",
            "['CHICO ZAPOTE', 'sandía', 'kiwi', 'Limón', 'aguacate', 'mango', 'plátano', 'Fresa', 'rojo', 'verde', 'azul']\n",
            "\n",
            " EJEMPLO remove, eliminar kiwi\n",
            "['CHICO ZAPOTE', 'sandía', 'Limón', 'aguacate', 'mango', 'plátano', 'Fresa', 'rojo', 'verde', 'azul']\n",
            "\n",
            " EJEMPLO de operador del\n",
            "['CHICO ZAPOTE', 'sandía', 'aguacate', 'mango', 'plátano', 'Fresa', 'rojo', 'verde', 'azul']\n",
            "[]\n"
          ],
          "name": "stdout"
        }
      ]
    },
    {
      "cell_type": "code",
      "metadata": {
        "colab": {
          "base_uri": "https://localhost:8080/"
        },
        "id": "9gWAgGF36si7",
        "outputId": "1460ad69-a171-4e1f-bd3d-d7c74bb0a74e"
      },
      "source": [
        "#Quitar los elementos enteros de la lista\r\n",
        "cosas = [\"jose\", True, 2,3,4,5,\"pedro\",1.23]\r\n",
        "aux = []\r\n",
        "for elemento in cosas:\r\n",
        "    if type(elemento) != int:\r\n",
        "        aux.append(elemento)\r\n",
        "print(cosas)\r\n",
        "print(aux)\r\n",
        "  #print(type(elemento))"
      ],
      "execution_count": 50,
      "outputs": [
        {
          "output_type": "stream",
          "text": [
            "['jose', True, 2, 3, 4, 5, 'pedro', 1.23]\n",
            "['jose', True, 'pedro', 1.23]\n"
          ],
          "name": "stdout"
        }
      ]
    },
    {
      "cell_type": "code",
      "metadata": {
        "colab": {
          "base_uri": "https://localhost:8080/"
        },
        "id": "9h32j8asEPlp",
        "outputId": "f5a3bbd5-4f6d-4bf6-c0ff-a61be0669c86"
      },
      "source": [
        "#Quitar los elementos enteros de la lista\r\n",
        "cosas = [\"jose\",True,2,3,4,5,\"pedro\",1.23]\r\n",
        "indice = 0\r\n",
        "a_eliminar=[]\r\n",
        "for elemento in cosas:\r\n",
        "    if isinstance( elemento , int ) :\r\n",
        "        print(\"entero\",elemento) # cosas.remove(elemento)\r\n",
        "        a_eliminar.append(elemento)\r\n",
        "    indice += 1\r\n",
        "\r\n",
        "print(a_eliminar)\r\n",
        "for indice in a_eliminar:\r\n",
        "    print( indice)\r\n",
        "    cosas.remove(indice)\r\n",
        "print(cosas)"
      ],
      "execution_count": 51,
      "outputs": [
        {
          "output_type": "stream",
          "text": [
            "entero True\n",
            "entero 2\n",
            "entero 3\n",
            "entero 4\n",
            "entero 5\n",
            "[True, 2, 3, 4, 5]\n",
            "True\n",
            "2\n",
            "3\n",
            "4\n",
            "5\n",
            "['jose', 'pedro', 1.23]\n"
          ],
          "name": "stdout"
        }
      ]
    },
    {
      "cell_type": "code",
      "metadata": {
        "colab": {
          "base_uri": "https://localhost:8080/"
        },
        "id": "euI423LfFNd2",
        "outputId": "70370569-0a5a-40c4-eed9-310593c87bf3"
      },
      "source": [
        "#  Slicing sobre listas\r\n",
        "\r\n",
        "frutas = [\"melón\",\"sandía\",\"kiwi\",\"aguacate\", \"mango\", \"plátano\"]\r\n",
        "print(frutas[1:4])\r\n",
        "\r\n",
        "sistemas_operativos = [\"Windows\",\"mac OS\", \"Linux\", \"Android\"]\r\n",
        "autos = [\"Ford\",\"mazda\",\"Honda\"]\r\n",
        "cosas = [sistemas_operativos, autos]\r\n",
        "print(cosas)\r\n",
        "print(cosas[1])\r\n",
        "#imprimir Linux\r\n",
        "print(cosas[0][2])\r\n",
        "#imprimir dro\r\n",
        "print(cosas[0][3][2:5:])\r\n",
        "#imprimir dza\r\n",
        "print(cosas[1][1][-2:-5:-1])\r\n"
      ],
      "execution_count": 62,
      "outputs": [
        {
          "output_type": "stream",
          "text": [
            "['sandía', 'kiwi', 'aguacate']\n",
            "[['Windows', 'mac OS', 'Linux', 'Android'], ['Ford', 'mazda', 'Honda']]\n",
            "['Ford', 'mazda', 'Honda']\n",
            "Linux\n",
            "dro\n",
            "dza\n"
          ],
          "name": "stdout"
        }
      ]
    },
    {
      "cell_type": "code",
      "metadata": {
        "colab": {
          "base_uri": "https://localhost:8080/"
        },
        "id": "YV7JXE7M2skm",
        "outputId": "fe21713f-3dc3-41dd-b4ab-0e3ce27c3e2a"
      },
      "source": [
        "help(frutas)\r\n",
        "dir(frutas)"
      ],
      "execution_count": 63,
      "outputs": [
        {
          "output_type": "stream",
          "text": [
            "Help on list object:\n",
            "\n",
            "class list(object)\n",
            " |  list() -> new empty list\n",
            " |  list(iterable) -> new list initialized from iterable's items\n",
            " |  \n",
            " |  Methods defined here:\n",
            " |  \n",
            " |  __add__(self, value, /)\n",
            " |      Return self+value.\n",
            " |  \n",
            " |  __contains__(self, key, /)\n",
            " |      Return key in self.\n",
            " |  \n",
            " |  __delitem__(self, key, /)\n",
            " |      Delete self[key].\n",
            " |  \n",
            " |  __eq__(self, value, /)\n",
            " |      Return self==value.\n",
            " |  \n",
            " |  __ge__(self, value, /)\n",
            " |      Return self>=value.\n",
            " |  \n",
            " |  __getattribute__(self, name, /)\n",
            " |      Return getattr(self, name).\n",
            " |  \n",
            " |  __getitem__(...)\n",
            " |      x.__getitem__(y) <==> x[y]\n",
            " |  \n",
            " |  __gt__(self, value, /)\n",
            " |      Return self>value.\n",
            " |  \n",
            " |  __iadd__(self, value, /)\n",
            " |      Implement self+=value.\n",
            " |  \n",
            " |  __imul__(self, value, /)\n",
            " |      Implement self*=value.\n",
            " |  \n",
            " |  __init__(self, /, *args, **kwargs)\n",
            " |      Initialize self.  See help(type(self)) for accurate signature.\n",
            " |  \n",
            " |  __iter__(self, /)\n",
            " |      Implement iter(self).\n",
            " |  \n",
            " |  __le__(self, value, /)\n",
            " |      Return self<=value.\n",
            " |  \n",
            " |  __len__(self, /)\n",
            " |      Return len(self).\n",
            " |  \n",
            " |  __lt__(self, value, /)\n",
            " |      Return self<value.\n",
            " |  \n",
            " |  __mul__(self, value, /)\n",
            " |      Return self*value.\n",
            " |  \n",
            " |  __ne__(self, value, /)\n",
            " |      Return self!=value.\n",
            " |  \n",
            " |  __new__(*args, **kwargs) from builtins.type\n",
            " |      Create and return a new object.  See help(type) for accurate signature.\n",
            " |  \n",
            " |  __repr__(self, /)\n",
            " |      Return repr(self).\n",
            " |  \n",
            " |  __reversed__(...)\n",
            " |      L.__reversed__() -- return a reverse iterator over the list\n",
            " |  \n",
            " |  __rmul__(self, value, /)\n",
            " |      Return value*self.\n",
            " |  \n",
            " |  __setitem__(self, key, value, /)\n",
            " |      Set self[key] to value.\n",
            " |  \n",
            " |  __sizeof__(...)\n",
            " |      L.__sizeof__() -- size of L in memory, in bytes\n",
            " |  \n",
            " |  append(...)\n",
            " |      L.append(object) -> None -- append object to end\n",
            " |  \n",
            " |  clear(...)\n",
            " |      L.clear() -> None -- remove all items from L\n",
            " |  \n",
            " |  copy(...)\n",
            " |      L.copy() -> list -- a shallow copy of L\n",
            " |  \n",
            " |  count(...)\n",
            " |      L.count(value) -> integer -- return number of occurrences of value\n",
            " |  \n",
            " |  extend(...)\n",
            " |      L.extend(iterable) -> None -- extend list by appending elements from the iterable\n",
            " |  \n",
            " |  index(...)\n",
            " |      L.index(value, [start, [stop]]) -> integer -- return first index of value.\n",
            " |      Raises ValueError if the value is not present.\n",
            " |  \n",
            " |  insert(...)\n",
            " |      L.insert(index, object) -- insert object before index\n",
            " |  \n",
            " |  pop(...)\n",
            " |      L.pop([index]) -> item -- remove and return item at index (default last).\n",
            " |      Raises IndexError if list is empty or index is out of range.\n",
            " |  \n",
            " |  remove(...)\n",
            " |      L.remove(value) -> None -- remove first occurrence of value.\n",
            " |      Raises ValueError if the value is not present.\n",
            " |  \n",
            " |  reverse(...)\n",
            " |      L.reverse() -- reverse *IN PLACE*\n",
            " |  \n",
            " |  sort(...)\n",
            " |      L.sort(key=None, reverse=False) -> None -- stable sort *IN PLACE*\n",
            " |  \n",
            " |  ----------------------------------------------------------------------\n",
            " |  Data and other attributes defined here:\n",
            " |  \n",
            " |  __hash__ = None\n",
            "\n"
          ],
          "name": "stdout"
        },
        {
          "output_type": "execute_result",
          "data": {
            "text/plain": [
              "['__add__',\n",
              " '__class__',\n",
              " '__contains__',\n",
              " '__delattr__',\n",
              " '__delitem__',\n",
              " '__dir__',\n",
              " '__doc__',\n",
              " '__eq__',\n",
              " '__format__',\n",
              " '__ge__',\n",
              " '__getattribute__',\n",
              " '__getitem__',\n",
              " '__gt__',\n",
              " '__hash__',\n",
              " '__iadd__',\n",
              " '__imul__',\n",
              " '__init__',\n",
              " '__init_subclass__',\n",
              " '__iter__',\n",
              " '__le__',\n",
              " '__len__',\n",
              " '__lt__',\n",
              " '__mul__',\n",
              " '__ne__',\n",
              " '__new__',\n",
              " '__reduce__',\n",
              " '__reduce_ex__',\n",
              " '__repr__',\n",
              " '__reversed__',\n",
              " '__rmul__',\n",
              " '__setattr__',\n",
              " '__setitem__',\n",
              " '__sizeof__',\n",
              " '__str__',\n",
              " '__subclasshook__',\n",
              " 'append',\n",
              " 'clear',\n",
              " 'copy',\n",
              " 'count',\n",
              " 'extend',\n",
              " 'index',\n",
              " 'insert',\n",
              " 'pop',\n",
              " 'remove',\n",
              " 'reverse',\n",
              " 'sort']"
            ]
          },
          "metadata": {
            "tags": []
          },
          "execution_count": 63
        }
      ]
    }
  ]
}