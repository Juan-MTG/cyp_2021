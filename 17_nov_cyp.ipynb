{
  "nbformat": 4,
  "nbformat_minor": 0,
  "metadata": {
    "colab": {
      "name": "17_nov_cyp.ipynb",
      "provenance": [],
      "authorship_tag": "ABX9TyPSc/hD1C3FFqddDMX6n61u",
      "include_colab_link": true
    },
    "kernelspec": {
      "name": "python3",
      "display_name": "Python 3"
    }
  },
  "cells": [
    {
      "cell_type": "markdown",
      "metadata": {
        "id": "view-in-github",
        "colab_type": "text"
      },
      "source": [
        "<a href=\"https://colab.research.google.com/github/Juan-MTG/cyp_2021/blob/main/17_nov_cyp.ipynb\" target=\"_parent\"><img src=\"https://colab.research.google.com/assets/colab-badge.svg\" alt=\"Open In Colab\"/></a>"
      ]
    },
    {
      "cell_type": "code",
      "metadata": {
        "colab": {
          "base_uri": "https://localhost:8080/"
        },
        "id": "wfaBWLtWSJyv",
        "outputId": "5bd3bed4-96e6-44ce-90dd-5c30d55bac5a"
      },
      "source": [
        "#PROGRAMAS REALIZADOS EL DÍA 17 DE NOVIMEBRE DEL 2020\n",
        "#Operadores aritméticos\n",
        "edad= 15\n",
        "estatura = 1.67\n",
        "a= 10\n",
        "b= 3\n",
        "c= 2**b + 2 + 3 + 4\n",
        "print (c)\n",
        "e= estatura * 2.0\n",
        "print (e)\n",
        "f= a/b #en python se hace el cálculo exacto\n",
        "print(f)# 3.3333\n",
        "\n",
        "#también podemos forzar el cálculo de enteros\n",
        "g= a//b #división de enteros\n",
        "print (\"g=\",g)\n",
        "\n",
        "h= a % b\n",
        "print (\"h =\", h)\n",
        "\n",
        "num = 11\n",
        "print( \"es par la variable num?\", (num % 2) ==0)# i el módulo de un número dividido entre dos es 0 entonces es PAR\n",
        "\n"
      ],
      "execution_count": 14,
      "outputs": [
        {
          "output_type": "stream",
          "text": [
            "17\n",
            "3.34\n",
            "3.3333333333333335\n",
            "g= 3\n",
            "h = 1\n",
            "es par la variable num? False\n"
          ],
          "name": "stdout"
        }
      ]
    },
    {
      "cell_type": "code",
      "metadata": {
        "colab": {
          "base_uri": "https://localhost:8080/"
        },
        "id": "cQJFJFuhW4cb",
        "outputId": "e95435c8-ec92-43ed-87fe-ca45f4d2c323"
      },
      "source": [
        "ecuacion = 9 + 7 *8 - 36/5\n",
        "print (ecuacion)\n",
        "\n",
        "ecuacion = 9 + 7 * (8-36)/5\n",
        "print (ecuacion)"
      ],
      "execution_count": 19,
      "outputs": [
        {
          "output_type": "stream",
          "text": [
            "57.8\n",
            "-30.200000000000003\n"
          ],
          "name": "stdout"
        }
      ]
    },
    {
      "cell_type": "code",
      "metadata": {
        "colab": {
          "base_uri": "https://localhost:8080/"
        },
        "id": "CGPMMTt9b90r",
        "outputId": "ad46e580-e755-4a00-e33d-36a6c5d24dde"
      },
      "source": [
        "#operadores relacionales\n",
        "\n",
        "valor = (4==4) #true\n",
        "print (valor)\n",
        "valor= (5==4) #false\n",
        "print (valor)\n",
        "\n",
        "x=5\n",
        "y=4\n",
        "valor = (x==y) #son iguales ??  -->FALSO\n",
        "print (valor)\n",
        "\n",
        "valor = (x!=y)#son diferentes? ---> VERDADERO\n",
        "print (valor)\n",
        "\n",
        "valor = (x>y)# x es MAYOR que y? ---> VERDADERO\n",
        "print (valor)\n",
        "\n",
        "y=5\n",
        "valor = (x<=y)# x es MENOR O IGUAL  que y? ---> VERDADERO\n",
        "print (valor)\n",
        "\n",
        "valor = (x>=y)# x es MAYOR O IGUAL  que y? ---> VERDADERO\n",
        "print (valor)"
      ],
      "execution_count": 35,
      "outputs": [
        {
          "output_type": "stream",
          "text": [
            "True\n",
            "False\n",
            "False\n",
            "True\n",
            "True\n",
            "True\n",
            "True\n"
          ],
          "name": "stdout"
        }
      ]
    },
    {
      "cell_type": "code",
      "metadata": {
        "colab": {
          "base_uri": "https://localhost:8080/"
        },
        "id": "McHybv7Jfx_T",
        "outputId": "b06a8867-2acd-47d9-adf5-dcd3d1290836"
      },
      "source": [
        "#Operadores Lógicos\n",
        "costo_chetos= 7.0\n",
        "tienda_abierta= True \n",
        "capital_en_bolsa= 10.0\n",
        "\n",
        "se_compra = (costo_chetos < capital_en_bolsa) and (tienda_abierta==True )\n",
        "print (se_compra)\n"
      ],
      "execution_count": 41,
      "outputs": [
        {
          "output_type": "stream",
          "text": [
            "True\n"
          ],
          "name": "stdout"
        }
      ]
    }
  ]
}