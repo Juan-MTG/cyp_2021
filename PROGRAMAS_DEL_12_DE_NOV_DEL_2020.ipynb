{
  "nbformat": 4,
  "nbformat_minor": 0,
  "metadata": {
    "colab": {
      "name": "PROGRAMAS DEL 12 DE NOV DEL 2020.ipynb",
      "provenance": [],
      "authorship_tag": "ABX9TyOY44Wnx335R+KlJkGzwWxD",
      "include_colab_link": true
    },
    "kernelspec": {
      "name": "python3",
      "display_name": "Python 3"
    }
  },
  "cells": [
    {
      "cell_type": "markdown",
      "metadata": {
        "id": "view-in-github",
        "colab_type": "text"
      },
      "source": [
        "<a href=\"https://colab.research.google.com/github/Juan-MTG/cyp_2021/blob/main/PROGRAMAS_DEL_12_DE_NOV_DEL_2020.ipynb\" target=\"_parent\"><img src=\"https://colab.research.google.com/assets/colab-badge.svg\" alt=\"Open In Colab\"/></a>"
      ]
    },
    {
      "cell_type": "code",
      "metadata": {
        "id": "e89xtvcwvX-p",
        "outputId": "748d9883-2a0d-4c63-d980-d68b06585f12",
        "colab": {
          "base_uri": "https://localhost:8080/"
        }
      },
      "source": [
        "#PROGRAMA REALIZADO EL 12/11/20\n",
        "numero=int (input(\"Dame un número \"))\n",
        "if numero>0:\n",
        "  print(\"El número es positivo\")\n",
        "print (\"Fin del programa\")"
      ],
      "execution_count": 2,
      "outputs": [
        {
          "output_type": "stream",
          "text": [
            "Dame un número 4\n",
            "El número es positivo\n",
            "Fin del programa\n"
          ],
          "name": "stdout"
        }
      ]
    },
    {
      "cell_type": "code",
      "metadata": {
        "id": "WxThreIUvYN_",
        "outputId": "083cb8b9-61e8-42c4-a4e9-549042620c5e",
        "colab": {
          "base_uri": "https://localhost:8080/"
        }
      },
      "source": [
        "#PROGRAMA REALIZADO EL 12/11/20\n",
        "numero= int (input(\"Digite un número\"))\n",
        "if numero >0:\n",
        "  print(\"El número es positivo\")\n",
        "else :\n",
        "  print (\"El número es negativo\")"
      ],
      "execution_count": 3,
      "outputs": [
        {
          "output_type": "stream",
          "text": [
            "Digite un número-7\n",
            "El número es negativo\n"
          ],
          "name": "stdout"
        }
      ]
    },
    {
      "cell_type": "code",
      "metadata": {
        "id": "iCBudLe3vTk1",
        "outputId": "a3ade69b-8d74-4f28-b60f-79e886f68ac1",
        "colab": {
          "base_uri": "https://localhost:8080/"
        }
      },
      "source": [
        "#PROGRAMA REALIZADO EL 12/11/20\n",
        "numero = int(input(\"Ingresa un número: \"))\n",
        "if numero>0:  #Evalua  el número ingresado \n",
        "  print(\"Número es positivo\") \n",
        "elif numero<0: \n",
        "  print(\"Número es negativo\")\n",
        "else: #Si o se cumple ninguna condición anterior, entonces es 0\n",
        "  print(\"Número es 0\") \n",
        "  #Al final imprimira el la cadena de caracteres que corresponda con la condición verdadera\n",
        "print(\"FIN DEL PROGRAMA\")"
      ],
      "execution_count": 1,
      "outputs": [
        {
          "output_type": "stream",
          "text": [
            "Ingresa un número: 0\n",
            "Número es 0\n",
            "FIN DEL PROGRAMA\n"
          ],
          "name": "stdout"
        }
      ]
    }
  ]
}