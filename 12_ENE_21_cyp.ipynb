{
  "nbformat": 4,
  "nbformat_minor": 0,
  "metadata": {
    "colab": {
      "name": "12_ENE_21_cyp.ipynb",
      "provenance": [],
      "authorship_tag": "ABX9TyOG446/XttxHZVI+/h1e650",
      "include_colab_link": true
    },
    "kernelspec": {
      "name": "python3",
      "display_name": "Python 3"
    }
  },
  "cells": [
    {
      "cell_type": "markdown",
      "metadata": {
        "id": "view-in-github",
        "colab_type": "text"
      },
      "source": [
        "<a href=\"https://colab.research.google.com/github/Juan-MTG/cyp_2021/blob/main/12_ENE_21_cyp.ipynb\" target=\"_parent\"><img src=\"https://colab.research.google.com/assets/colab-badge.svg\" alt=\"Open In Colab\"/></a>"
      ]
    },
    {
      "cell_type": "markdown",
      "metadata": {
        "id": "aExS8o0GpbLP"
      },
      "source": [
        "#INTRODUCCIÓN A PYTHON\r\n",
        "- Creado en los 90s por Guido Van R.\r\n",
        "- En el 2000 python mejora y tiene nuevas características.\r\n",
        "- En el 2020 deja de ser la versión oficial python (2.7) y solo se le dará soporte a python 3 en adelante.\r\n",
        "##  Características de pyhton\r\n",
        "1. Lenguaje de propósito general (que sea usado en diferentes áreas del computo y programación).\r\n",
        "2. Es un lenguaje interpretado (conforme se lee el programa, se transforma y se manda a ejecución)y no compilado.\r\n",
        "3. Tipos de datos dinámicos (numericos, cadena, bool, etc).\r\n",
        "4. Es multiplataforma (puede usarse en diversos sistemas operativos).\r\n",
        "5. Lenguaje multi-paradigma (formas de programar: Imperativa, POO y Funcional).\r\n",
        "6. Código es estructurado por indentación.\r\n",
        "7. \r\n",
        "```\r\n",
        "  if a > 10:\r\n",
        "      print(\"Hola\")\r\n",
        "  print(\"HOLA DOS\")\r\n",
        "```\r\n",
        "##Principios ZEN de Python\r\n",
        "\r\n",
        "  Son las características quie guían el  diseño del lenguaje de programación Python:\r\n",
        "\r\n",
        "\r\n",
        "\r\n",
        "\r\n",
        "\r\n"
      ]
    },
    {
      "cell_type": "code",
      "metadata": {
        "colab": {
          "base_uri": "https://localhost:8080/"
        },
        "id": "g_c0knX6lSAd",
        "outputId": "3f35e746-90ad-42b0-db85-cccdc4d81bc2"
      },
      "source": [
        "#primer programa en Python 3\r\n",
        "\r\n",
        "nombre = \"JUAN\"\r\n",
        "edad = 18\r\n",
        "print(\"Hola\",nombre, edad) #Python concatena convirtiendo valores como edad a string\r\n"
      ],
      "execution_count": 2,
      "outputs": [
        {
          "output_type": "stream",
          "text": [
            "Hola JUAN 18\n"
          ],
          "name": "stdout"
        }
      ]
    },
    {
      "cell_type": "markdown",
      "metadata": {
        "id": "RTaEB5jZvu13"
      },
      "source": [
        "#La función print()\r\n",
        "Es una de las funciones mas empleadas en programación y busca datos enviar datos a la salida estandar (monitor)\r\n",
        "\r\n",
        "### FORMAS DE USO\r\n",
        "1. Con comas\r\n",
        "2. Con signos +\r\n",
        "3. .format()\r\n",
        "4. el operador f\"   \"\r\n",
        "\r\n",
        "###Con comas\r\n",
        "Concatena los argumentos enviados a print y les agrega un espacio.\r\n",
        "\r\n",
        "##Con signos +\r\n",
        "Concatena los valores sin espacio y sin hacer conversión de  tipos.\r\n",
        "\r\n",
        "##Con la función format()\r\n",
        "Permite darle formato a la salida de la impresión de variables. Emplea la función format de el tipo de dato string.\r\n",
        "``` \r\n",
        "\" cadena a formatear \". format(v1,v2,vn)\r\n",
        "``` \r\n",
        "Emplea como comodines para sustituir valores los signos de { }\r\n",
        "\r\n",
        "###Con el operador f \" \"\r\n",
        "Es una variante de la forma anterior pero enmascarando la función format( ).\r\n",
        "``` \r\n",
        "print(f\"cadena{variable1}cadena{variable2} cadena.\")\r\n",
        "``` \r\n"
      ]
    },
    {
      "cell_type": "code",
      "metadata": {
        "colab": {
          "base_uri": "https://localhost:8080/"
        },
        "id": "uW0gWu1Jwu75",
        "outputId": "7db55c3c-1d0f-4f54-c613-592df7a4f296"
      },
      "source": [
        "#Las variables que declara en un código también \r\n",
        "#las puede llamar a otro código aparte\r\n",
        "print(\"HOLA\",nombre , edad)\r\n",
        "print(\"HOLA \" + nombre +\" \"+ str(edad))#edad es un valor numerico y debe ser \r\n",
        "#convertido en string con str() para usar los signos\r\n",
        "\r\n",
        "#Nombre: José, con una edad de : 18 años.\r\n",
        "print(\"Nombre: \",nombre, \"con una edad de: \", edad, \"años\")\r\n",
        "print(\"Nombre:  \"+ nombre + \" con una edad de:  \" + str(edad) + \" años\")\r\n",
        "\r\n",
        "#Con format\r\n",
        "print(\"Nombre:  {1} con una edad de:  {0} años\".format(nombre,edad))\r\n",
        "print(\"Nombre:  {0} con una edad de:  {1} años\".format(nombre,edad))\r\n",
        "#Con el operador f\" \"\r\n",
        "print(f\"Nombre:  {nombre} con una edad de:  {edad} años\")\r\n",
        "print(\"\"\" \" \"\"\")"
      ],
      "execution_count": 19,
      "outputs": [
        {
          "output_type": "stream",
          "text": [
            "HOLA JUAN 18\n",
            "HOLA JUAN 18\n",
            "Nombre:  JUAN con una edad de:  18 años\n",
            "Nombre:  JUAN con una edad de:  18 años\n",
            "Nombre:  18 con una edad de:  JUAN años\n",
            "Nombre:  JUAN con una edad de:  18 años\n",
            "Nombre:  JUAN con una edad de:  18 años\n",
            " \" \n"
          ],
          "name": "stdout"
        }
      ]
    },
    {
      "cell_type": "markdown",
      "metadata": {
        "id": "6J4vRo9L2MNp"
      },
      "source": [
        "# Función print()  y los caracteres de escape.\r\n",
        "- \\n -- es salto de línea\r\n",
        "- \\t -- tabulador\r\n",
        "- \\\\ -- imprimir la diagonal \\\r\n",
        "- \\' y \\''\r\n",
        "- \\uxxxx\r\n",
        "- \\uxxxxxxxx\r\n"
      ]
    },
    {
      "cell_type": "code",
      "metadata": {
        "colab": {
          "base_uri": "https://localhost:8080/"
        },
        "id": "hVO4i5Ck3K6t",
        "outputId": "5cf8abad-ef95-48ed-c0b1-ada7e405532e"
      },
      "source": [
        "print(\"\"\" \" \"\"\")\r\n",
        "print(\"\\\"\") #la \\ permite diferencias lo de adento con las comillas\r\n",
        "#\\n\r\n",
        "print(\"Nombre:  JUAN\\ncon una edad de:  18 años\")\r\n",
        "#\\t\r\n",
        "print(\"Nombre:  JUAN\\n\\tcon una edad de:  18 años\")\r\n",
        "#\\\r\n",
        "print(\"Nombre:  JUAN\\n\\tcon una edad \\ de:  18 años\")\r\n",
        "#caracteres unicode (32 bit)\r\n",
        "print(\"Hola \\u2661\")\r\n",
        "print(\"Hola \\u2618\")"
      ],
      "execution_count": 36,
      "outputs": [
        {
          "output_type": "stream",
          "text": [
            " \" \n",
            "\"\n",
            "Nombre:  JUAN\n",
            "con una edad de:  18 años\n",
            "Nombre:  JUAN\n",
            "\tcon una edad de:  18 años\n",
            "Nombre:  JUAN\n",
            "\tcon una edad \\ de:  18 años\n",
            "Hola ♡\n",
            "Hola ☘\n"
          ],
          "name": "stdout"
        }
      ]
    },
    {
      "cell_type": "markdown",
      "metadata": {
        "id": "s5JVYzZq8M4k"
      },
      "source": [
        "## print y salto de líne en el argumento.\r\n",
        "print([lista de variables]), ende =\"\\n\")"
      ]
    },
    {
      "cell_type": "code",
      "metadata": {
        "colab": {
          "base_uri": "https://localhost:8080/"
        },
        "id": "St6LxsnC8aIk",
        "outputId": "b6d94277-6010-446b-8947-71d08b769bee"
      },
      "source": [
        "print(\"HOLA\" , end= \" \\u13CD\")\r\n",
        "print(\"MUNDO\", end= \"+++ \")\r\n",
        "print(\"FIN :V\", end= \" \")"
      ],
      "execution_count": 42,
      "outputs": [
        {
          "output_type": "stream",
          "text": [
            "HOLA ᏍMUNDO+++ FIN :V "
          ],
          "name": "stdout"
        }
      ]
    },
    {
      "cell_type": "markdown",
      "metadata": {
        "id": "ATq1QLjg9fMq"
      },
      "source": [
        "# Comentarios en Python.\r\n",
        "Un comentario en programación, es un texto especial que es ignorado por el intérprete o compilador (según sea el caso del lenguaje) y es empleado para que el programador documente sus algoritmos.\r\n",
        "\r\n",
        "Existen de dos tipos:\r\n",
        "- Linea simple (#)\r\n",
        "``` \r\n",
        "# Comentario de línea simple\r\n",
        "``` \r\n",
        "- Múltiple línea (\" \" \" comentario \" \" \")\r\n",
        "``` \r\n",
        "\"\"\" Esto es un comentario de línea múltiple\r\n",
        "\"\"\"\r\n",
        "``` "
      ]
    },
    {
      "cell_type": "code",
      "metadata": {
        "colab": {
          "base_uri": "https://localhost:8080/"
        },
        "id": "-pAyto69-vII",
        "outputId": "9b1954ad-543a-43d2-b387-9d4206d43e3c"
      },
      "source": [
        "print(\"HOLA\") #Esta línea imprime hola\r\n",
        "\"\"\"Comentario ideal para describir o ecplicar\r\n",
        " algo a fondo o que requiera mayor descripción\r\n",
        "\"\"\"\r\n",
        "print(\"Hola 2\")"
      ],
      "execution_count": 43,
      "outputs": [
        {
          "output_type": "stream",
          "text": [
            "HOLA\n",
            "Hola 2\n"
          ],
          "name": "stdout"
        }
      ]
    }
  ]
}