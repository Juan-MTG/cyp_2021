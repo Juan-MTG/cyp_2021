{
  "nbformat": 4,
  "nbformat_minor": 0,
  "metadata": {
    "colab": {
      "name": "CORRECCION_TAREA4_cyp.ipynb",
      "provenance": [],
      "authorship_tag": "ABX9TyMDcuJRk2ys812HFxvkgH24",
      "include_colab_link": true
    },
    "kernelspec": {
      "name": "python3",
      "display_name": "Python 3"
    }
  },
  "cells": [
    {
      "cell_type": "markdown",
      "metadata": {
        "id": "view-in-github",
        "colab_type": "text"
      },
      "source": [
        "<a href=\"https://colab.research.google.com/github/Juan-MTG/cyp_2021/blob/main/CORRECCION_TAREA4_cyp.ipynb\" target=\"_parent\"><img src=\"https://colab.research.google.com/assets/colab-badge.svg\" alt=\"Open In Colab\"/></a>"
      ]
    },
    {
      "cell_type": "code",
      "metadata": {
        "colab": {
          "base_uri": "https://localhost:8080/"
        },
        "id": "DXNRAaRvLor4",
        "outputId": "e52a440f-49e9-48ca-daf8-dae66a7087de"
      },
      "source": [
        "#EJERCICIO 2.4\n",
        "#PÁGINA 60\n",
        "\n",
        "#Declaración de variables\n",
        "SUE=0\n",
        "AUM=0\n",
        "#Introducción de información \n",
        "SUE=float(input(\"Sueldo del trabajador: $\"))\n",
        "\n",
        "#Selección \n",
        "if (SUE < 1000):\n",
        "  AUM = (SUE * 0.15) + SUE\n",
        "  print(f\"SUELDO CON AUMENTO DEL 15%: ${AUM}\")\n",
        "else:\n",
        "  AUM = (SUE * 0.12) + SUE\n",
        "  print(f\"SUELDO CON AUMENTO DEL 12%: ${AUM}\")\n",
        "#Fin del programa"
      ],
      "execution_count": 3,
      "outputs": [
        {
          "output_type": "stream",
          "text": [
            "Sueldo del trabajador: $1250\n",
            "SUELDO CON AUMENTO DEL 12%: $1400.0\n"
          ],
          "name": "stdout"
        }
      ]
    },
    {
      "cell_type": "code",
      "metadata": {
        "colab": {
          "base_uri": "https://localhost:8080/"
        },
        "id": "EIl5jle3NeGr",
        "outputId": "ff8b7e3b-e83e-4eb7-c3a9-52a75e6bb9e3"
      },
      "source": [
        "#EJERCICIO 2.8\n",
        "#PÁGINA 68\n",
        "\n",
        "#Declaración de variables\n",
        "CATE=0\n",
        "SUE=0\n",
        "NSUE=0\n",
        "\n",
        "#Introducción de información \n",
        "CATE= int (input(\"Categoría del trabajador: \"))\n",
        "SUE= float (input(\"Sueldo del trabajador: \"))\n",
        "\n",
        "#Selección \n",
        "if (CATE==1):\n",
        "  NSUE= SUE*(1.15)\n",
        "  print()\n",
        "  print(\"CATEGORIA: \",CATE)\n",
        "  print(\"SUELDO CON AUMENTO CORRESPONDIENTE: \",NSUE)\n",
        "elif (CATE==2):\n",
        "  NSUE= SUE*(1.10)\n",
        "  print()\n",
        "  print(\"CATEGORIA: \",CATE)\n",
        "  print(\"SUELDO CON AUMENTO CORRESPONDIENTE: \",NSUE)\n",
        "elif (CATE==3):\n",
        "  NSUE= SUE*(1.08)\n",
        "  print()\n",
        "  print(\"CATEGORIA: \",CATE)\n",
        "  print(\"SUELDO CON AUMENTO CORRESPONDIENTE: \",NSUE)\n",
        "elif (CATE==4):\n",
        "  NSUE= SUE*(1.07)\n",
        "  print()\n",
        "  print(\"CATEGORIA: \",CATE)\n",
        "  print(\"SUELDO CON AUMENTO CORRESPONDIENTE: \",NSUE)\n",
        "else:\n",
        "  print()\n",
        "  print(\"CATEGORIA INEXISTENTE\")"
      ],
      "execution_count": null,
      "outputs": [
        {
          "output_type": "stream",
          "text": [
            "Categoría del trabajador: 3\n",
            "Sueldo del trabajador: 4100\n",
            "\n",
            "CATEGORIA:  3\n",
            "SUELDO CON AUMENTO CORRESPONDIENTE:  4428.0\n"
          ],
          "name": "stdout"
        }
      ]
    }
  ]
}