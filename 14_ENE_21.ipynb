{
  "nbformat": 4,
  "nbformat_minor": 0,
  "metadata": {
    "colab": {
      "name": "14_ENE_21.ipynb",
      "provenance": [],
      "authorship_tag": "ABX9TyNCZzzn5S/MJ/LpJsbBgflE",
      "include_colab_link": true
    },
    "kernelspec": {
      "name": "python3",
      "display_name": "Python 3"
    }
  },
  "cells": [
    {
      "cell_type": "markdown",
      "metadata": {
        "id": "view-in-github",
        "colab_type": "text"
      },
      "source": [
        "<a href=\"https://colab.research.google.com/github/Juan-MTG/cyp_2021/blob/main/14_ENE_21.ipynb\" target=\"_parent\"><img src=\"https://colab.research.google.com/assets/colab-badge.svg\" alt=\"Open In Colab\"/></a>"
      ]
    },
    {
      "cell_type": "markdown",
      "metadata": {
        "id": "ha82oagd5SAS"
      },
      "source": [
        "# Palabras reservadas de Python 3:\r\n",
        "1 False\r\n",
        "2 None\r\n",
        "3 True\r\n",
        "4 and\r\n",
        "5 as\r\n",
        "6 assert\r\n",
        "7 break\r\n",
        "8 class\r\n",
        "9 continue\r\n",
        "10 def\r\n",
        "11 del\r\n",
        "12 elif\r\n",
        "13 else\r\n",
        "14 except\r\n",
        "15 finally\r\n",
        "16 for\r\n",
        "17 from\r\n",
        "18 global\r\n",
        "19 if\r\n",
        "20 import\r\n",
        "21 in\r\n",
        "22 is\r\n",
        "23 lambda\r\n",
        "24 nonlocal\r\n",
        "25 not\r\n",
        "26 or\r\n",
        "27 pass\r\n",
        "28 raise\r\n",
        "29 return\r\n",
        "30 try\r\n",
        "31 while\r\n",
        "32 with\r\n",
        "33 yield"
      ]
    },
    {
      "cell_type": "code",
      "metadata": {
        "colab": {
          "base_uri": "https://localhost:8080/"
        },
        "id": "g2I-4bIV2l7F",
        "outputId": "03a658dd-2d7c-4844-d2a3-c6bd0ef9e18a"
      },
      "source": [
        "import keyword\r\n",
        "pr= keyword.kwlist\r\n",
        "print(len(pr))\r\n",
        "i=1\r\n",
        "for palabra in pr:\r\n",
        "  print(str(i),palabra)\r\n",
        "  i +=1"
      ],
      "execution_count": 5,
      "outputs": [
        {
          "output_type": "stream",
          "text": [
            "33\n",
            "1 False\n",
            "2 None\n",
            "3 True\n",
            "4 and\n",
            "5 as\n",
            "6 assert\n",
            "7 break\n",
            "8 class\n",
            "9 continue\n",
            "10 def\n",
            "11 del\n",
            "12 elif\n",
            "13 else\n",
            "14 except\n",
            "15 finally\n",
            "16 for\n",
            "17 from\n",
            "18 global\n",
            "19 if\n",
            "20 import\n",
            "21 in\n",
            "22 is\n",
            "23 lambda\n",
            "24 nonlocal\n",
            "25 not\n",
            "26 or\n",
            "27 pass\n",
            "28 raise\n",
            "29 return\n",
            "30 try\n",
            "31 while\n",
            "32 with\n",
            "33 yield\n"
          ],
          "name": "stdout"
        }
      ]
    },
    {
      "cell_type": "markdown",
      "metadata": {
        "id": "i7nTtKW77D5l"
      },
      "source": [
        "## Variable\r\n",
        "Es un espacio de memoria de la computadora para almacenar valores que combinan a lo largo de la ejecución del programa. Estes espacio de memoria esta referenciado para un identificador, el cual tienen ciertas reglas de nombrado.\r\n",
        "- No puede iniciar con un número.\r\n",
        "- Puede iniciar con guión bajo.\r\n",
        "- No debe ser igual a alguna de las palabras reservadas.\r\n",
        "- Evitar nombres de variables largos.\r\n",
        "- Evitar muy cortos, ejemplo: x, y, i.\r\n",
        "- Usa notación snake_case\r\n"
      ]
    },
    {
      "cell_type": "code",
      "metadata": {
        "colab": {
          "base_uri": "https://localhost:8080/"
        },
        "id": "oxDhYUIS7wko",
        "outputId": "9965c91d-55ee-43fe-9e87-2c949b21e1a2"
      },
      "source": [
        "_2edad = 12\r\n",
        "print(_2edad)\r\n",
        "\r\n",
        "\"\"\"\r\n",
        "No se puede usar una palabra reservada como identificador de variable\r\n",
        "for=2\r\n",
        "print(for)\r\n",
        "\"\"\"\r\n",
        "_2edad"
      ],
      "execution_count": 14,
      "outputs": [
        {
          "output_type": "stream",
          "text": [
            "12\n"
          ],
          "name": "stdout"
        },
        {
          "output_type": "execute_result",
          "data": {
            "text/plain": [
              "12"
            ]
          },
          "metadata": {
            "tags": []
          },
          "execution_count": 14
        }
      ]
    },
    {
      "cell_type": "code",
      "metadata": {
        "id": "Op7OlO1L9LBY"
      },
      "source": [
        "\"\"\"\r\n",
        "La notación snake.case consta de formar el identificador de variable\r\n",
        "separando las palabras del mismo con un guión bajo.\r\n",
        "\r\n",
        "Se recomienda que los identificadores se escriban en minusculas para las \r\n",
        "variables y en mayúsculas para las constantes.\r\n",
        "\r\n",
        "Es decir si tenemos una variable para los dias de la semana, se escribiría:\r\n",
        "\r\n",
        "dias_de_la_semana = 7\r\n",
        "dias_mes = 31\r\n",
        "limite_maximo = 100\r\n",
        "\"\"\"\r\n",
        "# \"_\"es  el espacio representado con un guión bajo para identificadores de variables\r\n",
        "\r\n",
        "#Lower camel case: palabras separadas con mayúsculas pero inicia \r\n",
        "#la variable con minúscula.\r\n",
        "diasDeLaSemana = 7\r\n",
        "\r\n",
        "#Upper camel case:palabras separadas con mayúsculas\r\n",
        "SemanaSanta = 23\r\n"
      ],
      "execution_count": null,
      "outputs": []
    },
    {
      "cell_type": "markdown",
      "metadata": {
        "id": "uIeObJI7AeKy"
      },
      "source": [
        "# Tipos de datos\r\n",
        "- Numéricos:\r\n",
        "  - int 4 bytes (1,2,23454, etc)\r\n",
        "  - float 4 bytes (1.10, 3.1416, 1.0)\r\n",
        "  - long 8 bytes (1, 2, 23454, etc)\r\n",
        "  - complex 3 +2i (Raíces negativas)\r\n",
        "- Boolean: \r\n",
        "  - True\r\n",
        "  - False\r\n",
        "- String cadenas de caracteres (\"cad\",\r\n",
        "'cad' o \"\"\"cad\"\"\")\r\n",
        "- Listas ([1,2,3,4] , [a,b,c,1,2,3])\r\n",
        "- Tuplas (  (edad,23) , (3,4) )\r\n",
        "- Conjuntos\r\n",
        "- Diccionarios ( {\"nombre\" : \"Juan\"})"
      ]
    },
    {
      "cell_type": "markdown",
      "metadata": {
        "id": "p775P2Wx9trW"
      },
      "source": [
        "\r\n",
        "# Tipo de dato String\r\n",
        "\r\n",
        "Este tipo de dato permite almacenar cadenas de caracteres, como por ejemplo:\r\n",
        "+ nombre = 'Juan' (CUANDO ES UNA SOLA PALABRA)\r\n",
        "+ lugar_nacimiento = \"México D.F. , Tacuba\"\r\n",
        "+ frase_favorita = \"\"\"\r\n",
        "El conocimiento\r\n",
        "me persigue,\r\n",
        "pero...\r\n",
        "yo soy más rápido !!!\r\n",
        ":)\r\n",
        "\"\"\""
      ]
    },
    {
      "cell_type": "code",
      "metadata": {
        "colab": {
          "base_uri": "https://localhost:8080/"
        },
        "id": "HyuhO-XQFPZE",
        "outputId": "1b8af364-7709-44a8-9565-dd43795e4b08"
      },
      "source": [
        "nombre = 'Juan'\r\n",
        "lugar_nacimiento = \"México D.F. , Tacuba\"\r\n",
        "frase_favorita = \"\"\"\r\n",
        "El conocimiento\r\n",
        "me persigue,\r\n",
        "pero...\r\n",
        "yo soy más rápido !!!\r\n",
        ":)\r\n",
        "\"\"\"\r\n",
        "\r\n",
        "print(nombre)\r\n",
        "print(lugar_nacimiento)\r\n",
        "print(frase_favorita)"
      ],
      "execution_count": 15,
      "outputs": [
        {
          "output_type": "stream",
          "text": [
            "Juan\n",
            "México D.F. , Tacuba\n",
            "\n",
            "El conocimiento\n",
            "me persigue,\n",
            "pero...\n",
            "yo soy más rápido !!!\n",
            ":)\n",
            "\n"
          ],
          "name": "stdout"
        }
      ]
    },
    {
      "cell_type": "markdown",
      "metadata": {
        "id": "Q0TRxuflFr75"
      },
      "source": [
        "# String como arreglo\r\n",
        "Un string en python es almacenado como el tipo de dato (estructura de datos) arreglo.\r\n",
        "\r\n",
        "Por ejemplo la declaración:\r\n",
        "\r\n",
        "```\r\n",
        "nombre = 'Jesús'\r\n",
        "```\r\n",
        "El elemento 'J' es almacenado en un arreglo en la posición 0. La 'E' en la 1 y así sucesivamente.\r\n",
        "\r\n",
        "### Selector\r\n",
        "La notación para seleccionar un elemento del arreglo es \r\n",
        "```\r\n",
        "[ 1 ]\r\n",
        "```\r\n",
        "donde el valor interno debe ser un valor numérico entero."
      ]
    },
    {
      "cell_type": "code",
      "metadata": {
        "colab": {
          "base_uri": "https://localhost:8080/"
        },
        "id": "trvN3LO8Gx0r",
        "outputId": "a610d0a6-a42e-4eea-d814-889f82849e2d"
      },
      "source": [
        "nombre = 'Jesús'\r\n",
        "print(len(nombre))\r\n",
        "print(nombre)\r\n",
        "print(nombre [0])"
      ],
      "execution_count": 21,
      "outputs": [
        {
          "output_type": "stream",
          "text": [
            "5\n",
            "Jesús\n",
            "J\n"
          ],
          "name": "stdout"
        }
      ]
    },
    {
      "cell_type": "markdown",
      "metadata": {
        "id": "J3dYXVCcHot1"
      },
      "source": [
        "# Iterar sobre un String\r\n",
        "\r\n",
        "Se puede iterar sobre un String con un for de la forma:\r\n",
        "```\r\n",
        "for letra in range(len(nombre) ):\r\n",
        "    print(letra)\r\n",
        "```\r\n",
        "Tip: Se pueden hacer espacios entre columnas con esta función obteniendo los espacios."
      ]
    },
    {
      "cell_type": "code",
      "metadata": {
        "colab": {
          "base_uri": "https://localhost:8080/"
        },
        "id": "7rFxzAfYHktt",
        "outputId": "124d65b8-417b-42ca-cea1-56014f1b32e0"
      },
      "source": [
        "for indice in range(len(nombre)): #0, 1, 2, 3, 4\r\n",
        "  print(indice, end=\" \")\r\n",
        "  print(nombre[indice])"
      ],
      "execution_count": 24,
      "outputs": [
        {
          "output_type": "stream",
          "text": [
            "0 J\n",
            "1 e\n",
            "2 s\n",
            "3 ú\n",
            "4 s\n"
          ],
          "name": "stdout"
        }
      ]
    },
    {
      "cell_type": "markdown",
      "metadata": {
        "id": "vuXU2oCLJ9KS"
      },
      "source": [
        "# Función range(inicio, stop, incremento)\r\n",
        "\r\n",
        "El inicio es opcional y por defecto tiene el valor 0.\r\n",
        "El incremento también es opcional y por defecto es = 1"
      ]
    },
    {
      "cell_type": "code",
      "metadata": {
        "colab": {
          "base_uri": "https://localhost:8080/"
        },
        "id": "m9MFjYIjJzSb",
        "outputId": "54a061b3-486c-4439-af91-1cfabd20a361"
      },
      "source": [
        "for indice in range(0,len(nombre),1):\r\n",
        "  print(nombre[indice])\r\n",
        "print(\"\")\r\n",
        "for indice in range(4,-1,-1): #se invierte el inicio y tope para imprimir \r\n",
        "#al revés\r\n",
        "  print(nombre[indice])"
      ],
      "execution_count": 35,
      "outputs": [
        {
          "output_type": "stream",
          "text": [
            "J\n",
            "e\n",
            "s\n",
            "ú\n",
            "s\n",
            "\n",
            "s\n",
            "ú\n",
            "s\n",
            "e\n",
            "J\n"
          ],
          "name": "stdout"
        }
      ]
    },
    {
      "cell_type": "markdown",
      "metadata": {
        "id": "KGeByNsSL_lG"
      },
      "source": [
        "# String e indexado negativo\r\n",
        "En python 3 se agrega una nueva característica a los arreglos de las cadenas de caractaeres, esta consta de la capacidad de indexar de forma negativa.\r\n",
        "\r\n",
        "La lógica es la siguiente.\r\n",
        "\r\n",
        "El último elemento se le considera como índice (ALTERNATIVO) -1, con lo cual se podría referenciar el final de la cadena sin la necesidad de saber el tamaño de la misma.\r\n",
        "```\r\n",
        "nombre = 'MIGUEL'\r\n",
        "\r\n",
        "índice normal: 0, 1, 2, 3, 4, 5\r\n",
        "               M  I  G  U  E  L\r\n",
        "\r\n",
        "índice alternativo: -6,-5, -4, -3,-2, -1\r\n",
        "                     M  I   G   U  E  L\r\n",
        "```\r\n",
        "\r\n"
      ]
    },
    {
      "cell_type": "code",
      "metadata": {
        "colab": {
          "base_uri": "https://localhost:8080/"
        },
        "id": "F2zKSxiIMkPE",
        "outputId": "cfcda48d-510a-4470-c582-5df3c2def8d4"
      },
      "source": [
        "nombre2= 'MIGUEL'\r\n",
        "print(nombre2[4])\r\n",
        "print(nombre2[-1])\r\n",
        "print(\"\")\r\n",
        "for indice_alter in range(-1,-7,-1):\r\n",
        "  print(nombre2[indice_alter],end=\"\")"
      ],
      "execution_count": 66,
      "outputs": [
        {
          "output_type": "stream",
          "text": [
            "E\n",
            "L\n",
            "\n",
            "LEUGIM"
          ],
          "name": "stdout"
        }
      ]
    },
    {
      "cell_type": "markdown",
      "metadata": {
        "id": "pazHZ_tdQY-d"
      },
      "source": [
        "# Slicing de cadenas de caracteres\r\n",
        "\r\n",
        "Esta característica permite sacar secciones de una cadena con la siguiente sintaxis:\r\n",
        "```\r\n",
        "[inicio: stop: incremento]\r\n",
        "```\r\n",
        "\r\n",
        "donde inicio e incremento son opcionales y también soportan indexado alternativo (negativos)."
      ]
    },
    {
      "cell_type": "code",
      "metadata": {
        "colab": {
          "base_uri": "https://localhost:8080/"
        },
        "id": "km9196dBQgJq",
        "outputId": "a5f4b747-c0ec-47dc-902f-cd215bc4a01f"
      },
      "source": [
        "facultad = \"Facultad de Estudios Superiores Aragón (La mejor)\"\r\n",
        "\r\n",
        "print(facultad)\r\n",
        "#Para obtener un pedazo de la cadena se usa y se usaba un for\r\n",
        "for x in range(12,20,1):\r\n",
        "  print(facultad[x], end=\"\")\r\n",
        "print(\"\")\r\n",
        "\r\n",
        "#Pero con la caracteristica Slicing se logra así:\r\n",
        "print(\"CON Slicing: \", end=\"\")\r\n",
        "print(facultad [12:20:1])\r\n",
        "#de\r\n",
        "print(facultad[9:11:1],\"\\n \")\r\n",
        "\r\n",
        "print(\"La frase '(la mejor)' con indexado alternativo y slicing\")\r\n",
        "#La frase '(la mejor)' con indexado alternativo y slicing\r\n",
        "print(facultad[-1:-11:-1])\r\n",
        "print(\"\\nLa frase '(la mejor)' con indexado normal y slicing\")\r\n",
        "print(facultad[39:49:1])\r\n",
        "\r\n",
        "print(len(facultad))"
      ],
      "execution_count": 74,
      "outputs": [
        {
          "output_type": "stream",
          "text": [
            "Facultad de Estudios Superiores Aragón (La mejor)\n",
            "Estudios\n",
            "CON Slicing: Estudios\n",
            "de \n",
            " \n",
            "La frase '(la mejor)' con indexado alternativo y slicing\n",
            ")rojem aL(\n",
            "\n",
            "La frase '(la mejor)' con indexado normal y slicing\n",
            "(La mejor)\n",
            "49\n"
          ],
          "name": "stdout"
        }
      ]
    }
  ]
}