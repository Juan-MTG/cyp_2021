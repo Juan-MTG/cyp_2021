{
  "nbformat": 4,
  "nbformat_minor": 0,
  "metadata": {
    "colab": {
      "name": "5_ENE_2021_cyp.ipynb",
      "provenance": [],
      "authorship_tag": "ABX9TyP3S0GaK+iG/DxXOgA+HRCD",
      "include_colab_link": true
    },
    "kernelspec": {
      "name": "python3",
      "display_name": "Python 3"
    }
  },
  "cells": [
    {
      "cell_type": "markdown",
      "metadata": {
        "id": "view-in-github",
        "colab_type": "text"
      },
      "source": [
        "<a href=\"https://colab.research.google.com/github/Juan-MTG/cyp_2021/blob/main/5_ENE_2021_cyp.ipynb\" target=\"_parent\"><img src=\"https://colab.research.google.com/assets/colab-badge.svg\" alt=\"Open In Colab\"/></a>"
      ]
    },
    {
      "cell_type": "code",
      "metadata": {
        "colab": {
          "base_uri": "https://localhost:8080/"
        },
        "id": "fSij-wuUkWSs",
        "outputId": "383ac93d-485c-4020-b41d-f1e55588027b"
      },
      "source": [
        "#ARREGLO ejemplo\r\n",
        "\r\n",
        "sueldos = [0.0 for x in range(7)]\r\n",
        "print(sueldos)\r\n",
        "sueldos[0]= 12.3\r\n",
        "sueldos[1]= 32.3\r\n",
        "sueldos[2]= 42.3\r\n",
        "sueldos[3]= 172.3\r\n",
        "sueldos[4]= 124.3\r\n",
        "sueldos[5]= 12.23\r\n",
        "sueldos[6]= 123.3\r\n",
        "print(sueldos)"
      ],
      "execution_count": 4,
      "outputs": [
        {
          "output_type": "stream",
          "text": [
            "[0.0, 0.0, 0.0, 0.0, 0.0, 0.0, 0.0]\n",
            "[12.3, 32.3, 42.3, 172.3, 124.3, 12.23, 123.3]\n"
          ],
          "name": "stdout"
        }
      ]
    },
    {
      "cell_type": "code",
      "metadata": {
        "colab": {
          "base_uri": "https://localhost:8080/"
        },
        "id": "uw4Dc2D0l_uI",
        "outputId": "e81fd315-68d5-4c45-bda2-45d47b625516"
      },
      "source": [
        "s = [0.0 for x  in range(7)] # generador de python, genera los espacios\r\n",
        "for j in range (7): #este for recorre los lugares y los va llenando\r\n",
        "  s[j] = float(input(\"Introduce un sueldo: \"))\r\n",
        "print(s)\r\n"
      ],
      "execution_count": 9,
      "outputs": [
        {
          "output_type": "stream",
          "text": [
            "[0.0, 0.0, 0.0, 0.0, 0.0, 0.0]\n"
          ],
          "name": "stdout"
        }
      ]
    },
    {
      "cell_type": "code",
      "metadata": {
        "colab": {
          "base_uri": "https://localhost:8080/"
        },
        "id": "06zc4oPim5wE",
        "outputId": "2a1f6b3a-d636-42e5-d7fe-b8dc4ff29fd9"
      },
      "source": [
        "#NÚMEROS CONTINUOS EN UN ARREGLO\r\n",
        "sueldo = [float(x) for x in range(7)]\r\n",
        "for i in range(0, 7):\r\n",
        "    sueldo[i] = float(i)+1.0\r\n",
        "print(sueldo)\r\n",
        "\r\n",
        "#AUTOMATIZAR EL RECORRIDO DE LOS ELEMENTOS DEL ARREGLO\r\n",
        "for  i in range(7):\r\n",
        "  print(f\"EL TRABAJADOR {int(i)+1} GANA ${ sueldo[i] }\")"
      ],
      "execution_count": 14,
      "outputs": [
        {
          "output_type": "stream",
          "text": [
            "[1.0, 2.0, 3.0, 4.0, 5.0, 6.0, 7.0]\n",
            "EL TRABAJADOR 1 GANA $1.0\n",
            "EL TRABAJADOR 2 GANA $2.0\n",
            "EL TRABAJADOR 3 GANA $3.0\n",
            "EL TRABAJADOR 4 GANA $4.0\n",
            "EL TRABAJADOR 5 GANA $5.0\n",
            "EL TRABAJADOR 6 GANA $6.0\n",
            "EL TRABAJADOR 7 GANA $7.0\n"
          ],
          "name": "stdout"
        }
      ]
    },
    {
      "cell_type": "code",
      "metadata": {
        "colab": {
          "base_uri": "https://localhost:8080/"
        },
        "id": "qmh1QMlvowDd",
        "outputId": "ea90d453-7d2b-4b25-bfcd-189dc9c83ac5"
      },
      "source": [
        "#EJEMPLO 4.1\r\n",
        "MAXIMO = 7\r\n",
        "sueldos = [ 0.0 for x in range(MAXIMO) ]\r\n",
        "suma = 0.0\r\n",
        "promedio = 0.0\r\n",
        "\r\n",
        "for i in range(MAXIMO):\r\n",
        "  sueldos[i] = float(input(\"DAME EL SUELDO: \"))\r\n",
        "\r\n",
        "for i in range(MAXIMO):\r\n",
        "  print (f\"TRABAJADOR {i+1} ,gana : {sueldos[i]}\")\r\n",
        "\r\n",
        "for i in range(MAXIMO):\r\n",
        "  suma += sueldos[i]\r\n",
        "\r\n",
        "promedio = suma/MAXIMO\r\n",
        "\r\n",
        "print(f\"EL PROMEDIO DE SUELDO ES ${promedio}\")\r\n",
        "\r\n",
        "for i in range(MAXIMO):\r\n",
        "  if (sueldos[i] > promedio):\r\n",
        "    print(f\"EL TRABAJADOR {i+1} tiene un sueldo mayor al promedio\")"
      ],
      "execution_count": 19,
      "outputs": [
        {
          "output_type": "stream",
          "text": [
            "DAME EL SUELDO: 4\n",
            "DAME EL SUELDO: 5\n",
            "DAME EL SUELDO: 4\n",
            "DAME EL SUELDO: 5\n",
            "DAME EL SUELDO: 4\n",
            "DAME EL SUELDO: 5\n",
            "DAME EL SUELDO: 4\n",
            "TRABAJADOR 1 ,gana : 4.0\n",
            "TRABAJADOR 2 ,gana : 5.0\n",
            "TRABAJADOR 3 ,gana : 4.0\n",
            "TRABAJADOR 4 ,gana : 5.0\n",
            "TRABAJADOR 5 ,gana : 4.0\n",
            "TRABAJADOR 6 ,gana : 5.0\n",
            "TRABAJADOR 7 ,gana : 4.0\n",
            "EL PROMEDIO DE SUELDO ES $4.428571428571429\n",
            "EL TRABAJADOR 2 tiene un sueldo mayor al promedio\n",
            "EL TRABAJADOR 4 tiene un sueldo mayor al promedio\n",
            "EL TRABAJADOR 6 tiene un sueldo mayor al promedio\n"
          ],
          "name": "stdout"
        }
      ]
    },
    {
      "cell_type": "code",
      "metadata": {
        "colab": {
          "base_uri": "https://localhost:8080/"
        },
        "id": "iF1Ma9Znsu61",
        "outputId": "4b4382f0-b10a-49ef-ecfa-bd12597e8e93"
      },
      "source": [
        "#Hacer un programa que solicite 5 valores enteros positivos y \r\n",
        "#una vez que se capturen por teclado, el programa determine:\r\n",
        "# 1.-cuál es el de mayor valor\r\n",
        "# 2.-cuál es el menor\r\n",
        "# 3.-cuál es el promedio\r\n",
        "\r\n",
        "MAY = 0\r\n",
        "MEN = 1000000000\r\n",
        "RAN=5\r\n",
        "sum= 0\r\n",
        "valores = [ 0 for x in range(RAN)]\r\n",
        "\r\n",
        "for i in range(RAN):\r\n",
        "  valores[i] = float(input(\"DAME EL SUELDO: \"))\r\n",
        "  if (valores[i] > MAY):\r\n",
        "    MAY = valores [i]\r\n",
        "  elif (valores[i] <MEN):\r\n",
        "    MEN = valores [i]\r\n",
        "  sum += valores[i]\r\n",
        "promedio = sum/RAN \r\n",
        "\r\n",
        "print(f\"MAYOR VALOR: {MAY}\")\r\n",
        "print(f\"MENOR VALOR: {MEN}\")\r\n",
        "print(f\"PROMEDIO: {promedio}\")\r\n",
        "\r\n",
        "\r\n"
      ],
      "execution_count": 22,
      "outputs": [
        {
          "output_type": "stream",
          "text": [
            "DAME EL SUELDO: 45\n",
            "DAME EL SUELDO: 3\n",
            "DAME EL SUELDO: 432\n",
            "DAME EL SUELDO: 56\n",
            "DAME EL SUELDO: 76\n",
            "MAYOR VALOR: 432.0\n",
            "MENOR VALOR: 3.0\n",
            "PROMEDIO: 122.4\n"
          ],
          "name": "stdout"
        }
      ]
    },
    {
      "cell_type": "code",
      "metadata": {
        "colab": {
          "base_uri": "https://localhost:8080/",
          "height": 350
        },
        "id": "6veqsbCQvrh_",
        "outputId": "f579fbe9-d51a-46d2-d3ff-38774c8701eb"
      },
      "source": [
        "#PROBLEMA 4.1\r\n",
        "N = int(input(\"INGRESE NÚMERO DE ELEMENTOS DEL ARREGLO: \"))\r\n",
        "VEC = []\r\n",
        "if (1 <= N and N <= 500):\r\n",
        "  VEC = [0 for x in range(N)]\r\n",
        "  for i in range(N):\r\n",
        "    VEC [i]= int(input(f\"Ingrese valor {i+1}: \"))\r\n",
        "  print(\"Lista de números sin repeticiones\")\r\n",
        "  i=1\r\n",
        "  while (i <= N):\r\n",
        "    print(VEC[i])\r\n",
        "    REPET = VEC[i]\r\n",
        "    while (i <= N and REPET == VEC [i]):\r\n",
        "      i +=1\r\n",
        "\r\n",
        "  #for i in range(N):\r\n",
        "   # print(VEC[i])\r\n",
        "    #REPET = VEC [i]\r\n",
        "    #while (i <= N and REPET == VEC [i]):\r\n",
        "     # i +=1'''\r\n",
        "\r\n",
        "#3\r\n",
        "else:\r\n",
        "  print(\"El número de elementos del arreglo es incorrecto\")\r\n"
      ],
      "execution_count": 35,
      "outputs": [
        {
          "output_type": "stream",
          "text": [
            "INGRESE NÚMERO DE ELEMENTOS DEL ARREGLO: 3\n",
            "Ingrese valor 1: 2\n",
            "Ingrese valor 2: 2\n",
            "Ingrese valor 3: 4\n",
            "Lista de números sin repeticiones\n",
            "2\n",
            "4\n"
          ],
          "name": "stdout"
        },
        {
          "output_type": "error",
          "ename": "IndexError",
          "evalue": "ignored",
          "traceback": [
            "\u001b[0;31m---------------------------------------------------------------------------\u001b[0m",
            "\u001b[0;31mIndexError\u001b[0m                                Traceback (most recent call last)",
            "\u001b[0;32m<ipython-input-35-64eadeb37ec9>\u001b[0m in \u001b[0;36m<module>\u001b[0;34m()\u001b[0m\n\u001b[1;32m     11\u001b[0m     \u001b[0mprint\u001b[0m\u001b[0;34m(\u001b[0m\u001b[0mVEC\u001b[0m\u001b[0;34m[\u001b[0m\u001b[0mi\u001b[0m\u001b[0;34m]\u001b[0m\u001b[0;34m)\u001b[0m\u001b[0;34m\u001b[0m\u001b[0;34m\u001b[0m\u001b[0m\n\u001b[1;32m     12\u001b[0m     \u001b[0mREPET\u001b[0m \u001b[0;34m=\u001b[0m \u001b[0mVEC\u001b[0m\u001b[0;34m[\u001b[0m\u001b[0mi\u001b[0m\u001b[0;34m]\u001b[0m\u001b[0;34m\u001b[0m\u001b[0;34m\u001b[0m\u001b[0m\n\u001b[0;32m---> 13\u001b[0;31m     \u001b[0;32mwhile\u001b[0m \u001b[0;34m(\u001b[0m\u001b[0mi\u001b[0m \u001b[0;34m<=\u001b[0m \u001b[0mN\u001b[0m \u001b[0;32mand\u001b[0m \u001b[0mREPET\u001b[0m \u001b[0;34m==\u001b[0m \u001b[0mVEC\u001b[0m \u001b[0;34m[\u001b[0m\u001b[0mi\u001b[0m\u001b[0;34m]\u001b[0m\u001b[0;34m)\u001b[0m\u001b[0;34m:\u001b[0m\u001b[0;34m\u001b[0m\u001b[0;34m\u001b[0m\u001b[0m\n\u001b[0m\u001b[1;32m     14\u001b[0m       \u001b[0mi\u001b[0m \u001b[0;34m+=\u001b[0m\u001b[0;36m1\u001b[0m\u001b[0;34m\u001b[0m\u001b[0;34m\u001b[0m\u001b[0m\n\u001b[1;32m     15\u001b[0m \u001b[0;34m\u001b[0m\u001b[0m\n",
            "\u001b[0;31mIndexError\u001b[0m: list index out of range"
          ]
        }
      ]
    },
    {
      "cell_type": "code",
      "metadata": {
        "id": "H4AI7hXc6awk"
      },
      "source": [
        "#OTRA SOLUCIÓN\r\n",
        "lista = []\r\n",
        "conjunto = []\r\n",
        "ultimo = 0.0\r\n",
        "numero_dato = int(input(\"Numero de datos: \"))\r\n",
        "for i in range(numero_dato):\r\n",
        "    lista.append(float(input(\"Dato: \")))\r\n",
        "conjunto.append(lista[0])\r\n",
        "ultimo = lista[0]\r\n",
        "for index, i in enumerate(lista):\r\n",
        "    if ultimo != i:\r\n",
        "        conjunto.append(i)\r\n",
        "        ultimo = i\r\n",
        "print(lista)\r\n",
        "print(conjunto)"
      ],
      "execution_count": null,
      "outputs": []
    }
  ]
}