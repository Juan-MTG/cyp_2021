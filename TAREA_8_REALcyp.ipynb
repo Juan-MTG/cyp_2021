{
  "nbformat": 4,
  "nbformat_minor": 0,
  "metadata": {
    "colab": {
      "name": "TAREA_8_REALcyp.ipynb",
      "provenance": [],
      "collapsed_sections": [],
      "authorship_tag": "ABX9TyN3wOV5FQM3UJpiPE8bDU/a",
      "include_colab_link": true
    },
    "kernelspec": {
      "name": "python3",
      "display_name": "Python 3"
    }
  },
  "cells": [
    {
      "cell_type": "markdown",
      "metadata": {
        "id": "view-in-github",
        "colab_type": "text"
      },
      "source": [
        "<a href=\"https://colab.research.google.com/github/Juan-MTG/cyp_2021/blob/main/TAREA_8_REALcyp.ipynb\" target=\"_parent\"><img src=\"https://colab.research.google.com/assets/colab-badge.svg\" alt=\"Open In Colab\"/></a>"
      ]
    },
    {
      "cell_type": "code",
      "metadata": {
        "colab": {
          "base_uri": "https://localhost:8080/"
        },
        "id": "AxhPWGjWuJod",
        "outputId": "2db289c4-bb75-45e8-80ed-06709b1e998e"
      },
      "source": [
        "print(\"\\t\\u259B\\u2598\\u2598\\u2598\\u2598\\u2598\\u2598\\u2598\\u2598\\u2598\",end=\"\")\r\n",
        "print(\"\\u2598\\u2598\\u2598\\u2598\\u2598\\u2598\\u2598\\u2598\\u2598\\u2598\",end=\"\")\r\n",
        "print(\"\\u2598\\u2598\\u2598\\u2598\\u2598\\u2598\\u2598\\u2598\\u2598\\u2598\",end=\"\")\r\n",
        "print(\"\\u2598\\u2598\\u2598\\u2598\\u2598\\u2598\\u2598\\u2598\",end=\"\")\r\n",
        "print(\"\\u259C\")\r\n",
        "#letras\r\n",
        "print(\"\\t\\u258D\\t\\u2761\\u2761\\u2761\\u2761\\u2761\\u2761\\u2761\\u2761\\u2761\",end=\"\")\r\n",
        "print(\"     \\u2761\\u2761\\u2761   \\u2761\\u2761\\u2761\",end=\"\")#U\r\n",
        "print(\"     \\u2761\\u2761\\u2761\\u2761\\u2761\",end=\"\")\r\n",
        "print(\"       \\u2761\\u2761\\u2761\\u2761      \\u2761\\u2761\\u2761\\u2761\",end=\"\")#N\r\n",
        "print(\"   \\u258D\")#fin primera linea\r\n",
        "print(\"\\t\\u258D\\t   \\u2761\\u2761\\u2761\",end=\"\")#J\r\n",
        "print(\"        \\u2761\\u2761\\u2761   \\u2761\\u2761\\u2761\",end=\"\")#U\r\n",
        "print(\"    \\u2761\\u2761\\u2761 \\u2761\\u2761\\u2761\",end=\"\")#A\r\n",
        "print(\"      \\u2761\\u2761\\u2761\\u2761\\u2761     \\u2761\\u2761\\u2761\\u2761\",end=\"\")#N\r\n",
        "print(\"   \\u258D\")#fin segunda linea\r\n",
        "print(\"\\t\\u258D\\t   \\u2761\\u2761\\u2761\",end=\"\")#J\r\n",
        "print(\"        \\u2761\\u2761\\u2761   \\u2761\\u2761\\u2761 \",end=\"\")#U\r\n",
        "print(\"  \\u2761\\u2761\\u2761   \\u2761\\u2761\\u2761\",end=\"\")#A\r\n",
        "print(\"     \\u2761\\u2761\\u2761\\u2761\\u2761\\u2761\\u2761   \\u2761\\u2761\\u2761\\u2761\",end=\"\")#N\r\n",
        "print(\"   \\u258D\")#fin tercer linea\r\n",
        "print(\"\\t\\u258D\\t   \\u2761\\u2761\\u2761\",end=\"\")#J\r\n",
        "print(\"        \\u2761\\u2761\\u2761   \\u2761\\u2761\\u2761\",end=\"\")#U\r\n",
        "print(\"   \\u2761\\u2761\\u2761\\u2761\\u2761\\u2761\\u2761\\u2761\\u2761\",end=\"\")#A\r\n",
        "print(\"     \\u2761\\u2761\\u2761\\u2761 \\u2761\\u2761\\u2761  \\u2761\\u2761\\u2761\\u2761\",end=\"\")#N\r\n",
        "print(\"   \\u258D\")#fin cuarta linea\r\n",
        "print(\"\\t\\u258D     \\u2761\\u2761\\u2761 \\u2761\\u2761\\u2761\",end=\"\")#J\r\n",
        "print(\"         \\u2761\\u2761\\u2761\\u2761\\u2761\\u2761\\u2761\",end=\"\")#U\r\n",
        "print(\"    \\u2761\\u2761\\u2761   \\u2761\\u2761\\u2761\",end=\"\")#A\r\n",
        "print(\"     \\u2761\\u2761\\u2761\\u2761  \\u2761\\u2761\\u2761 \\u2761\\u2761\\u2761\\u2761\",end=\"\")#N\r\n",
        "print(\"   \\u258D\")#fin quinta linea\r\n",
        "print(\"\\t\\u258D     \\u2761\\u2761\\u2761\\u2761\\u2761\\u2761\\u2761\",end=\"\")#J\r\n",
        "print(\"          \\u2761\\u2761\\u2761\\u2761\\u2761\",end=\"\")#U\r\n",
        "print(\"     \\u2761\\u2761\\u2761   \\u2761\\u2761\\u2761\",end=\"\")#A\r\n",
        "print(\"     \\u2761\\u2761\\u2761\\u2761   \\u2761\\u2761\\u2761\\u2761\\u2761\\u2761\\u2761\",end=\"\")#N\r\n",
        "print(\"   \\u258D\")#fin sexta linea\r\n",
        "print(\"\\t\\u2599\\u2597\\u2597\\u2597\\u2597\\u2597\\u2597\\u2597\\u2597\\u2597\",end=\"\")\r\n",
        "print(\"\\u2597\\u2597\\u2597\\u2597\\u2597\\u2597\\u2597\\u2597\\u2597\\u2597\",end=\"\")\r\n",
        "print(\"\\u2597\\u2597\\u2597\\u2597\\u2597\\u2597\\u2597\\u2597\\u2597\\u2597\",end=\"\")\r\n",
        "print(\"\\u2597\\u2597\\u2597\\u2597\\u2597\\u2597\\u2597\\u2597\\u259F\")\r\n",
        "#fin séptima linea (MARCO)\r\n",
        "\r\n"
      ],
      "execution_count": 330,
      "outputs": [
        {
          "output_type": "stream",
          "text": [
            "\t▛▘▘▘▘▘▘▘▘▘▘▘▘▘▘▘▘▘▘▘▘▘▘▘▘▘▘▘▘▘▘▘▘▘▘▘▘▘▜\n",
            "\t▍\t❡❡❡❡❡❡❡❡❡     ❡❡❡   ❡❡❡     ❡❡❡❡❡       ❡❡❡❡      ❡❡❡❡   ▍\n",
            "\t▍\t   ❡❡❡        ❡❡❡   ❡❡❡    ❡❡❡ ❡❡❡      ❡❡❡❡❡     ❡❡❡❡   ▍\n",
            "\t▍\t   ❡❡❡        ❡❡❡   ❡❡❡   ❡❡❡   ❡❡❡     ❡❡❡❡❡❡❡   ❡❡❡❡   ▍\n",
            "\t▍\t   ❡❡❡        ❡❡❡   ❡❡❡   ❡❡❡❡❡❡❡❡❡     ❡❡❡❡ ❡❡❡  ❡❡❡❡   ▍\n",
            "\t▍     ❡❡❡ ❡❡❡         ❡❡❡❡❡❡❡    ❡❡❡   ❡❡❡     ❡❡❡❡  ❡❡❡ ❡❡❡❡   ▍\n",
            "\t▍     ❡❡❡❡❡❡❡          ❡❡❡❡❡     ❡❡❡   ❡❡❡     ❡❡❡❡   ❡❡❡❡❡❡❡   ▍\n",
            "\t▙▗▗▗▗▗▗▗▗▗▗▗▗▗▗▗▗▗▗▗▗▗▗▗▗▗▗▗▗▗▗▗▗▗▗▗▗▗▟\n"
          ],
          "name": "stdout"
        }
      ]
    }
  ]
}