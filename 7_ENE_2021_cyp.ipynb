{
  "nbformat": 4,
  "nbformat_minor": 0,
  "metadata": {
    "colab": {
      "name": "7_ENE_2021_cyp.ipynb",
      "provenance": [],
      "authorship_tag": "ABX9TyPAl8buONLX8f8LuReYWKPc",
      "include_colab_link": true
    },
    "kernelspec": {
      "name": "python3",
      "display_name": "Python 3"
    }
  },
  "cells": [
    {
      "cell_type": "markdown",
      "metadata": {
        "id": "view-in-github",
        "colab_type": "text"
      },
      "source": [
        "<a href=\"https://colab.research.google.com/github/Juan-MTG/cyp_2021/blob/main/7_ENE_2021_cyp.ipynb\" target=\"_parent\"><img src=\"https://colab.research.google.com/assets/colab-badge.svg\" alt=\"Open In Colab\"/></a>"
      ]
    },
    {
      "cell_type": "code",
      "metadata": {
        "colab": {
          "base_uri": "https://localhost:8080/"
        },
        "id": "SJgubc8R8gD-",
        "outputId": "3d5975b3-3488-45e4-8849-2855a56cb652"
      },
      "source": [
        "#EJEMPLO 4.6 -----PAG 210\r\n",
        "#ARREGLO BIDIMENSIONAL\r\n",
        "#ASÍ QUEDA EN MEMORIA\r\n",
        "\r\n",
        "ren = 3\r\n",
        "col = 5\r\n",
        "VEC = [[0 for x in range(col)] for x in range(ren)]\r\n",
        "print(VEC)\r\n",
        "VEC[1][2]=15\r\n",
        "print(VEC)\r\n",
        "\r\n",
        "print(\"\\n AUTOMATIZAR EL RECORRIDO DEL ARREGLO\")\r\n",
        "for i in range(ren):\r\n",
        "  for j in range(col):\r\n",
        "    print(f\"{i},{j} = {VEC[i][j]}\")"
      ],
      "execution_count": 7,
      "outputs": [
        {
          "output_type": "stream",
          "text": [
            "[[0, 0, 0, 0, 0], [0, 0, 0, 0, 0], [0, 0, 0, 0, 0]]\n",
            "[[0, 0, 0, 0, 0], [0, 0, 15, 0, 0], [0, 0, 0, 0, 0]]\n",
            "\n",
            " AUTOMATIZAR EL RECORRIDO DEL ARREGLO\n",
            "0,0 = 0\n",
            "0,1 = 0\n",
            "0,2 = 0\n",
            "0,3 = 0\n",
            "0,4 = 0\n",
            "1,0 = 0\n",
            "1,1 = 0\n",
            "1,2 = 15\n",
            "1,3 = 0\n",
            "1,4 = 0\n",
            "2,0 = 0\n",
            "2,1 = 0\n",
            "2,2 = 0\n",
            "2,3 = 0\n",
            "2,4 = 0\n"
          ],
          "name": "stdout"
        }
      ]
    },
    {
      "cell_type": "code",
      "metadata": {
        "colab": {
          "base_uri": "https://localhost:8080/"
        },
        "id": "xU7CbHFKBsfP",
        "outputId": "fd389919-451c-4080-b356-8bae8732d416"
      },
      "source": [
        "#EJEMPLO 4.6----- PAG 210\r\n",
        "\r\n",
        "estados= int (input(\"Cuantos estados son?: \"))\r\n",
        "LLUVIAS= [ [0 for x in range(12)] for x in range(estados)]\r\n",
        "print(LLUVIAS)\r\n",
        "for i in range(estados):\r\n",
        "  for j in range(12):\r\n",
        "    aux = int(input(f\"dame el valor del estado {i+1} y mes {j+1} : \"))\r\n",
        "    LLUVIAS[i][j] = aux\r\n",
        "\r\n",
        "print(LLUVIAS)\r\n",
        "\r\n",
        "print(\"PROMEDIO DE LLUVIAS EN LOS ESTADOS\")\r\n",
        "suma= 0\r\n",
        "for i in range(estados):\r\n",
        "  suma = 0\r\n",
        "  for j in range(12):\r\n",
        "    suma += LLUVIAS[i][j] #Aquí se suman las lluvias de los estados o por decirlo los renglones\r\n",
        "  print(f\"EL PROMEDIO DE LLUVIAS EN EL ESTADO {i+1} es {suma/12}\")"
      ],
      "execution_count": 15,
      "outputs": [
        {
          "output_type": "stream",
          "text": [
            "Cuantos estados son?: 2\n",
            "[[0, 0, 0, 0, 0, 0, 0, 0, 0, 0, 0, 0], [0, 0, 0, 0, 0, 0, 0, 0, 0, 0, 0, 0]]\n",
            "dame el valor del estado 1 y mes 1 : 23\n",
            "dame el valor del estado 1 y mes 2 : 84\n",
            "dame el valor del estado 1 y mes 3 : 483\n",
            "dame el valor del estado 1 y mes 4 : 84\n",
            "dame el valor del estado 1 y mes 5 : 54\n",
            "dame el valor del estado 1 y mes 6 : 23\n",
            "dame el valor del estado 1 y mes 7 : 43\n",
            "dame el valor del estado 1 y mes 8 : 44\n",
            "dame el valor del estado 1 y mes 9 : 212\n",
            "dame el valor del estado 1 y mes 10 : 32\n",
            "dame el valor del estado 1 y mes 11 : 34\n",
            "dame el valor del estado 1 y mes 12 : 54\n",
            "dame el valor del estado 2 y mes 1 : 32\n",
            "dame el valor del estado 2 y mes 2 : 45\n",
            "dame el valor del estado 2 y mes 3 : 67\n",
            "dame el valor del estado 2 y mes 4 : 54\n",
            "dame el valor del estado 2 y mes 5 : 56\n",
            "dame el valor del estado 2 y mes 6 : 43\n",
            "dame el valor del estado 2 y mes 7 : 44\n",
            "dame el valor del estado 2 y mes 8 : 34\n",
            "dame el valor del estado 2 y mes 9 : 65\n",
            "dame el valor del estado 2 y mes 10 : 89\n",
            "dame el valor del estado 2 y mes 11 : 54\n",
            "dame el valor del estado 2 y mes 12 : 32\n",
            "[[23, 84, 483, 84, 54, 23, 43, 44, 212, 32, 34, 54], [32, 45, 67, 54, 56, 43, 44, 34, 65, 89, 54, 32]]\n",
            "PROMEDIO DE LLUVIAS EN LOS ESTADOS\n",
            "EL PROMEDIO DE LLUVIAS EN EL ESTADO 1 es 97.5\n",
            "EL PROMEDIO DE LLUVIAS EN EL ESTADO 2 es 51.25\n"
          ],
          "name": "stdout"
        }
      ]
    }
  ]
}